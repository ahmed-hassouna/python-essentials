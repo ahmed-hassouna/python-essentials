{
  "nbformat": 4,
  "nbformat_minor": 0,
  "metadata": {
    "colab": {
      "provenance": []
    },
    "kernelspec": {
      "name": "python3",
      "display_name": "Python 3"
    },
    "language_info": {
      "name": "python"
    }
  },
  "cells": [
    {
      "cell_type": "markdown",
      "source": [
        "#**Numpy Basics**"
      ],
      "metadata": {
        "id": "k931Oyqf9vHy"
      }
    },
    {
      "cell_type": "code",
      "execution_count": null,
      "metadata": {
        "id": "0PdN3RN4yjar"
      },
      "outputs": [],
      "source": [
        "import numpy as np"
      ]
    },
    {
      "cell_type": "code",
      "source": [
        "one_dimensional_arr = np.array([10, 12])\n",
        "one_dimensional_arr"
      ],
      "metadata": {
        "colab": {
          "base_uri": "https://localhost:8080/"
        },
        "id": "aCSLTLXD0WaT",
        "outputId": "e42c275a-86cf-4ba0-d150-bef5cc703876"
      },
      "execution_count": null,
      "outputs": [
        {
          "output_type": "execute_result",
          "data": {
            "text/plain": [
              "array([10, 12])"
            ]
          },
          "metadata": {},
          "execution_count": 2
        }
      ]
    },
    {
      "cell_type": "code",
      "source": [
        "a = np.ndarray([3,2,3]) #3d array depth of 3 width of2 and hight of 3\n",
        "a"
      ],
      "metadata": {
        "colab": {
          "base_uri": "https://localhost:8080/"
        },
        "id": "iNBs5CU72h5b",
        "outputId": "1af9a4fe-0c9f-4109-c129-96929f7d8456"
      },
      "execution_count": null,
      "outputs": [
        {
          "output_type": "execute_result",
          "data": {
            "text/plain": [
              "array([[[2.28894947e-316, 0.00000000e+000, 0.00000000e+000],\n",
              "        [0.00000000e+000, 0.00000000e+000, 0.00000000e+000]],\n",
              "\n",
              "       [[0.00000000e+000, 0.00000000e+000, 0.00000000e+000],\n",
              "        [0.00000000e+000, 0.00000000e+000, 0.00000000e+000]]])"
            ]
          },
          "metadata": {},
          "execution_count": 4
        }
      ]
    },
    {
      "cell_type": "markdown",
      "source": [
        "### When creating a NumPy array, it's usually better to use functions like np.zeros(), np.ones(), or np.array() instead of np.ndarray() because they initialize values properly."
      ],
      "metadata": {
        "id": "54vtRru948zg"
      }
    },
    {
      "cell_type": "markdown",
      "source": [
        "# np.zeros()\n",
        "Creates an array filled with zeros"
      ],
      "metadata": {
        "id": "s9b_0aVv5Lat"
      }
    },
    {
      "cell_type": "code",
      "source": [
        "import numpy as np\n",
        "a = np.zeros((1, 2, 3))  # Shape (1, 2, 3) filled with zeros\n",
        "print(a)"
      ],
      "metadata": {
        "colab": {
          "base_uri": "https://localhost:8080/"
        },
        "id": "qnjpffK52t6-",
        "outputId": "51cc75b6-58b6-4155-8229-7cc21faed6eb"
      },
      "execution_count": null,
      "outputs": [
        {
          "output_type": "stream",
          "name": "stdout",
          "text": [
            "[[[0. 0. 0.]\n",
            "  [0. 0. 0.]]]\n"
          ]
        }
      ]
    },
    {
      "cell_type": "code",
      "source": [
        "a+2"
      ],
      "metadata": {
        "colab": {
          "base_uri": "https://localhost:8080/"
        },
        "id": "Ezspo4sN6M6c",
        "outputId": "18a2ed52-cfc9-4e97-9747-bf2ecfa5ca65"
      },
      "execution_count": null,
      "outputs": [
        {
          "output_type": "execute_result",
          "data": {
            "text/plain": [
              "array([[[2., 2., 2.],\n",
              "        [2., 2., 2.]]])"
            ]
          },
          "metadata": {},
          "execution_count": 10
        }
      ]
    },
    {
      "cell_type": "code",
      "source": [
        "import numpy as np\n",
        "a = np.ones((2, 3))  # Creates a (2,3) array filled with ones\n",
        "print(a)\n"
      ],
      "metadata": {
        "colab": {
          "base_uri": "https://localhost:8080/"
        },
        "id": "xvj7mo2-6tDx",
        "outputId": "6bc40c01-4cb4-4805-9a8e-32c6ddfec02e"
      },
      "execution_count": null,
      "outputs": [
        {
          "output_type": "stream",
          "name": "stdout",
          "text": [
            "[[1. 1. 1.]\n",
            " [1. 1. 1.]]\n"
          ]
        }
      ]
    },
    {
      "cell_type": "code",
      "source": [
        "import numpy as np\n",
        "a = np.ones_like(a)  # Creates a (2,3) array filled with ones\n",
        "print(a)\n"
      ],
      "metadata": {
        "colab": {
          "base_uri": "https://localhost:8080/"
        },
        "id": "AuBXL8bB68k2",
        "outputId": "fa9d960b-d593-4148-eb6d-a4c8d195ea20"
      },
      "execution_count": null,
      "outputs": [
        {
          "output_type": "stream",
          "name": "stdout",
          "text": [
            "[[1. 1. 1.]\n",
            " [1. 1. 1.]]\n"
          ]
        }
      ]
    },
    {
      "cell_type": "markdown",
      "source": [
        "# np.zeros_like()\n",
        " is a NumPy function that creates a new array of the same shape and dtype as a given array, but filled with zeros.\n",
        "\n"
      ],
      "metadata": {
        "id": "wUFa2CdH5-i6"
      }
    },
    {
      "cell_type": "code",
      "source": [
        "b= np.zeros_like(a)\n",
        "b"
      ],
      "metadata": {
        "id": "Wxq1eCGH5ekb"
      },
      "execution_count": null,
      "outputs": []
    },
    {
      "cell_type": "markdown",
      "source": [
        "#np.arange().\n",
        "This function will return an array of evenly spaced values within a given interval.numpy.arange(start, stop, step, dtype=None)\n"
      ],
      "metadata": {
        "id": "0JvajAtR6Q_s"
      }
    },
    {
      "cell_type": "code",
      "source": [
        "#creating  a random array of shape n*m using np.arange()"
      ],
      "metadata": {
        "colab": {
          "base_uri": "https://localhost:8080/"
        },
        "id": "FMcrw-ng6W0w",
        "outputId": "6e3bef89-3fc5-4f91-c753-3ba24a408557"
      },
      "execution_count": null,
      "outputs": [
        {
          "output_type": "execute_result",
          "data": {
            "text/plain": [
              "array([1, 3, 5, 7, 9])"
            ]
          },
          "metadata": {},
          "execution_count": 15
        }
      ]
    },
    {
      "cell_type": "code",
      "source": [
        "np.arange(1,11).reshape(1,10)"
      ],
      "metadata": {
        "colab": {
          "base_uri": "https://localhost:8080/"
        },
        "id": "h_3JaHCM7erm",
        "outputId": "7aa120cc-1f14-4a76-f15e-b9d8b221b655"
      },
      "execution_count": null,
      "outputs": [
        {
          "output_type": "execute_result",
          "data": {
            "text/plain": [
              "array([[ 1,  2,  3,  4,  5,  6,  7,  8,  9, 10]])"
            ]
          },
          "metadata": {},
          "execution_count": 19
        }
      ]
    },
    {
      "cell_type": "code",
      "source": [
        "np.arange(1,11).reshape(2,5)"
      ],
      "metadata": {
        "colab": {
          "base_uri": "https://localhost:8080/"
        },
        "id": "ExlRBBqf77ln",
        "outputId": "ba403d31-7bce-4532-b1fe-b48518b8a1d6"
      },
      "execution_count": null,
      "outputs": [
        {
          "output_type": "execute_result",
          "data": {
            "text/plain": [
              "array([[ 1,  2,  3,  4,  5],\n",
              "       [ 6,  7,  8,  9, 10]])"
            ]
          },
          "metadata": {},
          "execution_count": 20
        }
      ]
    },
    {
      "cell_type": "markdown",
      "source": [
        "#np.full()\n",
        "Creates an array filled with a specific value\n"
      ],
      "metadata": {
        "id": "zRP5sD_68fYA"
      }
    },
    {
      "cell_type": "code",
      "source": [
        "a = np.full((1, 2, 3), 7)  # Shape (1, 2, 3) filled with 7s\n",
        "print(a)"
      ],
      "metadata": {
        "colab": {
          "base_uri": "https://localhost:8080/"
        },
        "id": "zBQWqUaX8E5T",
        "outputId": "f9e79ecc-ff6f-4f41-daae-cd88c31e725d"
      },
      "execution_count": null,
      "outputs": [
        {
          "output_type": "stream",
          "name": "stdout",
          "text": [
            "[[[7 7 7]\n",
            "  [7 7 7]]]\n"
          ]
        }
      ]
    },
    {
      "cell_type": "code",
      "source": [
        "a = np.empty((1, 2, 3))  # Shape (1, 2, 3) filled with 7s\n",
        "print(a)"
      ],
      "metadata": {
        "colab": {
          "base_uri": "https://localhost:8080/"
        },
        "id": "iUMrhVJu96Xs",
        "outputId": "50a8afe3-849c-4e5f-ed3b-a9cacff7fda8"
      },
      "execution_count": null,
      "outputs": [
        {
          "output_type": "stream",
          "name": "stdout",
          "text": [
            "[[[1. 1. 1.]\n",
            "  [1. 1. 1.]]]\n"
          ]
        }
      ]
    },
    {
      "cell_type": "markdown",
      "source": [
        "# np.empty()\n",
        " creates a new array without initializing its values, meaning it contains random garbage values from memory you can determine the data type of these randaom values"
      ],
      "metadata": {
        "id": "myZdHInX-TPR"
      }
    },
    {
      "cell_type": "code",
      "source": [
        "a = np.empty((2, 3), dtype=int) #type is int\n",
        "print(a)"
      ],
      "metadata": {
        "colab": {
          "base_uri": "https://localhost:8080/"
        },
        "id": "vIM63-Ld9-eB",
        "outputId": "22d191cb-5c45-4703-d071-53a77de827eb"
      },
      "execution_count": null,
      "outputs": [
        {
          "output_type": "stream",
          "name": "stdout",
          "text": [
            "[[4607182418800017408 4607182418800017408 4607182418800017408]\n",
            " [4607182418800017408 4607182418800017408 4607182418800017408]]\n"
          ]
        }
      ]
    },
    {
      "cell_type": "code",
      "source": [
        "a = np.empty_like((b), dtype=float)\n",
        "print(a)"
      ],
      "metadata": {
        "colab": {
          "base_uri": "https://localhost:8080/"
        },
        "id": "7eEpNrSq-lKx",
        "outputId": "a0dc8b00-4e57-4a5b-b56b-5b5850180d6f"
      },
      "execution_count": null,
      "outputs": [
        {
          "output_type": "stream",
          "name": "stdout",
          "text": [
            "[[[3.5e-323 3.5e-323 3.5e-323]\n",
            "  [3.5e-323 3.5e-323 3.5e-323]]]\n"
          ]
        }
      ]
    },
    {
      "cell_type": "markdown",
      "source": [
        "# np.random.rand()\n",
        " - Returns a new array with values chosen at random.\n"
      ],
      "metadata": {
        "id": "k6n-HB-V-zb9"
      }
    },
    {
      "cell_type": "code",
      "source": [
        "# Return a new array of shape 3 with random numbers between 0 and 1.\n",
        "rand_arr = np.random.rand(3,2)\n",
        "print(rand_arr)"
      ],
      "metadata": {
        "colab": {
          "base_uri": "https://localhost:8080/"
        },
        "id": "gWuKvkTr-rMY",
        "outputId": "f67f7556-2989-4325-ee9c-af71bca579b1"
      },
      "execution_count": null,
      "outputs": [
        {
          "output_type": "stream",
          "name": "stdout",
          "text": [
            "[[0.34717108 0.72355301]\n",
            " [0.44216993 0.76602601]\n",
            " [0.97997746 0.62734898]]\n"
          ]
        }
      ]
    },
    {
      "cell_type": "markdown",
      "source": [
        "![image.png](data:image/png;base64,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)"
      ],
      "metadata": {
        "id": "DQ0niVnaup59"
      }
    },
    {
      "cell_type": "code",
      "source": [
        "np.random.random([2,3])# random array betwen 0,1"
      ],
      "metadata": {
        "colab": {
          "base_uri": "https://localhost:8080/"
        },
        "id": "MTQKMeLy_ErU",
        "outputId": "aa28d95e-d3c6-426b-aa5d-a80b29857447"
      },
      "execution_count": null,
      "outputs": [
        {
          "output_type": "execute_result",
          "data": {
            "text/plain": [
              "array([[0.49480929, 0.26916489, 0.742528  ],\n",
              "       [0.59830387, 0.69880158, 0.2218067 ]])"
            ]
          },
          "metadata": {},
          "execution_count": 4
        }
      ]
    },
    {
      "cell_type": "code",
      "source": [
        "np.random.rand(2,3)"
      ],
      "metadata": {
        "colab": {
          "base_uri": "https://localhost:8080/"
        },
        "id": "B9w7RmOXvpgV",
        "outputId": "8f287735-76b0-4ea5-9e1b-84f0bea9d663"
      },
      "execution_count": null,
      "outputs": [
        {
          "output_type": "execute_result",
          "data": {
            "text/plain": [
              "array([[0.43916589, 0.5633784 , 0.97944182],\n",
              "       [0.426875  , 0.92040492, 0.61987641]])"
            ]
          },
          "metadata": {},
          "execution_count": 5
        }
      ]
    },
    {
      "cell_type": "code",
      "source": [
        "np.random.permutation(5)"
      ],
      "metadata": {
        "colab": {
          "base_uri": "https://localhost:8080/"
        },
        "id": "XMq9XVpowxzO",
        "outputId": "bbe95bbc-2ae9-421a-a5ca-d991a1264880"
      },
      "execution_count": null,
      "outputs": [
        {
          "output_type": "execute_result",
          "data": {
            "text/plain": [
              "array([3, 1, 2, 4, 0])"
            ]
          },
          "metadata": {},
          "execution_count": 8
        }
      ]
    },
    {
      "cell_type": "code",
      "source": [
        "#create 5* 5 array with numbers between 1,9 random\n",
        "arr_1 = np.random.randint(1,10,(3,3))\n",
        "arr_1"
      ],
      "metadata": {
        "colab": {
          "base_uri": "https://localhost:8080/"
        },
        "id": "i2eBBnwGyI8C",
        "outputId": "20de48fb-194b-4d77-a7cc-5e8905c16221"
      },
      "execution_count": null,
      "outputs": [
        {
          "output_type": "execute_result",
          "data": {
            "text/plain": [
              "array([[9, 8, 2],\n",
              "       [7, 5, 3],\n",
              "       [1, 6, 2]])"
            ]
          },
          "metadata": {},
          "execution_count": 10
        }
      ]
    },
    {
      "cell_type": "code",
      "source": [
        "a = np.random.permutation(arr_1)\n",
        "a"
      ],
      "metadata": {
        "colab": {
          "base_uri": "https://localhost:8080/"
        },
        "id": "FSA0ajuOypuU",
        "outputId": "f7c76175-9e93-40e2-820a-39d34a6a11d7"
      },
      "execution_count": null,
      "outputs": [
        {
          "output_type": "execute_result",
          "data": {
            "text/plain": [
              "array([[9, 8, 2],\n",
              "       [7, 5, 3],\n",
              "       [1, 6, 2]])"
            ]
          },
          "metadata": {},
          "execution_count": 16
        }
      ]
    },
    {
      "cell_type": "code",
      "source": [
        "np.random.seed(42)   #to generate the same array eaach time\n",
        "np.random.rand(1,5)"
      ],
      "metadata": {
        "colab": {
          "base_uri": "https://localhost:8080/"
        },
        "id": "kEtOqawAziBA",
        "outputId": "a351b0ff-ba1f-4c95-d5d9-1e1d44681658"
      },
      "execution_count": null,
      "outputs": [
        {
          "output_type": "execute_result",
          "data": {
            "text/plain": [
              "array([[0.37454012, 0.95071431, 0.73199394, 0.59865848, 0.15601864]])"
            ]
          },
          "metadata": {},
          "execution_count": 21
        }
      ]
    },
    {
      "cell_type": "code",
      "source": [
        "arr = np.arange(9).reshape((3, 3))\n",
        "#arr =\n",
        "arr"
      ],
      "metadata": {
        "colab": {
          "base_uri": "https://localhost:8080/"
        },
        "id": "5KuqHn800MLs",
        "outputId": "490b3fa1-862f-4c21-a8f4-a8ac0c2e1bb4"
      },
      "execution_count": null,
      "outputs": [
        {
          "output_type": "execute_result",
          "data": {
            "text/plain": [
              "array([[0, 1, 2],\n",
              "       [3, 4, 5],\n",
              "       [6, 7, 8]])"
            ]
          },
          "metadata": {},
          "execution_count": 40
        }
      ]
    },
    {
      "cell_type": "code",
      "source": [
        "np.random.shuffle(arr)"
      ],
      "metadata": {
        "id": "6NlKZVvg0epM"
      },
      "execution_count": null,
      "outputs": []
    },
    {
      "cell_type": "code",
      "source": [
        "arr"
      ],
      "metadata": {
        "colab": {
          "base_uri": "https://localhost:8080/"
        },
        "id": "cKbcjH8j1EsO",
        "outputId": "fe39cf8b-6ebf-4a06-e15f-ad28a5e95e7e"
      },
      "execution_count": null,
      "outputs": [
        {
          "output_type": "execute_result",
          "data": {
            "text/plain": [
              "array([[3, 4, 5],\n",
              "       [0, 1, 2],\n",
              "       [6, 7, 8]])"
            ]
          },
          "metadata": {},
          "execution_count": 42
        }
      ]
    },
    {
      "cell_type": "markdown",
      "source": [
        "![image.png](data:image/png;base64,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)"
      ],
      "metadata": {
        "id": "0FSQiM_Q18-N"
      }
    },
    {
      "cell_type": "code",
      "source": [
        "np.array((2,3))"
      ],
      "metadata": {
        "colab": {
          "base_uri": "https://localhost:8080/"
        },
        "id": "xVxFEKZQ1hFB",
        "outputId": "f61fec3a-14b7-4415-af40-89d70c9deedb"
      },
      "execution_count": null,
      "outputs": [
        {
          "output_type": "execute_result",
          "data": {
            "text/plain": [
              "array([2, 3])"
            ]
          },
          "metadata": {},
          "execution_count": 44
        }
      ]
    },
    {
      "cell_type": "code",
      "source": [
        "lin_spaced_arr = np.linspace(0, 10, 5) #dividing the interval ito 5\n",
        "print(lin_spaced_arr)"
      ],
      "metadata": {
        "colab": {
          "base_uri": "https://localhost:8080/"
        },
        "id": "peB8o1Y564tS",
        "outputId": "b9af139c-a83c-40f4-e5c7-b36c644aadd6"
      },
      "execution_count": null,
      "outputs": [
        {
          "output_type": "stream",
          "name": "stdout",
          "text": [
            "[ 0.   2.5  5.   7.5 10. ]\n"
          ]
        }
      ]
    },
    {
      "cell_type": "code",
      "source": [
        "lin_spaced_arr = np.linspace(0, 10, 5,dtype=int) #dividing the interval ito 5\n",
        "print(lin_spaced_arr)"
      ],
      "metadata": {
        "colab": {
          "base_uri": "https://localhost:8080/"
        },
        "id": "gxehVVy97Xzi",
        "outputId": "52d9a26a-1abd-41a1-c49f-6cfa622d20f0"
      },
      "execution_count": null,
      "outputs": [
        {
          "output_type": "stream",
          "name": "stdout",
          "text": [
            "[ 0  2  5  7 10]\n"
          ]
        }
      ]
    },
    {
      "cell_type": "code",
      "source": [
        "char_arr = np.array(['ahmed alaa'])"
      ],
      "metadata": {
        "id": "HPJQThUR7odS"
      },
      "execution_count": null,
      "outputs": []
    },
    {
      "cell_type": "code",
      "source": [
        "char_arr"
      ],
      "metadata": {
        "colab": {
          "base_uri": "https://localhost:8080/"
        },
        "id": "JgjNWbjz8DfR",
        "outputId": "50cc2b0b-5a2e-4b07-89ae-5fbc9ed60857"
      },
      "execution_count": null,
      "outputs": [
        {
          "output_type": "execute_result",
          "data": {
            "text/plain": [
              "array(['ahmed alaa'], dtype='<U10')"
            ]
          },
          "metadata": {},
          "execution_count": 52
        }
      ]
    },
    {
      "cell_type": "code",
      "source": [
        "arr_of_str = np.array(['ahmedeeeeeee','alaa','samy'])\n",
        "print(arr_of_str.dtype)  # Output: <U8 (Unicode string with max length 8)>\n",
        "print(arr_of_str.shape)  # Output: (3,) -> 1D array with 3 elements\n",
        "print(arr_of_str.size)   # Output: 3 -> Total number of elements"
      ],
      "metadata": {
        "colab": {
          "base_uri": "https://localhost:8080/"
        },
        "id": "-GGCqZYt8Enc",
        "outputId": "fc85d7bb-466f-4b6d-8999-32ce462d1f55"
      },
      "execution_count": null,
      "outputs": [
        {
          "output_type": "stream",
          "name": "stdout",
          "text": [
            "<U12\n",
            "(3,)\n",
            "3\n"
          ]
        }
      ]
    },
    {
      "cell_type": "markdown",
      "source": [
        "# Multidimensional Arrays"
      ],
      "metadata": {
        "id": "J7u2koNZ9Ftj"
      }
    },
    {
      "cell_type": "code",
      "source": [
        "one_d_arr = np.array([1, 2, 3, 4, 5, 6])"
      ],
      "metadata": {
        "id": "QaEWoTTc8nMl"
      },
      "execution_count": null,
      "outputs": []
    },
    {
      "cell_type": "code",
      "source": [
        "one_d_arr"
      ],
      "metadata": {
        "colab": {
          "base_uri": "https://localhost:8080/"
        },
        "id": "X7XmLnsz8wBT",
        "outputId": "fb805717-8f61-4ef0-fee2-d07ece228410"
      },
      "execution_count": null,
      "outputs": [
        {
          "output_type": "execute_result",
          "data": {
            "text/plain": [
              "array([1, 2, 3, 4, 5, 6])"
            ]
          },
          "metadata": {},
          "execution_count": 74
        }
      ]
    },
    {
      "cell_type": "code",
      "source": [
        "# 1-D array\n",
        "one_dim_arr = np.array([1, 2, 3, 4, 5, 6])\n",
        "\n",
        "# Multidimensional array using reshape()\n",
        "multi_dim_arr = np.reshape(\n",
        "                one_dim_arr, # the array to be reshaped\n",
        "               (2,3) # dimensions of the new array\n",
        "              )\n",
        "# Print the new 2-D array with two rows and three columns\n",
        "print(multi_dim_arr)"
      ],
      "metadata": {
        "colab": {
          "base_uri": "https://localhost:8080/"
        },
        "id": "bL5x0Fno-oQC",
        "outputId": "52a25cfb-e985-4710-9ebc-7f701738d55d"
      },
      "execution_count": null,
      "outputs": [
        {
          "output_type": "stream",
          "name": "stdout",
          "text": [
            "[[1 2 3]\n",
            " [4 5 6]]\n"
          ]
        }
      ]
    },
    {
      "cell_type": "code",
      "source": [
        "arr_2d = np.reshape(one_d_arr,(2,3))\n",
        "arr_2d"
      ],
      "metadata": {
        "colab": {
          "base_uri": "https://localhost:8080/"
        },
        "id": "P6rU3buN90P0",
        "outputId": "af479bf0-7c37-4166-d623-6fca1a7db43e"
      },
      "execution_count": null,
      "outputs": [
        {
          "output_type": "execute_result",
          "data": {
            "text/plain": [
              "array([[1, 2, 3],\n",
              "       [4, 5, 6]])"
            ]
          },
          "metadata": {},
          "execution_count": 75
        }
      ]
    },
    {
      "cell_type": "markdown",
      "source": [
        "![image.png](data:image/png;base64,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)\n",
        "\n"
      ],
      "metadata": {
        "id": "rYzQz6faDwKc"
      }
    },
    {
      "cell_type": "code",
      "source": [
        "import numpy as np\n",
        "\n",
        "# Create a sample array\n",
        "arr = np.array([[1,1,1],[2,2,2],[3,3,3]])\n",
        "print(arr)\n",
        "# 1️⃣ Find the index of the max and min value\n",
        "print(\"Index of max value:\", np.argmax(arr))  # Output: 3 (index of 40)\n",
        "print(\"Index of min value:\", np.argmin(arr))  # Output: 2 (index of 5)\n",
        "\n",
        "# 2️⃣ Check if all elements satisfy a condition\n",
        "print(\"Are all elements > 0?\", np.all(arr > 0))  # True\n",
        "print(\"Are all elements > 25?\", np.all(arr > 25))  # False\n",
        "\n",
        "# 3️⃣ Check if any element satisfies a condition\n",
        "print(\"Is any element > 25?\", np.any(arr > 25))  # True\n",
        "print(\"Is any element < 5?\", np.any(arr < 5))  # False\n",
        "\n",
        "# 4️⃣ Find indices where condition is met\n",
        "indices = np.where(arr > 15)\n",
        "print(\"Indices where values > 15:\", indices)  # Output: (array([1, 3, 4]),)\n",
        "\n",
        "# 5️⃣ Replace values based on a condition\n",
        "arr_new = np.where(arr > 15, \"High\", \"Low\")\n",
        "print(\"Array with replaced values:\", arr_new)  # ['Low' 'High' 'Low' 'High' 'High']\n",
        "\n",
        "# 6️⃣ Get indices of nonzero elements\n",
        "arr_with_zeros = np.array([0, 1, 0, 2, 3])\n",
        "print(\"Indices of nonzero elements:\", np.nonzero(arr_with_zeros))  # (array([1, 3, 4]),)\n",
        "\n",
        "# 7️⃣ Clip values to stay within a specified range\n",
        "clipped = np.clip(arr, 15, 35)  # Values < 15 become 15, values > 35 become 35\n",
        "print(\"Clipped array:\", clipped)  # Output: [15 20 15 35 30]\n",
        "\n",
        "#"
      ],
      "metadata": {
        "colab": {
          "base_uri": "https://localhost:8080/"
        },
        "id": "3ayl371nF7hS",
        "outputId": "5f73c75d-4076-4eb8-fc47-1305350db1d5"
      },
      "execution_count": null,
      "outputs": [
        {
          "output_type": "stream",
          "name": "stdout",
          "text": [
            "[[1 1 1]\n",
            " [2 2 2]\n",
            " [3 3 3]]\n",
            "Index of max value: 6\n",
            "Index of min value: 0\n",
            "Are all elements > 0? True\n",
            "Are all elements > 25? False\n",
            "Is any element > 25? False\n",
            "Is any element < 5? True\n",
            "Indices where values > 15: (array([], dtype=int64), array([], dtype=int64))\n",
            "Array with replaced values: [['Low' 'Low' 'Low']\n",
            " ['Low' 'Low' 'Low']\n",
            " ['Low' 'Low' 'Low']]\n",
            "Indices of nonzero elements: (array([1, 3, 4]),)\n",
            "Clipped array: [[15 15 15]\n",
            " [15 15 15]\n",
            " [15 15 15]]\n"
          ]
        }
      ]
    },
    {
      "cell_type": "code",
      "source": [
        "import numpy as np\n",
        "\n",
        "# Create a sample array\n",
        "print(arr)\n",
        "arr = np.array([10, 20, 5, 40, 30])\n",
        "\n",
        "# 1️⃣ Find the index of the max and min value\n",
        "print(\"Index of max value:\", np.argmax(arr))  # Output: 3 (index of 40)\n",
        "print(\"Index of min value:\", np.argmin(arr))  # Output: 2 (index of 5)\n",
        "\n",
        "# 2️⃣ Check if all elements satisfy a condition\n",
        "print(\"Are all elements > 0?\", np.all(arr > 0))  # True\n",
        "print(\"Are all elements > 25?\", np.all(arr > 25))  # False\n",
        "\n",
        "# 3️⃣ Check if any element satisfies a condition\n",
        "print(\"Is any element > 25?\", np.any(arr > 25))  # True\n",
        "print(\"Is any element < 5?\", np.any(arr < 5))  # False\n",
        "\n",
        "# 4️⃣ Find indices where condition is met\n",
        "indices = np.where(arr > 15)\n",
        "print(\"Indices where values > 15:\", indices)  # Output: (array([1, 3, 4]),)\n",
        "\n",
        "# 5️⃣ Replace values based on a condition\n",
        "arr_new = np.where(arr > 15, \"High\", \"Low\")\n",
        "print(\"Array with replaced values:\", arr_new)  # ['Low' 'High' 'Low' 'High' 'High']\n",
        "\n",
        "# 6️⃣ Get indices of nonzero elements\n",
        "arr_with_zeros = np.array([0, 1, 0, 2, 3])\n",
        "print(\"Indices of nonzero elements:\", np.nonzero(arr_with_zeros))  # (array([1, 3, 4]),)\n",
        "\n",
        "# 7️⃣ Clip values to stay within a specified range\n",
        "clipped = np.clip(arr, 15, 35)  # Values < 15 become 15, values > 35 become 35\n",
        "print(\"Clipped array:\", clipped)  # Output: [15 20 15 35 30]"
      ],
      "metadata": {
        "colab": {
          "base_uri": "https://localhost:8080/"
        },
        "id": "Oq2WUuhW9-cq",
        "outputId": "e1ac14d5-6b9f-44ae-eeef-d4d40efcb5c4"
      },
      "execution_count": null,
      "outputs": [
        {
          "output_type": "stream",
          "name": "stdout",
          "text": [
            "[10 20  5 40 30]\n",
            "Index of max value: 3\n",
            "Index of min value: 2\n",
            "Are all elements > 0? True\n",
            "Are all elements > 25? False\n",
            "Is any element > 25? True\n",
            "Is any element < 5? False\n",
            "Indices where values > 15: (array([1, 3, 4]),)\n",
            "Array with replaced values: ['Low' 'High' 'Low' 'High' 'High']\n",
            "Indices of nonzero elements: (array([1, 3, 4]),)\n",
            "Clipped array: [15 20 15 35 30]\n"
          ]
        }
      ]
    },
    {
      "cell_type": "code",
      "source": [
        "arr = np.array([10, 20, 5, 40, 30])\n",
        "np.clip(arr,10,30)"
      ],
      "metadata": {
        "colab": {
          "base_uri": "https://localhost:8080/"
        },
        "id": "ccoSOffKJU5r",
        "outputId": "a557d98c-6867-4531-c25d-c167ea8945c3"
      },
      "execution_count": null,
      "outputs": [
        {
          "output_type": "execute_result",
          "data": {
            "text/plain": [
              "array([10, 20, 10, 30, 30])"
            ]
          },
          "metadata": {},
          "execution_count": 111
        }
      ]
    },
    {
      "cell_type": "markdown",
      "source": [
        "#np.where()\n",
        " in NumPy numpy.where() is a powerful function used for finding indices that satisfy a condition or conditionally replacing values."
      ],
      "metadata": {
        "id": "usDc-3yiH-ox"
      }
    },
    {
      "cell_type": "code",
      "source": [
        "#If the condition is True, replace with one value; otherwise, replace with another.\n",
        "arr = np.array([10, 20, 5, 40, 30])\n",
        "indices = np.where(arr > 15)\n",
        "\n",
        "arr_new = np.where(arr > 15, \"High\", \"Low\")\n",
        "arr_new = np.where(indices, \"High\", \"Low\") #array of high only\n",
        "\n",
        "print(arr_new)"
      ],
      "metadata": {
        "colab": {
          "base_uri": "https://localhost:8080/"
        },
        "id": "JfSI1XR_IlfJ",
        "outputId": "fe14f76c-b34b-4e00-a500-9099e6a69f95"
      },
      "execution_count": null,
      "outputs": [
        {
          "output_type": "stream",
          "name": "stdout",
          "text": [
            "[['High' 'High' 'High']]\n"
          ]
        }
      ]
    },
    {
      "cell_type": "markdown",
      "source": [],
      "metadata": {
        "id": "5ZtwEZZpIeBn"
      }
    },
    {
      "cell_type": "code",
      "source": [
        "np.where(arr<30,arr,arr*100)# the elements that the condition applied to be without change but the other by multiplied by 100"
      ],
      "metadata": {
        "colab": {
          "base_uri": "https://localhost:8080/"
        },
        "id": "9lQ_TmiIEDHU",
        "outputId": "434d3d3b-286f-471d-941f-1fb4d741544f"
      },
      "execution_count": null,
      "outputs": [
        {
          "output_type": "execute_result",
          "data": {
            "text/plain": [
              "array([  10,   20,    5, 4000, 3000])"
            ]
          },
          "metadata": {},
          "execution_count": 105
        }
      ]
    },
    {
      "cell_type": "code",
      "source": [
        "arr"
      ],
      "metadata": {
        "colab": {
          "base_uri": "https://localhost:8080/"
        },
        "id": "sKl_Uy1oEOP6",
        "outputId": "fd606f05-ee81-4655-8ad1-1fadd455dceb"
      },
      "execution_count": null,
      "outputs": [
        {
          "output_type": "execute_result",
          "data": {
            "text/plain": [
              "array([10, 20,  5, 40, 30])"
            ]
          },
          "metadata": {},
          "execution_count": 106
        }
      ]
    },
    {
      "cell_type": "code",
      "source": [
        "#to get the max number in each column\n",
        "arr = a\n",
        "\n",
        "# Get the index of the maximum value\n",
        "max_index = arr.argmax()\n",
        "\n",
        "# Use the index to get the max value\n",
        "max_value = arr[max_index]\n",
        "max_value"
      ],
      "metadata": {
        "colab": {
          "base_uri": "https://localhost:8080/"
        },
        "id": "skXzSS07EpuR",
        "outputId": "91e927b2-aa47-4796-d5c5-a2317f62fd64"
      },
      "execution_count": null,
      "outputs": [
        {
          "output_type": "execute_result",
          "data": {
            "text/plain": [
              "array([9, 8, 2])"
            ]
          },
          "metadata": {},
          "execution_count": 97
        }
      ]
    },
    {
      "cell_type": "markdown",
      "source": [
        "# Indexing ,looping over array and slicing\n"
      ],
      "metadata": {
        "id": "JBgEOojxmtIN"
      }
    },
    {
      "cell_type": "code",
      "source": [
        "lst = list(range(10))\n",
        "lst"
      ],
      "metadata": {
        "colab": {
          "base_uri": "https://localhost:8080/"
        },
        "id": "kf4NpncoD_76",
        "outputId": "2794a3ed-800f-4a3d-8d6e-2235852ee24c"
      },
      "execution_count": null,
      "outputs": [
        {
          "output_type": "execute_result",
          "data": {
            "text/plain": [
              "[0, 1, 2, 3, 4, 5, 6, 7, 8, 9]"
            ]
          },
          "metadata": {},
          "execution_count": 119
        }
      ]
    },
    {
      "cell_type": "code",
      "source": [
        "arr = np.array(lst)\n",
        "arr"
      ],
      "metadata": {
        "colab": {
          "base_uri": "https://localhost:8080/"
        },
        "id": "cjpbGHiWm9Bq",
        "outputId": "2b903b98-da35-42a3-d99f-7296ed43135e"
      },
      "execution_count": null,
      "outputs": [
        {
          "output_type": "execute_result",
          "data": {
            "text/plain": [
              "array([0, 1, 2, 3, 4, 5, 6, 7, 8, 9])"
            ]
          },
          "metadata": {},
          "execution_count": 120
        }
      ]
    },
    {
      "cell_type": "code",
      "source": [
        "for i in range (arr.size-1,0,-1):\n",
        "  print(arr[i])"
      ],
      "metadata": {
        "colab": {
          "base_uri": "https://localhost:8080/"
        },
        "id": "UX1TuUfOm-GH",
        "outputId": "02d713ee-0b04-4ccd-dfb7-9483988f2b40"
      },
      "execution_count": null,
      "outputs": [
        {
          "output_type": "stream",
          "name": "stdout",
          "text": [
            "9\n",
            "8\n",
            "7\n",
            "6\n",
            "5\n",
            "4\n",
            "3\n",
            "2\n",
            "1\n"
          ]
        }
      ]
    },
    {
      "cell_type": "code",
      "source": [
        "# Indexing on a 2-D array\n",
        "two_dim = np.array(([1, 2, 3],\n",
        "                    [4, 5, 6],\n",
        "                    [7, 8, 9]))\n",
        "\n",
        "# Select element number 8 from the 2-D array using indices i, j.\n",
        "for i in range(two_dim.shape[0]):\n",
        "  for j in range(two_dim.shape[1]):\n",
        "    print(two_dim[i][j])\n",
        "print('************************another easy way **************')\n",
        "\n",
        "for i in np.nditer(two_dim):\n",
        "  print(i)"
      ],
      "metadata": {
        "colab": {
          "base_uri": "https://localhost:8080/"
        },
        "id": "wRxXg1ycnolO",
        "outputId": "d91a4028-d362-433c-d066-cc85ea8a460e"
      },
      "execution_count": null,
      "outputs": [
        {
          "output_type": "stream",
          "name": "stdout",
          "text": [
            "1\n",
            "2\n",
            "3\n",
            "4\n",
            "5\n",
            "6\n",
            "7\n",
            "8\n",
            "9\n",
            "************************another easy way **************\n",
            "1\n",
            "2\n",
            "3\n",
            "4\n",
            "5\n",
            "6\n",
            "7\n",
            "8\n",
            "9\n"
          ]
        }
      ]
    },
    {
      "cell_type": "code",
      "source": [
        "# Slicing array[start:end:step]\n",
        "oneDarr = np.arange(1,10,1).reshape(3,3)\n",
        "oneDarr"
      ],
      "metadata": {
        "colab": {
          "base_uri": "https://localhost:8080/"
        },
        "id": "kfiXuMKaoUMR",
        "outputId": "4b88a1fb-c7d7-4233-dcb5-fa60ab458426"
      },
      "execution_count": null,
      "outputs": [
        {
          "output_type": "execute_result",
          "data": {
            "text/plain": [
              "array([[1, 2, 3],\n",
              "       [4, 5, 6],\n",
              "       [7, 8, 9]])"
            ]
          },
          "metadata": {},
          "execution_count": 135
        }
      ]
    },
    {
      "cell_type": "code",
      "source": [
        "print(f'the first row in the array is {oneDarr[0]}')  #row 0\n",
        "print(f'the second row in the array is {oneDarr[1]}')  #row 1\n",
        "print(f'the third row in the array is {oneDarr[2]}')  #row 2\n"
      ],
      "metadata": {
        "colab": {
          "base_uri": "https://localhost:8080/"
        },
        "id": "eUxM4dJGqaRb",
        "outputId": "0bfa665d-37a8-4a09-cb60-c2003de24392"
      },
      "execution_count": null,
      "outputs": [
        {
          "output_type": "stream",
          "name": "stdout",
          "text": [
            "the first row in the array is [1 2 3]\n",
            "the second row in the array is [4 5 6]\n",
            "the third row in the array is [7 8 9]\n"
          ]
        }
      ]
    },
    {
      "cell_type": "code",
      "source": [
        "print(f'the first element in row 1 in the array is {oneDarr[0][0]}')  #row 0\n",
        "print(f'the second element in row 2 in the array is {oneDarr[1][0]}')  #row 1\n",
        "print(f'the third element row in row 3 in the array is {oneDarr[2][0]}')  #row 2\n"
      ],
      "metadata": {
        "colab": {
          "base_uri": "https://localhost:8080/"
        },
        "id": "6tej4o6Uqd2y",
        "outputId": "19ad5ede-615c-4569-f8f6-f815456554c9"
      },
      "execution_count": null,
      "outputs": [
        {
          "output_type": "stream",
          "name": "stdout",
          "text": [
            "the first element in row 1 in the array is 1\n",
            "the second element in row 2 in the array is 4\n",
            "the third element row in row 3 in the array is 7\n"
          ]
        }
      ]
    },
    {
      "cell_type": "code",
      "source": [
        "print(oneDarr)\n",
        "print(f'the first column in the array is {oneDarr[:,0]}')  #row 0\n",
        "print(f'the second column in the array is {oneDarr[:,1]}')  #row 1\n",
        "print(f'the last column in the array is {oneDarr[:,-1]}')  #row 2\n"
      ],
      "metadata": {
        "colab": {
          "base_uri": "https://localhost:8080/"
        },
        "id": "UMbJBAt-rI8L",
        "outputId": "9586d552-7718-4962-e8d1-0d630b9d8846"
      },
      "execution_count": null,
      "outputs": [
        {
          "output_type": "stream",
          "name": "stdout",
          "text": [
            "[[1 2 3]\n",
            " [4 5 6]\n",
            " [7 8 9]]\n",
            "the first column in the array is [1 4 7]\n",
            "the second column in the array is [2 5 8]\n",
            "the last column in the array is [3 6 9]\n"
          ]
        }
      ]
    },
    {
      "cell_type": "markdown",
      "source": [
        "# Stacking\n",
        "Finally, stacking is a feature of NumPy that leads to increased customization of arrays. It means to join two or more arrays, either horizontally or vertically, meaning that it is done along a new axis."
      ],
      "metadata": {
        "id": "0jdhk_XEr0cc"
      }
    },
    {
      "cell_type": "markdown",
      "source": [
        "# Stacking Horezontally \"Expanding\" axis = axis=0"
      ],
      "metadata": {
        "id": "HollhypfsZRr"
      }
    },
    {
      "cell_type": "code",
      "source": [
        "arr_1 = np.ones((2,2))\n",
        "arr_2 = np.zeros((2,2))\n",
        "arr_3 = np.stack((arr_1,arr_2),axis=1)\n",
        "print(arr_3.shape)"
      ],
      "metadata": {
        "colab": {
          "base_uri": "https://localhost:8080/"
        },
        "id": "Tew9O-jys330",
        "outputId": "55e0e6c9-9d47-4f1b-eb2c-94b163a93f97"
      },
      "execution_count": null,
      "outputs": [
        {
          "output_type": "stream",
          "name": "stdout",
          "text": [
            "(2, 2, 2)\n"
          ]
        }
      ]
    },
    {
      "cell_type": "code",
      "source": [
        "import numpy as np\n",
        "\n",
        "arr1 = np.array([1, 2, 3])\n",
        "arr2 = np.array([4, 5, 6])\n",
        "\n",
        "# Stacking along a new axis (axis=0)\n",
        "result = np.vstack((arr1, arr2))\n",
        "print(result)\n",
        "print(result.shape)"
      ],
      "metadata": {
        "colab": {
          "base_uri": "https://localhost:8080/"
        },
        "id": "0xIdEtw5t0Gw",
        "outputId": "f975e373-8e97-4336-d613-b283a843fa2a"
      },
      "execution_count": null,
      "outputs": [
        {
          "output_type": "stream",
          "name": "stdout",
          "text": [
            "[[1 2 3]\n",
            " [4 5 6]]\n",
            "(2, 3)\n"
          ]
        }
      ]
    },
    {
      "cell_type": "code",
      "source": [],
      "metadata": {
        "id": "OJoKNLirtvDp"
      },
      "execution_count": null,
      "outputs": []
    }
  ]
}