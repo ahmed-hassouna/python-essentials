{
 "cells": [
  {
   "cell_type": "markdown",
   "id": "7be0d41e-2acc-4b04-9a82-bfbb196cac27",
   "metadata": {},
   "source": [
    "# Automated File Sorter\n",
    " is a Python-based project that organizes files into their respective directories based on file type. It first generates different types of files (CSV, DOCX, PNG, etc.) and then moves them into categorized folders."
   ]
  },
  {
   "cell_type": "markdown",
   "id": "8469b431-7617-453f-acf0-42c3de1ed4b5",
   "metadata": {},
   "source": [
    "# File Generation"
   ]
  },
  {
   "cell_type": "code",
   "execution_count": 7,
   "id": "78e11942-6c88-4bb3-8530-18b0c6344a78",
   "metadata": {},
   "outputs": [
    {
     "name": "stdout",
     "output_type": "stream",
     "text": [
      "Requirement already satisfied: python-docx in c:\\users\\alraya\\anaconda3\\lib\\site-packages (1.1.2)\n",
      "Requirement already satisfied: lxml>=3.1.0 in c:\\users\\alraya\\anaconda3\\lib\\site-packages (from python-docx) (5.2.1)\n",
      "Requirement already satisfied: typing-extensions>=4.9.0 in c:\\users\\alraya\\anaconda3\\lib\\site-packages (from python-docx) (4.11.0)\n",
      "Note: you may need to restart the kernel to use updated packages.\n"
     ]
    }
   ],
   "source": [
    "pip install python-docx"
   ]
  },
  {
   "cell_type": "code",
   "execution_count": 11,
   "id": "fba19c4b-aeb2-4a09-9bf1-8be46eb4abd8",
   "metadata": {},
   "outputs": [],
   "source": [
    "from docx import Document\n",
    "from PIL import Image\n",
    "import pandas as pd\n",
    "import os"
   ]
  },
  {
   "cell_type": "code",
   "execution_count": 15,
   "id": "ce3f9516-ff18-4c0c-bf63-316765ab0d7c",
   "metadata": {},
   "outputs": [],
   "source": [
    "files_path =\"E:/python/python projects/automated file restorer/mixed_data_files/ahmed\"\n",
    "os.makedirs(files_path, exist_ok=True)"
   ]
  },
  {
   "cell_type": "code",
   "execution_count": 25,
   "id": "53410f24-8d14-4397-b78f-4548f582745a",
   "metadata": {},
   "outputs": [],
   "source": [
    "def create_file():\n",
    "    base_path =\"E:/python/python projects/automated file restorer/mixed_data_directory\"\n",
    "    os.makedirs(base_path, exist_ok=True)\n",
    "    #enter the number of files and their type\n",
    "    file_type = input(\"Enter file type to generate (csv/docx/png): \").lower()\n",
    "    num_files = int(input(\"Enter number of files to create: \"))\n",
    "    for i in range(num_files):\n",
    "        file_name = input(f\"Enter the name of file {i+1}(without extension):\")\n",
    "        file_path = f\"{base_path}/{file_name}.{file_type}\"\n",
    "        if(file_type==\"csv\"):\n",
    "            df = pd.DataFrame({\"Name\": [\"Alice\", \"Bob\"], \"Age\": [25, 30]})\n",
    "            df.to_csv(file_path,index=False)\n",
    "        elif(file_type == \"docs\"):\n",
    "            doc = Document()\n",
    "            doc.add_paragraph(\"this a simple docs file\")\n",
    "            doc.save(file_path)\n",
    "        elif(file_type == \"png\"):\n",
    "            image = Image.new(\"RGB\",(100,100),color=\"blue\")\n",
    "            image.save(file_path)\n",
    "        else:\n",
    "            print(\"Unsupported file type\")\n",
    "            continue\n",
    "    print(f\"{file_name}.{file_type} is created successfully\")\n",
    "            "
   ]
  },
  {
   "cell_type": "code",
   "execution_count": null,
   "id": "500c8781-171d-4e65-886c-d87535e9a354",
   "metadata": {},
   "outputs": [],
   "source": []
  },
  {
   "cell_type": "code",
   "execution_count": 62,
   "id": "1c1d7b72-8325-4d02-bca6-1ee642a9a229",
   "metadata": {},
   "outputs": [],
   "source": [
    "import shutil\n",
    "\n",
    "def sort_files():\n",
    "    base_path =\"E:/python/python projects/automated file restorer/mixed_data_directory\"\n",
    "    sorted_path = \"E:/python/python projects/automated file restorer/sorted_data_directory\"\n",
    "    os.makedirs(sorted_path,exist_ok=True)\n",
    "\n",
    "    os.makedirs(f\"{sorted_path}/CSV\",exist_ok = True)\n",
    "    os.makedirs(f\"{sorted_path}/PNG\",exist_ok = True)\n",
    "    os.makedirs(f\"{sorted_path}/DOCS\",exist_ok = True)\n",
    "    for file in os.listdir(base_path):\n",
    "        if file.endswith(\".csv\"):\n",
    "            shutil.move(f\"{base_path}/{file}\",f\"{sorted_path}/CSV/\")\n",
    "        \n",
    "        elif(file.endswith(\".png\")):\n",
    "            shutil.move(f\"{base_path}/{file}\",f\"{sorted_path}/PNG/\") \n",
    "                        \n",
    "        elif(file.endswith(\".docs\")):\n",
    "            shutil.move(f\"{base_path}/{file}\",f\"{sorted_path}/DOCS/\")\n",
    "    print(\"files sorted successfully\")"
   ]
  },
  {
   "cell_type": "code",
   "execution_count": 64,
   "id": "f47a3a10-e2ac-4213-8fb8-28ed0c7bac63",
   "metadata": {},
   "outputs": [
    {
     "name": "stdout",
     "output_type": "stream",
     "text": [
      "files sorted successfully\n"
     ]
    }
   ],
   "source": [
    "sort_files()"
   ]
  },
  {
   "cell_type": "code",
   "execution_count": 36,
   "id": "231b3dbd-3bd5-4a82-9581-e9192a2eb352",
   "metadata": {},
   "outputs": [
    {
     "data": {
      "text/plain": [
       "['1.png',\n",
       " '11.csv',\n",
       " '111.docs',\n",
       " '2.png',\n",
       " '22.csv',\n",
       " '222.docs',\n",
       " '3.png',\n",
       " '33.csv',\n",
       " '333.docs',\n",
       " '4.png',\n",
       " '44.csv',\n",
       " '444.docs',\n",
       " '5.png',\n",
       " '55.csv',\n",
       " '555.docs']"
      ]
     },
     "execution_count": 36,
     "metadata": {},
     "output_type": "execute_result"
    }
   ],
   "source": [
    "os.listdir(\"E:/python/python projects/automated file restorer/mixed_data_directory\")"
   ]
  },
  {
   "cell_type": "code",
   "execution_count": 28,
   "id": "643985cc-7923-49bf-a541-4beebdc69108",
   "metadata": {},
   "outputs": [
    {
     "name": "stdin",
     "output_type": "stream",
     "text": [
      "Enter file type to generate (csv/docx/png):  png\n",
      "Enter number of files to create:  5\n",
      "Enter the name of file 1(without extension): 1\n",
      "Enter the name of file 2(without extension): 2\n",
      "Enter the name of file 3(without extension): 3\n",
      "Enter the name of file 4(without extension): 4\n",
      "Enter the name of file 5(without extension): 5\n"
     ]
    },
    {
     "name": "stdout",
     "output_type": "stream",
     "text": [
      "5.png is created successfully\n"
     ]
    }
   ],
   "source": [
    "create_file()"
   ]
  },
  {
   "cell_type": "code",
   "execution_count": 30,
   "id": "ef8d9107-c20f-48ca-8bed-8f9ba9a46a45",
   "metadata": {},
   "outputs": [
    {
     "name": "stdin",
     "output_type": "stream",
     "text": [
      "Enter file type to generate (csv/docx/png):  csv\n",
      "Enter number of files to create:  5\n",
      "Enter the name of file 1(without extension): 11\n",
      "Enter the name of file 2(without extension): 22\n",
      "Enter the name of file 3(without extension): 33\n",
      "Enter the name of file 4(without extension): 44\n",
      "Enter the name of file 5(without extension): 55\n"
     ]
    },
    {
     "name": "stdout",
     "output_type": "stream",
     "text": [
      "55.csv is created successfully\n"
     ]
    }
   ],
   "source": [
    "create_file()"
   ]
  },
  {
   "cell_type": "code",
   "execution_count": 32,
   "id": "382d1764-7ff2-448b-aead-9d564fbecd82",
   "metadata": {},
   "outputs": [
    {
     "name": "stdin",
     "output_type": "stream",
     "text": [
      "Enter file type to generate (csv/docx/png):  docs\n",
      "Enter number of files to create:  5\n",
      "Enter the name of file 1(without extension): 111\n",
      "Enter the name of file 2(without extension): 222\n",
      "Enter the name of file 3(without extension): 333\n",
      "Enter the name of file 4(without extension): 444\n",
      "Enter the name of file 5(without extension): 555\n"
     ]
    },
    {
     "name": "stdout",
     "output_type": "stream",
     "text": [
      "555.docs is created successfully\n"
     ]
    }
   ],
   "source": [
    "create_file()"
   ]
  },
  {
   "cell_type": "code",
   "execution_count": null,
   "id": "74b6d825-8068-4a00-bcfd-72f71087f668",
   "metadata": {},
   "outputs": [],
   "source": []
  }
 ],
 "metadata": {
  "kernelspec": {
   "display_name": "Python [conda env:base] *",
   "language": "python",
   "name": "conda-base-py"
  },
  "language_info": {
   "codemirror_mode": {
    "name": "ipython",
    "version": 3
   },
   "file_extension": ".py",
   "mimetype": "text/x-python",
   "name": "python",
   "nbconvert_exporter": "python",
   "pygments_lexer": "ipython3",
   "version": "3.12.3"
  }
 },
 "nbformat": 4,
 "nbformat_minor": 5
}
