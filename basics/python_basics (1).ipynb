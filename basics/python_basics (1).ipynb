{
  "nbformat": 4,
  "nbformat_minor": 0,
  "metadata": {
    "colab": {
      "provenance": []
    },
    "kernelspec": {
      "name": "python3",
      "display_name": "Python 3"
    },
    "language_info": {
      "name": "python"
    }
  },
  "cells": [
    {
      "cell_type": "markdown",
      "source": [
        "![image.png]**bold text**![image.png](data:image/png;base64,iVBORw0KGgoAAAANSUhEUgAAA1EAAAGcCAIAAAC3Dr2+AAAgAElEQVR4Ae2dW2wUV7qo6yEaRTIPvEV+mtnShJfMQyQ/RFuKNESah31ytJGiEaPzYCkdhshbsbaCNGwEmdFIKEbDEJSLcMjGsuNEZpPQchocQjAJjgnm5mAMjkMw9sEOsQfHdnDA5o5JneH8mX+vXdVd7lt1V63+ohZZvWpdv7+66/OqSzvTN1xeEIAABCAAAQhAAAJ2E3Dsnh6zgwAEIAABCEAAAhCYvuHifCxzQgACEIAABCAAAfsJ4Hz2x5g/biAAAQhAAAIQgADOh/NBAAIQgAAEIAAB+wngfPbHmL9sIAABCEAAAhCAAM6H80EAAhCAAAQgAAH7CeB89seYv2wgAAEIQAACEIAAzofzQQACEIAABCAAAfsJ4Hz2x5i/bCAAAQhAAAIQgADOh/NBAAIQgAAEIAAB+wngfPbHmL9sIAABCEAAAhCAAM6H80EAAhCAAAQgAAH7CeB89seYv2wgAAEIQAACEIAAzofzQQACEIAABCAAAfsJ4Hz2x5i/bCAAAQhAAAIQgADOh/NBAAIQgAAEIAAB+wngfPbHmL9sIAABCEAAAhCAAM6H80EAAhCAAAQgAAH7CeB89seYv2wgAAEIQAACEIAAzofzQQACEIAABCAAAfsJ4Hz2x5i/bCAAAQhAAAIQgADOh/NBAAIQgAAEIAAB+wngfPbHmL9sIAABCEAAAhCAAM6H80EAAhCAAAQgAAH7CeB89seYv2wgAAEIQAACEIAAzofzQQACEIAABCAAAfsJRML5Rq7cPfT1dMeZyzt7eUEAAhCAAAQgAAFLCHScuXzo6+mRK3ejsMpYNucbu3a3sevibxuPP/Lih04iyQsCEIAABCAAAQjYSuCRFz/8bePxxq6LY9fK5n9lcL4z43OrWvur6lJmXB9a1b70hb2PvPghLwhAAAIQgAAEIGAHgaUv7H1oVbspPFV1qVWt/WfG50q/8ldS5xu7dnfNrrM6+aUv7H2u5VTb8UtDk3N37t13+Q8CEIAABCAAAQjYReDOvftDk3Ntxy8913Jq6Qt7xf8eWtW+ZtfZEq/5lc75Tl6cXbb+gEz1V3882Hb8Ep5n117NbCAAAQhAAAIQCCJw5979tuOXfvXHg6JDy9YfOHlxtmQLfiVyvp29l+VkblVdatuhkYUfg4iwDQIQgAAEIAABCNhKYOFHd9uhEfWinb2XS6N9pXC+nb2X5Xzur/54cGhyztYQMi8IQAACEIAABCCQJYGhyTlZ8HtoVXtptC905+scnHr4+Q+cRHL55sPXbt7NEgTFIAABCEAAAhCAgN0Ert28u3zzYSeRfPj5DzoHp8Je7QvX+Uau3K1es89JJGs2diF8du+4zA4CEIAABCAAgVwJXLt5t2Zjl5NIVq/ZF/Zj/MJ1vme2HXMSyUde/HB89mauFCgPAQhAAAIQgAAErCcwPntTnlX8zLZjoS71heh8HWcuy20pHWcuWx8wJggBCEAAAhCAAATyI2AqU3jaF6LzPfHyZ04i+fSrPfnNn1oQgAAEIAABCECgQgg8/WqPk0g+8fJn8XO+zsEpWeTr+2a2QqLFNCEAAQhAAAIQgEB+BPq+mRVxCu9mjrDW+Z5rOSX36uY3c2pBAAIQgAAEIACBiiIg9/A+13IqpKW+sJxPrkZsPjJaUdFishCAAAQgAAEIQCA/As1HRuXO1zg538mLP61PcrtuflGnFgQgAAEIQAAClUZgfPamnN4N6QfZQlnnE1H9xdr9lRYt5gsBCEAAAhCAAATyJvCLtfudRLL5yGgYS32hON+G9kHu2M073lSEAAQgAAEIQKAyCcjduxvaB2PjfKta+51E8rmWU5UZMGYNAQhAAAIQgAAE8iAgt8Cuau2PjfOt3N7rJJIv/teZPGZLFQhAAAIQgAAEIFCZBF78rzNOIrlye2/MnG/NrrOVGTBmDQEIQAACEIAABPIgsGbXWZwvD25UgQAEIAABCEAAAnEigPPFKVqMFQIQgAAEIAABCORHAOfLjxu1IAABCEAAAhCAQJwI4HxxihZjhQAEIAABCEAAAvkRwPny40YtCEAAAhCAAAQgECcCOF+cosVYIQABCEAAAhCAQH4EcL78uFELAhCAAAQgAAEIxIkAzhenaDFWCEAAAhCAAAQgkB8BnC8/btSCAAQgAAEIQAACcSKA88UpWowVAhCAAAQgAAEI5EcA58uPG7UgAAEIQAACEIBAnAjgfHGKFmOFAAQgAAEIQAAC+RHA+fLjRi0IQAACEIAABCAQJwI4X5yixVghAAEIQAACEIBAfgRwvvy4UQsCEIAABCAAAQjEiQDOF6doMVYIQAACEIAABCCQHwGcLz9u1IIABCAAAQhAAAJxIoDzxSlajBUCEIAABCAAAQjkRwDny48btSAAAQhAAAIQgECcCOB8cYoWY4UABCAAAQhAAAL5EcD58uNGLQhAAAIQgAAEIBAnAjhfnKLFWCEAAVsJdJy53Nh1cfLqLVsn6Lru5NVbfd/Myuv67QWLZ8rUIBBNAjhfNOPCqCAAgQoisLq1z0kk5dX3zaytM2/suqjT7D4/bes0mRcEIksA54tsaBgYBLwEzEOmHjudRPLRdQee2XZs7fsDRdeFvm9mG7suyiukJahMkzInaKY37Tvv5RL/96FO8Jltx8z2PWnZc4oS3Mmrt3RvSbsrmrHG+eK/2zKD+BHA+eIXM0ZcsQTMQ6bnyK1vH113oIhHU7PHIjZrRtDsQmcRkLDS+R5dd0Cn3Hb8ksmn8HSw82m/jV0XC+yr75tZbS1tmMxYh7Q7FTgFqkPAbgI4n93xZXZWETAPmXpwTZso/Pgt4MweQzpIm12knYsnM61MxD3Mw1Pzq1v7ntl2LIzZZel8TiJZoG7ifHHfDxm/9QRwPutDzATtIWDq0dr3B/Q8WmPXxSc3dXvcqMDjt1AzewzJ+czTxzIj01Ge2XbMnGZj18WQhmHPXuKbicnTA7Ox66K5xOgkkoWc5MX5fOzJgEC0COB80YoHo4FAAIFgA+v7ZtZjfsNT8/7Wus9PN3ZdfGbbMVlVkuuuhqfm9YZK8/7Kte8PqEo2dl3UMp6Wr99e6DhzedO+89Ks3n+aqbx/VGaOOU3/upd576dnGNLI9dsL2q9eVaY5UsUDIW07OqTJq7fajl9a+/6AXPrWceZypntOhYOUFLxZGqrJ32zcP2w/ZB1npoTpfGbjisvcbeRPBe2375tZfxXXdc0Ba0Tajl/SvWV1a5/ZiPRlRrb7/LSAlQXOte8PdJy5nGkK0mPb8UvqrN3np9MOTAcjI8+pi4De2QQBOwjgfHbEkVlUBAHPIdM/5+u3F8zj9+rWPrPM5NVb5uFfD8+PrjtgLvZcv71gdqTFzMSTm7q15b5vZs3qWszsyyyvFTMlzN7TOp924SSSfl0zqz+z7Zj0YlZJO9onN3X7HeL67YVN+86bdTXtX0Y1V7m0mNxh4x+kZ+4mK1MTzXbMyGp+Nifxzcb9c3Rd13Q1AW66vmcvcl33+u0FHYCTSGaauFlG+vWExiwg6UfXHfAvNGbab51E0r975NeFJxy8hYCtBHA+WyPLvCwkYB7PTDMwp+o5AOsxfvLqLf8hNm1OTs7XfX46bSOezCI6n+u65pNN/Ed9s2ulZGZmSj+67oDiEqRpNUurr31/QMkvijdY+0wt0zG7rqt9BST89qmjkoTZuGeCUsAMovAcnpo3e/R4mOmIT27q9uxyZkVN+51PN3kSnih4RuIp7CSSHiU1PyP+wpLj6cKDi7cQsJgAzmdxcJmabQTM45lpBp55mutYenLToy+b9p1v7LpoLufoAVJOUMpZWrOpJzd1S6ac4pRTwFpLFrT8F+RJgeI6n0cyzOl3nLmsQzIP7ZqpCbkg0kPAHKdnhS9teT0dabYjD83pPj9tMveoiTlm13VNLTMjq6PVxOrWPlN5Jd/Tmuet2Xha5zMHrwuHZi2PVpp7RdvxS8NT87JjmPOV5wfpDpPJ+f6+vLr2/QGzQfNWEs+CoizsyZUJCsRJJE35Nj8jUia4Cw8r3kLAbgI4n93xZXZWETCPZ6YZeCZpHq2lmGlCT27qNpdt/OsophYE92i6gsdpzB6dRNJ0Kc9o/W/NTv3LeFLetATTSDLlm4rw6LoD5qqbh4AQ86zbBZSX8ZjMFaAoi1zYp3bon2+WzmcGLu2Y07bsaVzHJoXliXomHP0jwRNBbdzMN63adV3TxdMGzoys6XaetVvdW0ztNqfvuq65Nmme4s+1C50XCQhUAgGcrxKizBwtIWAez3JyPnNlyF/RPFT/fdXE1ILgHk1XMD1ScJt19SieTSTMimnVwXVd0zy0cc9EzCGZQ/UTMAVCFo3M05emU8r4TdkVHTSd78lN3R1nLpu9Lzprs7o5PHPYamP+MfhHaPZoNm426E/r5Y9S3RRoHZXZmic6Jn/PJmnQjKynL49k+wfg52m2psuTZmY2XZigSEPAegI4n/UhZoL2EDCPZ3oM9k/PPMUmxTTHszCjdc3Df5bOZ5538yzySbPmWpRqmfYYkDCnmVYd/LcRiHiZamue7zMvjHt03YG0XSsBGaq5wqSb0iZkAc+0RrPYM9uOBa/wyWBMkTIjq035A5cNJX/j2qA/4VlIc13X7EJCbMbU/2CXnJzP76nmkK7fXlh0BzM1UfXOHPOiXaTdE8iEgMUEcD6Lg8vUbCNgHs9MMzDnaR4I9aisR9NM7mU6R5bOt+gB3jStTP2aI9e0Oc1Mzue6rqllq1v7PBM3z8ZmMxIPIhOIbkqb0BGaw/aU9BubTlYSZndmZLUdP0CzOx2Dp1l/49qgJ5G2BdO65PypucDpF/1FdwlzzOY0ZZzmkOSBO5qTdnhpw5pTF2lxkQkBiwngfBYHl6nZRiD4eCazNde6VBR0nc9JJNNC0YNr9ud2TSHwH/49V3fpSNL27sk0p5npYO+/g8ScuK76aMvmBDXTTGgBGaoplJ7HX+sj4iRhuotcHmcKnDabFpEOwKxiNqjV/QCzpOS5nq/7/LT52Ly+b2Y9cqxDkoQpeWZaHtHiKVxc51t0BzMtXyNuYjFJylCVp2c/90yEtxCwlQDOZ2tkmZeFBIKPZ38/4+k5KutZRdOH/AdCz3nJLNf5zFUWXVA0oZva5FcWs6QnbU4zwPk8F/6bh3P/HIO3mlcH+q/n849h8uotk5Jn/PLWf3tEQJWSOV/AGNLOwnMyVzGmDWhxnc91XfOCwjyu5wveDXJFkZYPmRCIFwGcL17xYrQVTcCUIT2eyQ8PtB2/ZB4gnURSVz48dzx4zjP6D+rmsdDsURu8fntBDsCmYnrWsUyLCuO+XdkPTMlQHUl7xZ5ulYS5uOUhIGDNNSTPmtbk1VuC+u8kRRDliYarW/vk6dbmPmrKnAnWLONfitOtOmy/Y5mh8VuptuBpPGAMZhUzbU5Bx6N/TpglPeHQvpS2OWbdgbUFbVwX4cw/Gzz7rWcHy7sL7Z0EBCqBAM5XCVFmjpYQMA+Z5gHSn/Zfj2+e3pUn2TZ2XTTX/7QRPVR7zs+KuokBiIJ4xEgcKO2P//qVJSAk5jSDbcazFCRT8F+571mSlGKrW/v8Tyg0x2kKx98tJO3z+WR45llIsW05hWpOJK2JKgTTq0wZ0qCYA5NaZuPBlMzGzeBq78EJj13JgxgztaMDlmLPbDsmfix/JJhjNqcpAzDrSvsesBoFc0aeX+PItYvgubMVApYRwPksCyjTsZmAeTwzD5CetOeWVSHi8TNPFfOt53DukUUtKSsrnvPCutWT8CtLQJzMaQbbjOd3w6RTz/ilI8940r5dVJQ9tcyfa/MIoqekk0imXRhTCKbEmDKk7fgBZk/JbDwtHB1GpoQOQxL6YBR/+UwcRMTNMZvTlHbMXnScnlVYs4ykPQvMeXThnwU5ELCVAM5na2SZl4UEzOOZ/+Any2x6kss//0y/W6qLMdKmHm6lBc9v+Gq/KjGZfm/XPPPrVxb/8DTHnOaizudZCspUXoft+XFhzX9m2zH/FWOeu4O1sCw4eUCZwzZLeh4+rNM0E6aWmTKk7fgBmt1lmrV0YTbuGbM5hoC0x+TSgtLqZtx1/PJ3iDlmc5pSVwvruV3Jz7TfOomk3z7z60IHTwICdhPA+eyOL7OzioBcuue571LeZn8sH56al7O6crJSnvQ7PDWvzaZF1n1+2qzlP+pLAfnNicaui1JA2wwwUX935jT9HXnKe9YvM3WkPiHyJKNd+/6ACcHTsr6dvHqr7fgl+ckvuVc306jkZ+sElJw7bjt+KZvQmPzN8gEAs6dkNq6TyilhapxnXS1tO7KPrX1/QCDo06TNMZvTlEZ0slrebFyjICHoOHPZ34Lcza3t+AvoprRdmN2RhoCVBHA+K8PKpCBQKQSy1BGP81UKnWLMM0urLkZXtAEBCIRLAOcLly+tQwAC4RHwnNj1ny7UrnE+RZFrwjxb6j/FnGtrlIcABMpIAOcrI3y6hgAECiJg/ipu8I2xOF/eoBXdonei5N0FFSEAgdIQwPlKw5leIACB4hNY+/7AM9uOyUvvKUnbjRZLe1Nz2ipkysN6FN3q1j7/FXJQggAEYkQA54tRsBgqBCAAAQhAAAIQyJMAzpcnOKpBAAIQgAAEIACBGBHA+WIULIYKAQhAAAIQgAAE8iSA8+UJjmoQgAAEIAABCEAgRgRwvhgFi6FCAAIQgAAEIACBPAngfHmCoxoEIAABCEAAAhCIEQGcL0bBYqgQgAAEIAABCEAgTwI4X57gqAYBCEAAAhCAAARiRADni1GwGCoEIAABCEAAAhDIkwDOlyc4qkEAAhCAAAQgAIEYEcD5YhQshgoBCEAAAhCAAATyJIDz5QmOahCAAAQgAAEIQCBGBHC+GAWLoUIAAhCAAAQgAIE8CeB8eYKjGgQgAAEIQAACEIgRAZwvRsFiqBCAAAQgAAEIQCBPAjhfnuCoBgEIQAACEIAABGJEAOeLUbAYKgQgAAEIQAACEMiTAM6XJziqQQACEIAABCAAgRgRwPliFCyGCgEIQAACEIAABPIkgPPlCY5qEIAABCAAAQhAIEYEcL4YBYuhQgACEIAABCAAgTwJ4Hx5gqMaBCAAAQhAAAIQiBEBnC9GwWKoEIAABCAAAQhAIE8COF+e4KgGAQhAAAIQgAAEYkQA54tRsBgqBCAAAQhAAAIQyJMAzpcnOKpBAAIQgAAEIACBGBHA+WIULIYKAQhAAAIQgAAE8iSA8+UJjmoQgAAEIAABCEAgRgRwvhgFi6FCAAL/g0DHmcvvnfyWV4EELl25+T+w8gYCELCUAM5naWCZFgQqgMA/rf3YSSR5FUgg+cV4BewsTBECEHBxPnYCCEAgrgTE+arX7Ht03QFeeRD42eoPnEQS54vrB4BxQyBHAjhfjsAoDgEIRIaAOF+qbyIyI4rZQB5ddwDni1nMGC4ECiCA8xUAj6oQgEBZCeB8BeLH+QoESHUIxIsAzheveDFaCEDgvwngfP/NIq8UzpcXNipBIK4EcL64Ro5xQwACHuer3dH78PMf8FqUgN6oi/PxIYJARRHA+Soq3EwWAlYR8Djfyu29Bd7BWiHVv/n+huwHOJ9VnwcmA4HFCOB8ixFiOwQgEFUCOF9+korzRXWPZlwQCJcAzhcuX1qHAATCI4Dz4Xzh7V20DAH7COB89sWUGUGgUgjgfDhfpezrzBMCxSCA8xWDIm1AAALlIIDz4Xzl2O/oEwJxJYDzxTVyjBsCEMD5cD4+BRCAQPYEcL7sWVESAhCIFgGcD+eL1h7JaCAQbQI4X7Tjw+ggAIHMBHA+nC/z3sEWCEDASwDn8xLhPQQgEBcCOB/OF5d9lXFCIAoEcL4oRIExQAAC+RDA+XC+fPYb6kCgUgngfJUaeeYNgfgTwPlwvvjvxcwAAqUjgPOVjjU95Urg2s273eenG7su9gzP8AqDQGvPWGPXxY4zl8NovARtVq/Z5ySSqb4J2bWy+e211OmfCuveuLXzQjbmtKF9MHV6Yvnmw9kUdhLJmo1d2oUnsWz9gSwbCamY53c4Xv7w6xIEK4wuGrsuNnZd7BycCqNx2kx+MZ78Ynxocs6zA/M2vgRwvvjGzv6R945eCemYR7M2EcjD+ZqPjNa39TcfGZVPUc/wzKJARBZrd2T7k77Va/bVt/XXt/Vv7bwgvWxoH5QcUdVFewyvgMf5wuuIli0g8NvG4/YfbCpmhjhfxYQ6hhNV56uqS/EKg4AckH62+oMwGi9Bmw+tas9vnU/Vbdn6A/LJ2NA+6CSS1Wv2qQg2HxlNnZ5InZ5Ytv6Arg4OT82nTk/Ut/U7iWTtjt7hqXnXdYen5qWw5HsO87rgJ8t71Wv2abNSUuqueOPoijeOyiZp1nVdbbCqLrWhfVCGOjw1v+KNo1J3xRtHtXCWC5ZOIulxvoefj+sOIBDiO/4SfEYK6UI+XzhfDA+eGYeM82VEw4ayE1DnK/tIbB1AzcYuJ5HcdmgkphPM43o+/3Jd7Y5e8baqupT4U8/wjEqe67qm88mmDe2DUst13dTpCbWu5iOjHuEzT/LqKd2e4RnXdcUy1QhrNnbVt/VLIMQsJS3FxETN/BVvHFVh1YpS2D8GT47H+ZJfjMd0B6iqSzmJ5Gfnp2M6/ogP+z92DziJJM4X8TDlNDycLydcFC4pAZwvbNw4n+lkpvzJMp7wF1fzyKJskvVClcUsnW/FG0elupNIisylTk84iaSo2/DUvJz8VR1Ut6vd0VuzsUtOFstqn7SzfPPhZesP1GzsEgfyGJ7/Lc4n3Pg3mADOF8wnjltxvjhGrVLGjPOFHWmcz0kk5Zzp8NS8KJd6W1VdSvgHOJ8u3UkjWtfULFPdNF9a1tO1cmuIZwBOIinFtAXP/lBVl5IlQ8lXWdReMiVwPg9J3qYlgPOlxRLrTJwv1uGzfPA4X9gBxvl0CU3urnBdV+/nWL75sPAPcD69jVfcK3vn07OxZo+6zieuVr1mnwxAnU/yq+pS5l0gyzcfXvHGURmArBdmUj3Nx/nC/mTZ0T7OZ0cczVngfCYN0tEigPOFHY+KdT65ME4XyVKnJ0SkBLjc1avwxfn03g65/VaX6Mz7f7N3PvU513X1hhIVwZ7hmfq2frlMUNqUoUq+pLd2XtBrCpdvPiwnfNMOQFVPEzifBpdEAAGcLwBOTDfhfDENXEUMG+cLO8wV63wKVm7C1cvgdG1P7uqQYuJ8y9Yf0Hs1hqfmq+pSaoFaOK1y6SqdnggW99Lq2ruu8+nwmo+MylbzPhLXdSW/qi5l3mvSMzzj6UIlz5PA+ZQwiQACOF8AnJhuwvliGriKGDbOF3aYK9D5PPaT9m3Nxi4h49/q2VS9Zl/Nxi7zTKu/SqYcMUjzTltxPvG5mo1dfoFLe6NGVV0q1zHgfGF/suxoH+ezI47mLHA+kwbpaBHA+cKOB86XScjCztcFRVPs1PnC7h3nC/uTZUf7OJ8dcTRngfOZNEhHiwDOF3Y8cL6w7SpT+8s3H/YsGcoTodMu72VqJO98nC/sT5Yd7eN8dsTRnAXOZ9IgHS0COF/Y8cD58tamWFfE+cL+ZNnRPs5nRxzNWeB8Jg3S0SKA84UdD5wv1uqW9+BxvrA/WXa0j/PZEUdzFjifSYN0tAjgfGHHA+fLW5tiXRHnC/uTZUf7OJ8dcTRngfOZNEhHiwDOF3Y8cL5Yq1veg8f5wv5k2dE+zmdHHM1Z4HwmDdLRIoDzhR0PnC9vbYp1RZwv7E+WHe3jfHbE0ZwFzmfSIB0tAjhf2PHA+WKtbnkPHucL+5NlR/s4nx1xNGeB85k0SEeLAM4Xdjxwvry1KdYVcb6wP1l2tI/z2RFHcxY4n0mDdLQI4HxhxwPni7W65T14nC/sT5Yd7eN8dsTRnAXOZ9IgHS0COF/Y8cD58tamWFfE+cL+ZNnRPs5nRxzNWeB8Jg3S0SKA84UdD5wv1uqW9+BxvrA/WXa0j/PZEUdzFjifSYN0tAjgfGHHA+fLW5tiXRHnC/uTZUf7OJ8dcTRngfOZNEhHiwDOF3Y8cL5Yq1veg8f5wv5k2dE+zmdHHM1Z4HwmDdLRIoDzhR0Py5zvs/PTzUdGeS1K4PrtBdm1Hl13wEkkk1+Mh72nhdR+VV3KSSQ/Oz8dUvsV3izOZ98OgPPZF1N7ZoTzhR1Ly5wvbFz2tY/z2RfTIs4I5ysizIg0hfNFJBAMIw0BnC8NlKJm4XxFxRm/xnC++MWshCPG+UoIu0Rd4XwlAk03eRDA+fKAllMVO5xvdWvftkMjvPIg8MiLH3JuN6ePTEUVxvnsCzfOZ19M7ZkRzhd2LO1wvrxvZaCiEOB6vrA/aDFtH+eLaeACho3zBcBhU5kJ4HxhByDuzrfyzRNPbuqO7GvZ+gd3SFTVpSI7QhlYfO+B4B6OUL8icL5Q8ZalcZyvLNjpNCsCOF9WmAooFHfnK2Dqpaja2jPmJJK/+uPBUnRWkX3gfKGGHecLFW9ZGsf5yoKdTrMigPNlhamAQjhfAfAWr4rzLc6osBI4X2H8FqmN8y0CKIabcb4YBq1ihozzhR1qnC9UwjhfqHhd18X5QiWM84WKtyyN43xlwU6nWRHA+bLCVEAhnK8AeItXxfkWZ1RYCZyvMH6L1Mb5FgEUw804XwyDVjFDxvnCDjXOFyphnC9UvKzzhY0X5wubcOnbx/lKz5wesyWA82VLKt9yOF++5LKqh/NlhamAQqzzFQBv8ao43+KM4lYC54tbxCppvDhf2NHG+UIljPOFipd1vrDx4nxhEy59+zhf6ZnT4+IEFn58UMbjfJK5eGVKLEZASZrOp5mL1Wb74gQEpsf5ILw4uOxKKElznU8zs2uDUkEEBCbOF8QonttwvnjGzepRD03O/eqPBwcnrpnOlzo98eSm7ms371o99VJMbuFHt3ZH75/3fOW6rjrf9/N3nnj5s44zl0sxAtv7OPT1dM3Grsmrt0zn29p54beNx/GSwqXlACcAACAASURBVIN//fbC8s2H245fMtf5hqfmf/XHg2fG5wpvnxaaj4w+/WrPnXv31fkWfnSfazm1oX0QOHEngPPFPYIWjl9E5JEXP3zv5Lfy21Cp0xMPrWp3EsnVrX0WTri0U2o+MipU/7znK0H9148vSGLpC3u/n79T2uHY1tv12wtLX9grj2LedmhEEls7LwjzbYdGbJtwyecjB62HVrW/d/JbWedrO36pes0+J5Fctv4AVl1gQIYm5+TL9jdbPhfUv208/lzLKdmBOwenCmyf6uUlgPOVlz+9pyEwNDkn3+By7HQSyZ+t/sBJJJ94+TPW+dLwyjFL1vnkG1w4y78/W/3BRwOs8+VIM13xQ19Pi4sI2Ede/FBor3zzBEaSDlhuebLO5ySSD61qf/j5B98MQviRFz8cnLiWW1uUTkdA/yz8xdr9TiIp/zqJJOt86WjFLA/ni1nAKmS4qn1ysET4iht3U/uEMMJXXMKqfboDI3xFJKzap3gRviLidV1XtU8JI3zFJVyu1nC+cpGn30UIDE3O6TofK3yLwMp9s6l9CF/u/BavcejraTlH5iSSCN/ivHIscf32whMvfyZGgvDlCC+r4qb2IXxZIYtDIZwvDlGq1DF+NHB56Qt7Eb6Q4n/n3v2ajV0IX0h4Xdfd2nnh4ec/QPhCIjx59dYv132M8IWE13Xd1a19nNIND29ZWsb5yoKdTrMlMDw1zzV82cLKvdzCj27fN7O516NGtgT6vpnlGr5sYeVe7vrthaFJ7tXNHVzWNU6N8f2QNaw4FMT54hClkozx04mx1gsDvLIkcHL6bzmFZWz+apYtU6z1wsB7F8/lhNd13dTw1dbBK7yyJDBypdSPPWo7fqm1Zywur/HZm7nugZ7yJy/OxmWy1o/z0NfTnuhU7Fucr2JD7534U/vbnKYGXlkS2PBFt5dg4PvU2FCWLVPMaWpY0rolEGeajdWNg87mfl5ZEmj7qtTrN3p1o94WEOVE4Q8lqW/rj/IEK2psT7/ak+YroyKzcL6KDHu6SYvzVe98/bH2HbwCCCx9d6vT1JCf8z3csjmgZTY91r7j57u2FeJ81Y2Dj7Wc5xVAoOrVAWdzf7mc75frPv7VHw9G+SVuWiznW/rC3ihP1vqxyXN8cD495uN8iqLSE+J8rwycqHQQi81/5aEP8na+n+/atljzlb69+/KlQpzvo//LE9oW2YUeazlfRufrHb2yyPjKvVksoVjO91zLqXJPqKL7f/nDr51EEufTnQDnUxSVnsD5stwDcL4sQeVXDOfLj1v2tXC+YFY4XzCfeG3F+Tzxwvk8QCr3rcf5Zm7fHJu/yksJXL/30zXvRXG+O/fua8skxuavTt68Lp+9Yjnf9A137NpdXkrgzr37Qjgizjd59dbYzI3ovPT26pCc7/v5O9GZrPUjmbx6S/Z2nM/jNDifB0jlvvU4X213BzcTmAQaz/30U79Fcb6T038zGyf9WPsO+ewVy/lq3hnK8m6GCinW/e1PVh0R5/vVHw9G6jYCvVE3JOdb+/5ApOZr92B+23hcvk9wPo/T4HweIJX7FucLFi+cL5hPgVtxvrDVE+cLthycL5hPvLbifJlUBufLRKbi8nG+YGvB+YL5FLgV58P5ymsVOF95+Re3d5wvk8HgfJnIVFw+zhdsLThfMJ8Ct+J8OF9xj/q5tobz5UosyuVxvkwGg/NlIlNx+ThfsLXgfMF8CtyK8+F85XUInK+8/IvbO86XyWBwvkxkKi4f5wu2FpwvmE+BW3E+nK+4R/1cW8P5ciUW5fI4XyaDwfkykam4fJwv2FpwvmA+BW7F+XC+8joEzlde/sXtHefLZDA4XyYyFZeP8wVbS6Sc76n9bfXHOpft3h48ZnPrktYt9cc6I/sIHpwP5yvuUT/X1iLifNVr9tVs7KrZ2FVVl8p1CpRXAjhfJoPB+TKRqbh8a5wvJLkpsfO9dKo7NTakr+ahsysOJtXher4bd123eeis5vgTKw4m64911qRaZNNT+9tkn87JFP3NhpRjpfPVvDNU/8n4yr1jYftcNu3H+lkty9YfEBPSg3rRE2V3vqq6VPORUfPA03xktOjTLE2DqdMT5kQ0XbIZ4XzK3JPA+TxAKvdt4c63bPd2cZTqna+rGYi7mL6im0JKhCQ3JXa+1NiQ67ojcz9IQvbLl051C7SaVEv9sU6Tsx+mVNSFvSWtW2q7O0oZCP+QAnKi43wvfX45NXzVfNV/Ml716kA2XuUpU//J/1fzge89+WV5G1PnW7b+QM/wjPm9XLujN1hcUqcnUqcnqtfsCy7m2Vp256vd0SvTrG/rr2/r17RnnLF4u+KNozKL4al513V7hmfk7Yo3jpZm/Dif+ZEx0zifSaOi04U7X02qRQimxoaWtG6RA7zHPAKO+sXaFJLclMX51NhquzuEreR41vBWHEw2D51NjQ29dKq7eufr1Ttfrz/WOTL3g6wF1h/rXHEwKZn1xzqFs7xNjQ2ZK4hapv5Yp2ySvUKq1HZ3iNPXdnfUH+sU6dQqoqHmJq1Vf6zTbCdtoKPjfKnhqw9s+8pd0T7BXv/JeB6ihvOZX6kPrWp3Esne0SuSmeXvcMjS1/DU/Io3juoyWM3GrgB1kPaXrT8QUMa/qezOJ2tjqdMTMrbaHb1bOy+IJFXVpTa0D8q8BIWUqV6zT5k0HxlV2V3xxtHU6Yn6tn4ptqF9UN+aVXqGZ4TSsvUHpK6uz2ndqrrU1s4L0nXP8IyST9uOn6o0qMt79W39qdMTG9oHpeTyzYdTpyeaj4xW1aU8A+gZnlFrr93RK+7ouq7W9fdl5uB8EjL/vzifn0mF5hTR+VzXfWXghBza1flUDiRfFEEURNOvDJxIjQ29MnBi2e7tKw4mxTBUU5ymhqf2t4ncSBlpSvxDG/F0JAqosqIymtY8AjLL63xOU8NLp7of/MX83bjT1KBUnaaGVwZOmLvsyNwPKt+a3zx0VjOdpoZlu7frJkmIpmsZc6vsGNKjme+67rLd2z1VmofOimtK1Kp3vi5VYud8ekL2pc8vP1Dnf6zV1bwzJAuBr/ROmT/vljbf43zLd400D3yfGr76Su+U/ACaeOTKvWPilyv3jtV/Ml7/yXh142B146Ck6z8ZTw1fbR74fvmukTy8U6vEdJ1P9h9VkK2dFza0D4p5+LVDXEeq9AzPpE5PLN982FSBgHTZnU/X+cTPTGdV8VUnW/HG0aq6lK6iaf6DT+X6A7JMqKal4mVW0dVTuYJQoA1PzWt+7Y7eqrqUvDXzl28+nKkdP17tWjYt33xYOpKrFc2tku+6bur0hI6hes0+E4uU2dp5wd+RJwfnU56eBM7nAVK5b4vrfK7rylFf7UTlQEVNWDtNDfXHOoO5S1P+YnKxmqeu2dGS1i1y6ZuWMdcgAwzPv6nszmfOS6muOJiUqS3bvX1J65bmobN6nZ+WkbmY1XUJ0PS/FQeTWmbFweSS1i3SgiwESi9yNlkt03S+nu/Gn9rfJsItZ6XVR8VT/UjNnKit84nzVb060Dzw/YO/YXqnnM39K/eO6Y4kiZc+vxyQbzqfpM3qooyyrGjmu677WMv5mncenNz3/FeI9sXU+XQda2vnhdodvbr2k1Y7TOeTdaPsTyaW3fmcRFIX8zTu1Wv2LVt/QN7W7uit2dglq27DU/MiQ8NT8+JP6kYBzqdllm8+XLOxS9Rqa+eFmo1d0oXItHTRfGTU00V9W//w1PyG9sFM7XjEy0kkTauTreKp9W39Oi/pVAagci8VFYgMUvvV3cDfo+TgfLoLeRI4nwdI5b4tovPJipTrurJW57pubXeH+oQc6VXgTOer3vm6LkGJKGgxz4qRaIeU0ZitOJg0LUSdY2TuhyWtW6p3vi6uoydMTedYNF1259PTu+Y6n/DRmzlkmjKXAOcTYnozh8TLsxaocWkeOuvpRWNh0tbWlrRukfbVR7MBHjXn051KzvNWvTpQ3fjTyTXRQfW/x1rOS2F/vjqf1hVpe6V3ynXd7m+vayPVjYPO5n7J9zjfyr1jVa8OiBrqcqOu3mWfiKnzyVk/Mxw9wzNOIqmHf4++OIl//BUUt3O7qi81G7tqd/SKkMnpVHP6mvYs5lXVpWRTgPPpZYLayIM/EY+MqvPJGLRlTejYzAJmI9KOp1ha59PAiVlKNP1R0649vegc/X2ZOThfWm6u6+J8mchUXH4RnU9lS9Z7snQ+FRdBL6KgpqgJT2CcpgazvNPUoCVNNxINqt75ekzP7S5p3SLCKifN1efExlJjQzLBZbu3i177525iEWJ6S68I9CsDJ8wyfucze5EWTOczpVkXAqWYuSlTOmrOlxq+KqdWRZWaB77XhTfVLNmk3ubPV+fTugJE/9UCUlfV0Fznk02ektpX9omYOp8cyKvqUjUbu1RZNrQPalphqnZIjnlu1LSBTOmyr/PJtW56PZ+eBvUIWVVdSla5hIA6k5ZX59NNsrTWfGRUqmgX1Wv2yRqhpwsppuW1neWbDzcfGZX7M+QkrMDUdvxs/et86qYSJj35Lm91XVaMUP51XVevI8wyrDif+bkw0zifSaOi08V1PqepwTypaq7ziXXpWqDpFiIEEoZMzleTatGXrC1JeV1nMsVF3EivCHxqf5usBWYyj4D8sqzzyRrbS6e6Rfhc1xV66nw6WblPQpibXpgaG5JZa0nVQdmky4dP7W8zy5hx0XyJo0Y2k/PpYq3runqvcQBbp6khas6n1/OprmlC7+EduXLXdV11Pn++iprWrXlnSF+PtZyXAqnhq6JuumSI84k9yA0Ecten5MjJPtURv774V4z8IpI2p+zOp+cxZXYqak4iqWt+9W39ekK2es0++epTGj99E/7/59roJj053nxkNG2VFW8czeR8Wl5uvJA269v6Nd/sWnXNxOt3PieRVJPTE9MaNblLQwvUbOxSLPVt/TKXnuGZRR9eiPNJsPz/4nx+JhWaU3TnM6+lq+3u0BOCL53q1sepuK5rukWA8+kZw5dOddekWl4ZODEy94P4hAQsrfPJMtjI3A8rDib1VGN+zyspi/OZ+2JqbEgfzqLO5zQ16LykcM934+KFJmTzxg6nqcEMjdQSLVa3k0CYp3QlbY7Hcw+HR+nUC7NcWI2a8730+eWad4aW7xrR23irXh2Q6cvdG3oeNiBfnU/LSLOv9E6NXLkraWlz5d6xmneGzKU41cQKX+cTxREV0MO/XNgn6PzaIfk9wzNbOy/oMpIpImnTZXc+8+ZcnZrIjdxXK5mynCn5urbnuq44otzDkfbSQLmlY/nmw1pSb4PN5HxOIrls/QFPee3ak5+Walrn0yv59Oo9dT5tU29PNm8clse+ZLPUh/Pp3uJJ4HweIJX7tujOZ94fIIt2urZnUs7S+eSmXbOi67riQJKZ1vnMs8xSTG8o9jjKom9L7HyyhKYrmp7hyVbVqeqdr8tDUvR0rZTXW5jlpHZNqkUpyUlw+WUObWdJ6xazTPXO12tSLSqay3Zv10e0yMBEH80qOk6xUj1fr/mZElFzPs+eJtfh6Tqcbg3OV+dzNvcv3zWitSQh1/BJGc8m1vlUIKrX7BNvUET6tI60+uIkkiveOKqFs7nHU/oqu/PplDP9Doc8mNq/xKVPq5ZZqxLJDblpb3fQKtppcGLRroOre7ZqgMyx6eDT9hUwF0/j8hbn04+AJ4HzeYBU7tvCnc9jDKodNakWtQp9iptYiyiIxy3EJ6SKp0158IrneW/qH9Kjp4qop8pKJudYNL/EzrfoeKJcQM/tehw0YMzRcT7xLT0Daz6Q5e+3WVS9OrB814j/1zXS5lc3Dta8MyRuJ3XlaSye22/lJK88okX6lcI17wzpI108TWV/GZ+WNBcRnc39bV/NlvjLLr/n88khXK7n04u6zMN8Wn2R8mo/ZvlM6eg4X6YRLpovAc1p1ou2GUYBPT1tNl7cweN8mT7dOF8mMhWXX7jzBRzRLdiE82UfRFl0zOZ2XW0zOs6nkmRZItbOZ8pBSGkLnC/TAmFIxPJrtqouJVcQmot8TiJZ3MHjfJkMBufLRKbi8nE+9Y+0CZwvLZZiZeJ8YSsmzhfsKBY4X/AEK2orzpfJYHC+TGQqLh/nC9YXnC+YT4FbcT6cr7xSgvOVl39xe8f5MhkMzpeJTMXl43zB1oLzBfMpcCvOh/MV96ifa2s4X67Eolwe58tkMDhfJjIVl4/zBVsLzhfMp8CtOB/OV16HwPnKy7+4veN8mQwG58tEpuLycb5ga8H5gvkUuBXnw/mKe9TPtTWcL1diUS6P82UyGJwvE5mKy8f5gq0F5wvmU+BWnA/nK69D4Hzl5V/c3nG+TAaD82UiU3H5OF+wteB8wXwK3Irz4XzFPern2hrOlyuxKJfH+TIZDM6XiUzF5Xucb/WR/Uvf3cpLCTQPnZV9YuWhD5ymhg1fdOe0i6TGhpymhp/v2ia1Tk7/TVsmsfTdrf/c8Y6Q6b58SX7eIye8D36UpXHQ2dz/0f+9JhWX7xpZ+voALyUQtWe1PLmpe+kLe6PzCtv5/rznq+hM1vqR1O7ole+Blz/82kkkn361J9fvE1vL43y2RjbneXmcL+f6FVOhKM5XMbRynmixnC/njiumgvy2R9l/hyOyvB958UMnkewcnCpwhPJjss+1nCqwHaoXQgDn89DD+TxAKvctzpdl7HG+LEHlVwzny49b9rVwvmBWOF8wn3htxfk88cL5PEAq960638KPLq8AAgU6X0DLbFr40f10YqyQc7up4atgDCZQXuc7eXE2eHhl31p05yv7jCp5ADifx2lwPg+Qyn0rzlfglfiVUz2/6/kqh0+BM13SuiXXj6Jczxf2nRDWtF+uc7tRvvDfHFuxzu2abZIuFwGu59OvU5xPUVR6AufLSVNwvpxw5VoY5wtbLnG+YP/A+YL5xGsrzqd+g/MpikpPjM1fHZydjtTrvYvnxBUiNSoZzOTN6zntMbN3bkdwFlEeUk54XdcduXJ3cOYWrywJXLt5N1fCBZYfnLgWo9f12wsFznfy6q0YzTftUJ9rOeUkkr/Z8nnarTHK/Ob7GwVG05rqOJ81obRwIien/ybOZ+HcmBIEIACBaBP4j90DTiKpz7qL9mAZXVYEcL6sMFGoLARwvrJgp1MIQAACruvifPbtBjiffTG1Z0Y4nz2xZCYQgEDcCOB8cYvY4uPF+RZnRIlyEcD5ykWefiEAAQjgfPbtAziffTG1Z0Y4nz2xZCYQgEDcCOB8cYvY4uPF+RZnRIlyEcD5ykWefiEAAQjgfPbtAziffTG1Z0Y4nz2xZCYQgEDcCOB8cYvY4uPF+RZnRIlyEcD5ykWefiEAAQjgfPbtAziffTG1Z0Y4nz2xZCYQgEDcCOB8cYvY4uPF+RZnRIlyEcD5ykWefiEAAQjgfPbtAziffTG1Z0Y4nz2xZCYQgEDcCOB8cYvY4uPF+RZnRIlyEcD5ykWefiEAAQjgfPbtAziffTG1Z0Y4nz2xZCYQgEDcCOB8cYvY4uPF+RZnRIlyEcD5ykWefiEAAQjgfPbtAziffTG1Z0Y4nz2xZCYQgEDcCOB8cYvY4uPF+RZnRIlyEcD5ykWefiEAAQjgfPbtAziffTG1Z0Y4nz2xZCYQgEDcCOB8cYvY4uPF+RZnRIlyEcD5ykWefiEAAQjgfPbtAziffTG1Z0Y4nz2xZCYQgEDcCOB8cYvY4uPF+RZnRIlyEcD5ykWefiEAAQjgfPbtAzhfFGM6c/vmktYtTlPDwy2bl7RuqeTXwy2bIwLh4ZbNRCRqu6LT1LCkdcvg7HQUP8aMyQoCj7z4oZNI/mz1Bw8/X3Gvh1a1O4nkQ6vaK3DuDz//gZNIVtWlhqfmrdiRf5oEzhfFaM7cvuk0NfCCAASyIYDzRfFbzJYxVdWlnESSV8USGJqcs2VffjAPnC+K0VTne+/iuZ7vxnlFgcDKQx84TQ1P7W+LwmAYQ893459OjIkR4nxR/BazZUzifNsOjfQMz1Ta67mWU04i+cTLn1XaxHuGZzoHp0Rzcb7pG26WLyfLcjkVW7m910kk1+w6a8tXSpp5qPONzP2QZjNZ5SCw5sQnTlPD/+naU47O6TMNgev37uJ8abiQVVQC4nyHvq7E6wf+vOcrJ5F8+tWeohKNR2PXbt7F+XJys+kbLs6X586N8+UJLsxqOF+YdPNpG+fLhxp1ciSA8+F8Oe4ykS7Oud0ohgfni2BUcL6oBQXni1pErBwPzofz2bRj43xRjCbOF8Go4HxRCwrOF7WIWDkenA/ns2nHxvmiGE2cL4JRwfmiFhScL2oRsXI8OB/OZ9OOjfNFMZo4XwSjgvNFLSg4X9QiYuV4cD6cz6YdG+eLYjRxvghGBeeLWlBwvqhFxMrx4Hw4n007Ns4XxWjifBGMCs4XtaDgfFGLiJXjwflwPpt2bJwvitHE+SIYFZwvakHB+aIWESvHg/PhfDbt2DhfFKOJ80UwKjhf1IKC80UtIlaOB+fD+WzasXG+KEYT54tgVHC+qAUF54taRKwcD86H89m0Y+N8UYwmzhfBqOB8UQsKzhe1iFg5HpwP57Npx8b5ohhNnC+CUcH5ohYUnC9qEbFyPDgfzmfTjo3zRTGaOF8Eo4LzRS0oOF/UImLleHA+nM+mHRvni2I0cb4IRgXni1pQcL6oRcTK8eB8OJ9NOzbOF8Vo4nwRjArOF7Wg4HxRi4iV48H5cD6bdmycL4rRxPkiGBWcL2pBwfmiFhErx4Pz4Xw27dg4XxSjifNFMCo4X9SCgvNFLSJWjgfnw/ls2rFxvihGE+eLYFRwvqgFBeeLWkSsHA/Oh/PZtGPjfFGMJs4XwajgfFELCs4XtYhYOR6cD+ezacfG+aIYTZwvglHB+aIWFJwvahGxcjw4H85n046N80UxmjhfBKOC80UtKDhf1CJi5XhwPpzPph0b54tiNHG+CEYF54taUHC+qEXEyvHgfDifTTs2zhfFaOJ8EYwKzhe1oOB8UYuIlePB+XA+m3ZsnC+K0cT5IhgVnC9qQcH5ohYRK8eD8+F8Nu3YOF+0only+m8LP7oe5zs5/bdojbKSRnP93t3B2WnXdU3nG5n7Yeb2zUrCEK25ysfE43x8TKIVpJiPpu+b2Tv37ruuazrfyYuzMZ9WVsO/c+9+3zcPZvrnPV85iaQ436UrNyev3sqqfswL9Y5eWfjRvXbzrpNIOonk0OSc67rWhB7ni9Du+d7Fcw+3bF59ZL/pfKIazUNnIzTQihnK9Xt3/7njnaXvbj05/Td1vpG5H36+a9tj7TvQvrLsCKmxoYdbNtd2d5jO99KpbqepofFcX1mGRKeWEeg+P11Vl3r61Z479+6r8207NOIkkn/e85Vlk/VM5869+7/Z8nlVXapneEad79KVm/+09uNl6w+Mz1r+t27yi/GHVrU/13LKdL7/2D3gJJKNXRc9rOL4FueLUNTkuOU0NdR2dzhNDU5Tw+oj+yWx5sQnERpoxQxlbP7qz3dtc5oalr679f907XGaGv53527NkfW/ioERlYluOntUPhQSEfNjsvrI/qiMknHEmUDzkVFZ43n61R5xvvq2fsl5ZtuxhR/jPLfFxj559day9QecRLKqLvVcyyknkVy++fA/rf3YSSSXvrBX1v8WayPG21/+8GsJdO2OXkmsbu2TRH1bf4wn9o+h43z/IBGN/6v2yVFN/q0/1hmN0VXiKFT7Hm7Z7DQ1yL9L392K8JVxb1DtMz8mq4/st/tgXEbgFdi1at9Dq9rlkO8kks9sOyYnfO0Gotr3s9UfiPyJ8J0aq4hT27K6qUGXxL+9e9qOoON8kYvjhi8enKXSF8JX9gip9klQEL6yR8R1XY/2IXxRCIplY1Dtk6N+hQifBFG1T+a+9IW9FSJ8Mn2P9lkjfA8uTN911kkkV27vnb7hFv3lFL3F6Rvuyu0PVlzX7LL5+raVhz4QveBcVUSOImPzV1nhi0gsdBh6CURtdwcrfIqFRBEJ6LFfru0rYsvRb2ry6q2Hn/9pna+ihE9CY57bjX6wsh8hzpc9q5KWrD/WyQpfSYkv1tnJ6b/VpFo4pbsYp5Ju3/BFNyt8JSVeeZ1t7bzw28bjlXBK1x/bwYlrT7z8WQUKn6D4j90DNq3wyaRwPv9+7s3pvnzpvYvnKuT16cSYd/45vv90YqxCWNk0zdTYUI5xzlj8+r27NpEx58Kd2hmjXpINp8Zm3zv5bYW8Os5czgnq4MS1GJHpPv/gAVh5/Hf99kKMppnTUL+fv5MHkFyr4HyLE/uXA+/p1XXWJ/65453FiQSWeKx9h/WU7Jvg0ne3BkY1h42TN6/bx0dm1PPdeA4gKFpsAv/27mnPlfUWv61esy8nfhvaB2NE4zdbPs9pdlr40pWbMZpmTkMtzSMAcT7dlzImxPmWvrv1l++/afFr6btbnaaGYjlf9c7XLWZl09Sqd74uD6PJ+AHIcYM63893bbMGFM6X414QSnFxvqUv7P3luo8tflWv2eckkvk5X1VdKuJklr6w10kkC3e+X6zdH/GZZj88UUOcL/1NJaW/h0Ocb9PZo6F8jUWm0cZzfUV0vneHv4zMzBhIEIFPJ8ZCcr7Jm9eDOo7VNrmDh3W+8gZNnG91q+VP3v5o4HLezrfyzRPljdGivf/14wtFcb7SnAlddDpFKSDPA8L5cL6i7E7ZNoLzZUvKrnI4XzbxxPmyoRR2GZwvgLCc28X5AhBFdhPOl9725MkvZV/nu3Pv/uTN69a89H60kJxv9s5ta1jZNJHZO7flG7AEzhdfbvoIGJwvCsdLj/Mt/OiOz9605nXt5l2BXJR1vuu3FyJFRmdX9HW+SE0zp8HoZwrni7TzyTHSmqvU20fPy54XkvPpD2RZQ8yOiTy1v03iXgLnk0tF48hNzRjn0+NTGRMe5xuems/pGvmIF97aeUHYFsX52o5fitR8X/yvMzK7ojuf/DhepCab5WCuZlTKYQAAHu5JREFU314QJjgfzvffv8MR9pES5wubcDTbx/myiQvOV0bD83eN8/mZaI7n3C7Ol6V4lbEYzhekevqTHmU/t8s6n37LpE3Is1r0Hg7W+bJxi9KXwfmyYY7zpf2MlysT5wsgj/OV0d7y6xrnw/lKt7ynBzzW+RRFRSVwvmzCjfMFSEbpN+F8AcxxvvzEq4y1cD6cD+crA4Fsjv32lcH5sokpzhcgGaXfhPMFMMf5ymhv+XWN8+F8ZTAe1vmyOfbbVwbnyyamOF+AZJR+E84XwBzny0+8ylgL58P5cL4yEMjm2G9fGZwvm5jifAGSUfpNOF8Ac5yvjPaWX9c4nyXOt2z39ppUi/ykVTbHlfKWqcx1vuqdr9cf66w/1lle+AG9hz1CnC8Avm7C+QIko/SbCne+ZesP1GzsqtnYldNBevnmw6nTE/Vt/TnVyrUwz2rJZo/S39vV3+Eo/bNaVrxxtL6tP9e9yL8/4HyWOF9qbMh13druDj1ypE3I/r1s9/a0W0uWGQXne2p/m/6q1cjcD68MnAjbmGtSLcK/EM4vnepOjQ2Z4rhs9/bU2FBqbKiQZqVuUUYYMIx4OZ8Ieth7hR8XzpfNYbhkZQpxvmXrD/QMz5hDrd3RK4fhFW8cDVa6De2DruuG/TjA6Djf8s2H69v6l60/4NeUvHPK+3y+ZesPpE5PpH3lMc3U6YkHh/h/7D95M8H5bHa+mlRLTarFPKjIt4/H+TKtEfqrS1PVO1+vSbV4GjF7WTRddudbcTApKEbmfhBddl13ZO6HUA/wRTEqHe2Kg0nhXJRmi95U2n0ggs6nxizerP86TQ1pPyxp55U2M29lxPlMSSp7uhDnaz4yKt624o2jknZdV5Zq6tv6XddtPjIacPCu2dhVvWZfQIHCN5Xe+Ta0D6ZOT6x446hn8CLHAUBqNnbVt/X7K3raMd9GxPnU+3uGZ0QB8wgrzqfPzvMkHM/7oryN/vP5zHU+/7eknLPz5Nd2dyzbvV3XulzXfWXgxJLWLU5TgyqRWcVpaljSuqV56Kxm9nw3LpIkvauOeETTf0Qsr/NV73xdpvDSqW4Z27Ld2yXnlYETkrPiYPKVgROpsaGXTnWrCK44mJQDefPQWd1Uf6xTROGp/W1SV8po/kunuoWqR86W7d4uXTQPnZW6y3ZvN0VBuvOs3Spk13VFu81mpYryl9bkrWdUtd0d1Ttf1wF4mpLVxNTYkNm7f8Cyq9Qf63xqf1ttd0f9sc7gvwQi6HxKT20vNTbUPHS2cOeTPSoYiP+j4TQ14Hz6DROFRCHOJ+PX87NbOy9saB+s2diVOj0xPDUvW1OnJ5qPjMqaUPOR0fq2/tTpiQ3tg+ZCoKSbj4xKreGp+eWbD4vcLN98WJVCfEK7M+0nU7r0zpfJXUTpAmQoG0v2TLO8zqeDqdnYJbHW5b36tv76tn6ZbPWaffpWINS39W/tvCA7hgbaw612R6+Ee0P7YE4nmlnns3CdT3avkbkf6o91jsz94Lpuz3fjNamW+mOdsumlU931xzprUi0ifHKuUDbVH+s0lciUP6ep4aVT3bIeVn+sU+s6TQ2miKTGhlSS0h7SnKaG8jqfzKLnu3FzeLXdHSNzP4gFvjJwQmjov7KoZk5TN5kJUTczR9KpsaElrVtUL5ymBk1r4drujiWtWyRerwycUA3V9TwZrTkGWZjUpjQQKmrSuLzVjtImPE2ZZYSJ9qKbpFlzPKqhJlgzHWXnM8cpaZmpSJv81SQ6aEZkSesW8ePmobNivfLJ8n/W/O1nysH5dB+LQqIQ59O1va2dF2p39KrQqPMNT83LkVu1QKYs8qcLgaI7D77Jh2dUFuUyQS0vTqBVVDiCE9FxPvN6taq6lCwHpk5P1O7orapLiQoLATGk4HnJ1sg6n0RNFFBDv2z9AQ20uefL0qbpfBprKTY8NZ+99uF81jqfHJn0KOs/jOlRXBRQF/DkcKXXh5kt/PT9MnS2/linmJMc5uXAPzL3gyxoZTqYaX55nU9GK2s5OiRNqObKwV78b2TuBzUqSdd2dwgNUSKzTckXgKpxogKyyWlqELeTutqjnDSXMlLAP0jpSOGnxobMAMnWAOeThUyN9VP725a0bpEea7s7dJeQ6wXVO2tSLZkGLD26risTVIxpEzrU6Pzerk7ZP2DBsmz3duUgOa7risQrOs2XhAqf5mtE/L34c3A+5RaFRCHOV1WX8hyee4ZnREc8q1Z64N/aeUGO32YBVQHZJNpXu6NXnFJunnUSSXkbcHrU70nRcT7TaWTlUtcvVZ3N/cE/F39OfJ1PLgCo3dErU9YdqXZH74o3jkpm9Zp9VXUpoaT7gB+CJwfns9b5RFk8hzTZVzybPGe15IiltqHHaT3b1fPduFmleufrcuA3byzwH8nMnPI6nxiPTlAGJudVdTVUt+pxXS780htlFKzANKGZkJ2mBt2kVZSklNR/pSn1Odd1/Q6tVqciomfn1UrVMKRleWuOSqVE5q5tmiP0bNJBmgllorjMKPvTui9F0PnMeXmImf6t2OXsvyx7y2UPZiA0xBJTP4qAHJzPjEXZ04U4nxxuq+pScs5O5iKHZ1PpnERSnU/XAs0CZtpJJFWPNCEdeYp5DvZp30bQ+arX7BNQNRu7ZOlLzm/mMbuYOp9p7YJCTv3LPRzCwfO5MKukDbRm4nyV6HxygZceveRU7LLd21ccTMp9G7I/1XZ3mDe36mFMVhCXtG6RlaElrVtUGgKOZOam8jqfrquZx2MRwZ7vxsWHdJlTz3Sr2ooQqB5lcj69qE4crnnorFZRkgJQmGt5XYRLe6rURK0KJfFS5xP5Vlv1GIxqqOu6EhRtU0eorikeo4ua/gFrXTO+mdI64Ag6n/lnjHmOXj8murdoQD1z1/1Kpv/Tl3Xu98jjfJ7jWXnf5u18VXWprZ0XeoZn9AI7uRVXDs8eg1Hn02OzWcBMm84nxtYzPFNVl6pes0/W/7I//DuJZASdz0kkdYVveGpeLnZ0EkkPBAUVkIi488li3vLNh3/6rvjHud3U6QmZVFVdSjep3wuHnuEZeQCQ/Kt/KgTQkE04X2U5n6xY6DV5qhdy9NJFLD16md+2TlODHvtTY0Pm4ofn4JfpkK/55XU+p6lBVEYueXxqf5tyMJXXvORRLv4zp6l6lMn5RuZ+eGp/m5J8an+bVlE5S40N1aRahGrz0FnRaGEueHu+G1f9EnrmGDx32zhNDXom+qn9bXpVYh7OJwPT5UDVev+APePREKdNRNn5/AP+6dv2H/f3qJQLWLn9RU5qS139dMhbre5vOTgH5zO/dsqeztv5THfZ0D4owqeP29DTdhvaB5uPjObnfHpqz6RkgfNV1aVWvHF0Q/ug3rNimfPJvFKnJ2o2dqngmtfzyb0+clJbrgdQ59NdpXZHr1TvGZ7J/nZmnM8S55MLyWV9QlYsdPVO70N0mhr0ZJzo3ZLWLXpc7/luXORADkjiKGokuia04mBSdETueBAjMXsPPp7J1rI7n0qM+V0p9DwiZT7DxfQbFbhMzme27LkNwmlqqN75uvq3lHxqf5uuKZp30njOmJtjEJjqdtKs2a+k83A+sxHBknbAKq/mnhOwA8TU+YS5XDqpYvfU/jb57Ijc69T0kyIMXzrVLcvnAVg8m3A+c/cre7oQ56tes08O1ToLve5Kr9CSTXog13Uac1nLTJvrfE4iWVWXqt3RK7c1xOh6PrlJRYYtd7Cq0wi04al58yYVdT65Z1mXThVX2kRk1/l0bU93jAdndf6xzmdmuq4ra3jKR1FoMb1INC0ETybOZ4nzeQ4bhbxd0rpFz+jpMlWWF2xl2W/ZnU/GuWz3drnX0rwTUzZV73zd89wTMeaaVItortyHq2s/cvuFeLZ8FP2PL5EqeopQH3Sy4mBS2vQ8+NDzVsesY1Da5uMSZbFQFill2VIal7TOzqwiD2hc0rpFR6hPjZG62pEw0QF7mGixTAkVowie2/WPWeK4bPd2/UTol6yKuOig5ktCmjKvy9RnAPl78efgfB6e5X1biPPJ4Vau50v7CwqiNdnfdOk5fos4yrldtUbVSk/htG/LdW7XE1PzejX/4qXMSK/zk7r63JO085LMiDhf2h1AH9Fi/kyLyr08odp8ArNnVzGrBxDwb8L5cL40vzar5zrl05UaGzJNxX+UyjUnIs6X67CzLP/TV1LuF3Jl2X58i0XQ+VRz/VRNS5bH69Qf65RH6piFZcFPnndomnRAFbO6P43zeYSgvG8Ldz7/cbdYOep5iqhneCb7S7vKcj2fKo55OZqTSHqcRu56MR9wYy5qphVoP9WIOJ9/YJly1PkyFSg8H+fD+dI4n5wllGOeLmX5D05559jtfPL0Y88KWd6sbKoYQeeLIF6cTw0mCokoO5+TSFav2afnduVRdjlpQenX+XIaXoGFY+d8Yrr6HOYCp5+2Os6H86V3vlCPhXY7X6joYt04zpdN+HC+KKiejiHizpf2uJ59Js6ngQ5IXLpyU5B+P39HiuV9Oj770IRUEufD+XC+MhDI5thvXxmcL5uY4nwBR9/Sb8L5ApjLlXYr3/zph4vajl8KyVTyazZ263z5TTOnWjgfzlcG42GdL5tjv31lcL5sYorzBUhG6TfhfAHMcb6cfCsKhXE+nA/nKwOBbI799pXB+bKJKc4XIBml34TzBTDH+aKgcTmNAefD+cpgPKzzZXPst68MzpdNTHG+AMko/SacL4A5zpeTb0WhMM6H8+F8ZSCQzbHfvjI4XzYxxfkCJKP0m3C+AOY4XxQ0Lqcx4Hw4XxmMh3W+bI799pXB+bKJKc4XIBml34TzBTDH+XLyrSgUxvli43wPt2y25qW/XtB4rs9pavjnjncCvlay2fRY+w6nqeHd4S+lcG13hzWsbJrIvxx4TwJUgt/hqN75ekzR4XzZfORLVsbvfA8//4E1r22HRoTkRwOX5Wl/OYH1O1+kyKx9f0Cm89ePLziJ5G+2fJ7T7LSw/1ktS1/YG6mZZj8YnC8ezqc7n2WJkJzPMkr2TacEzmcBtIdbNjtNDfJDiBZMJ6ZT8DhfTGex6LCL4nyL9lKuAkV3vnJNpIj9PrSq3UkkT16cLWKbmZpas+usk0iu3N47fSMr48qpmJNT6SwLr9ze6ySSa3adzTSlouf/y4H3nKaGTWePFr3lSDWI80UqHCUbDM6XDWqcLxtKYZfB+QIIe9b5AkqWdxPO5+eP8wXpJ87n32OKkoPzFQVj7BrB+bIJGc6XDaWwy+B8AYRxvgA4Ed+E80XR+Zymhphek5TlsOWS9mJdz2c9riypRr+YxH3pu1uL9bU4efO6tBn9uWc/QpkR53aLtZPk1444n5NIPrSq3e5X3tfzRR+O3DxR+PV8Nu0AwoRzu+nNr1zrfPKlb/2/RXQ+61nZNMEwnM8mPjIXnC8/VytWLXW+KNx0GfYYqtfsy4mbrPOFPapitV+48xVrJNFpB+eLivMNzk6fnP5bhbwGZ6dz+qLxF64oXDbtFf5Q5pdz5959m7CYc7l+725+TKhVFALffH/j1NhshbzOjM/lBG189maMyAxPzec0Oy185979GE0zp6Hqbbw62TAS3MMRBlXahAAEIAABCEAAAtEigPNFKx6MBgIQgAAEIAABCIRBAOcLgyptQgACEIAABCAAgWgRwPmiFQ9GAwEIQAACEIAABMIggPOFQZU2IQABCEAAAhCAQLQI4HzRigejgQAEIAABCEAAAmEQwPnCoEqbEIAABCAAAQhAIFoEcL5oxYPRQAACEIAABCAAgTAI4HxhUKVNCEAAAhCAAAQgEC0COF+04sFoIAABCEAAAhCAQBgEcL4wqNImBCAAAQhAAAIQiBYBnC9a8WA0EIAABCAAAQhAIAwCOF8YVGkTAhCAAAQgAAEIRIsAzheteDAaCEAAAhCAAAQgEAYBnC8MqrQJAQhAAAIQgAAEokUA54tWPBgNBCAAAQhAAAIQCIMAzhcGVdqEAAQgAAEIQAAC0SKA80UrHowGAhCAAAQgAAEIhEEA5wuDKm1CAAIQgAAEIACBaBHA+aIVD0YDAQhAAAIQgAAEwiCA84VBlTYhAAEIQAACEIBAtAjgfNGKB6OBAAQgAAEIQAACYRDA+cKgSpsQgAAEIAABCEAgI4HRy3NPPJ96/Nnkr+s7Jq/eyliuqBtwvqLipDEIQAACEIAABHwENr7d9+v6DvP19B/2//4vh7fsPNM3NOMrbn9G39DM488m5fXV6GxpJozzlYYzvUAAAhCAAAQql8Dv/vSJKo4/8fu/HC7ZWldEYoDzudM3Fn+t3N7rJJJrdp2NSNgYBgQgAAEIQAACwQSCne/xZ5N/X/Ybn70Z3IhNW3G+xYVv+oaL89m00zMXCEAAAhCoBALqfE//Yf9Xo7Ojl+f6hmbe/mjo6T/s12W/3//lsKLoG5rp+XJST/uOXp7b8/mYeQ70zr37B3vHX9v95ZadZ/Z8Pnbt5l2t67runXv3pYWhb6+6rtvz5eRru7/c+Hbfe5+OaMnRy3Nv7Tm38e2+t/acG708Z1aX9PXbCwFdXL+90PPlZM+Xk1K3b2hGBmN2Ybb51ejsW3vObdl55q0954a+vRrgfN/P39nz+dhbe869tefcns/Hvp+/Y7ZTSJpzu4XQoy4EIAABCEAAAosTUOczxc513Ws37+qmx59N9nw56bru6OU5FcG+oZmNb/fJ239/7aj01Dc0Y8ri488mn3g+tefzMR3Hns/HpMoTz6f+/bWj2prcMyH6ZWY+/mzSrC6a+Ov6DrPMr+s7DvaOaxdvfzQkW39d35G2Cy15/fbCujdPmE09/mzy9385rDnqsnfu3X9t95dyb4dufeL51Ft7zi38qO3ln8D58mdHTQhAAAIQgAAEsiGgYudxPo/hbXy7z3XdoW+vqvGYbiTO1zc047EiLfzepyMymPc+HdFMfyJTdVkUFOHz15Ic1b639pzLVEZOVd+5d18G4zFCfy11Pr8aamEhkw3qgDI4XwAcNkEAAhCAAAQgUAQCAc7nuq4u2okRms6n0vP4s8ktO88s/OhqUxvf7hv69uro5Tldcnvi+ZScCTWd74nnUxvf7tuy84xH9X7/l8Ov7f5SW5P25bywjmfLzjOjl+dGL8+9tvtLGcmv6zuu315wXdd0Pu3CXBqUNcuDveM6haf/sP+9T0f2fD5miuzjzybF+cySv/vTJ3s+H3vv0xFzeNJgIcHA+QqhR10IQAACEIAABBYnoJaj52fNOmo2v/vTJ551vsefTf7uT58c7B0fm7mx8KOrl8H97k+fDH17VV96/leW+kzn08U/U6p+/5fDcrb0zr37KmoyNi32768d1faHvr2qy3Wy1Gc6n3ahw3v82aRk6tLdr+s79FLChR9dBaLOpzm/+9MnukZ4/faCCui6N0+Y0PJI43x5QKMKBCAAAQhAAAI5EJi8ekvuePDfkbDwo+uxLnOd7+k/7FdVcl3XlDldPzMTcg7ULKY9fj9/R0u+/dGQjl5lTlYZTZnT8mbitd1fetb5ZOVPGtTVROlCdXbLzjPao+u6apbqfApBDVLK63ie/sN+s4U80jhfHtCoAgEIQAACEIBADgT+9Yv/fOTg+kcOrq/t7vBUM+3nrT3nPOt8kqNVVOZ+Xd/x9B/2+18iZFrs8WeTumZ27eZdVTfzjo1MzpepC5E5VbEnnk/p8FzX9TifrtLJwLRkz5eTOhg5t6sV9ZJBKaxzwfmUHgkIQAACEIAABCJKYNPZo//6xX/+6xf/2XjuwV0a+l/Pl5PqOo8/m/zm+xse5/NcxKYnTz0nOkcvz8k6oiwKqifl4XzqoJ6VuaFvr0oXnuv5fl3/PyxWpyNqaJ6x1Vm7rqsno3WdT1cEPVPTFvy3v5gNZpNmnS8bSpSBAAQgAAEIQCB/AvKEvNd2f6mvjW/3qeXIipeuhJnndvURfdK35x6O0ctz47M33/5oSEzriedT8nsehTjfnXv3zcW50ctzYzM3dFXPfw9HsPOZI9n4dt/o5bnJq7e0NZm4rPOZmVt2nhmfvfnN9zdMNfSc880jGDhfHtCoAgEIQAACEIBADgQ8eqenNTWx7s0T+gi6AOdz3Qe3cehamlaXhFqRaVq5ntvN9Vktwc5nGqRntPpWnM+8XUM3acK8sSMH7v+zKM73P3nwDgIQgAAEIACBYhMIcL6n/7DfvLrOc27Xs84n40r7TGYVPs+tHnk4n9xjoTdViHj9ur7DHKcuywU7n0xHFw7V4czGxflc1x2fvZkW1O//cljvRCkkMjhfIfSoCwEIQAACEIDA4gTkR8z0xK4k3vt0RHXHbOLOvftv7Tn32u4v39pzzrwl1lNGfxjtvU9HPEo0efWWdmHWevujIck3y8vPpr22+0vPtYPXby/s+Xxsy84zaX/eTR7a99ruL00RdF13z+dj0sXYzINrE+W/azfvvrXn3O//cvjvPyv8+78cfvujoe/n7+gc1Upd11348cEtvevePPG7P33yuz99su7NE55bOv7RZD7/x/nyoUYdCEAAAhCAAAQgEC8COF+84sVoIQABCEAAAhCAQD4EcL58qFEHAhCAAAQgAAEIxIsAzheveDFaCEAAAhCAAAQgkA8BnC8fatSBAAQgAAEIQAAC8SKA88UrXowWAhCAAAQgAAEI5EMA58uHGnUgAAEIQAACEIBAvAjEz/meaznlJJL/9u7peIFmtBCAAAQgAAEIQKCMBP7t3dNOIvlcy6npG27RX07RW5y+4da39TuJ5MrtvWWkRtcQgAAEIAABCEAgXgRWbu91Esn6tv4w9CwU5/vrxxecRLJmY1e8QDNaCEAAAhCAAAQgUEYCNRu7nETyrx9fiI3zpU5POIlkVV3K/K2SMhKkawhAAAIQgAAEIBBxAnfu3a+qSzmJZOr0RGycb+TK3YdWtTuJZM/wTMT5MjwIQAACEIAABCAQBQI9wzNOIvnQqvaRK3dj43zTN9wnXv7MSSRf/K8zUYDIGCAAAQhAAAIQgEDECbz4X2ecRPKJlz8LQ/imb7ihXM83fcPd2vngkr6lL+y9fnsh4ogZHgQgAAEIQAACECgvgeu3F5a+sNdJJLd2hnIxX4jON3Llrg69vBDpHQIQgAAEIAABCEScgC6WhXRiN0Tnm77hrn1/QJb6vp+/E3HQDA8CEIAABCAAAQiUi8D383dkpWzt+wMhndgN1/lGrtx95MUPHzyo780T5YJIvxCAAAQgAAEIQCDiBFa+ecJJJB958cPwFvnCdb7pG27b8UtOIukkktsOjUQcN8ODAAQgAAEIQAACpSew7dCIyFLb8UvhLfKF7nzTN9xVrQ9+k8NJJN87+W3pOdIjBCAAAQhAAAIQiCyB905+K5q0qjWU394wJTKs+3bNPn6z5XN53kxj18XIQmdgEIAABCAAAQhAoJQEGrsuyvOMf7Plc1OcQkqXwvnGrt1dvvmwaOxzLaeu3bxbSqD0BQEIQAACEIAABCJF4NrNu8+1nBI1Wr758Ni1UB7C7HHHUjifdFm748HPBjuJZPWafW3HLy38GCn4DAYCEIAABCAAAQiETmDhxwd3O1Sv2SdSVLuj12Nm4b0tnfNN33Abuy7KrchOIvnLdR9v2nd+bOZG6HTpAAIQgAAEIAABCJSbwNjMjU37zv9y3cdie0tf2NvYdTE8w/O3XFLnm77hjly5u6q1/+HnP5AJO4nkL9bu/23j8Q3tg3/9+MK2QyO8IAABCEAAAhCAgB0E/vrxhQ3tg79tPP6LtfvVfB5+/oNVrf2hPpbFL3yluG83ba+DM7c2tA+q6ioFEhCAAAQgAAEIQMBWAr9c9/HfFXBw5lZaOwo7s9TrfJ75nBmfa+y6WN/W/79eO/bkpu6ajV28IAABCEAAAhCAgB0EntzU/b9eO1bf1t/YdfHM+JzHgkr8tszOV+LZ0h0EIAABCEAAAhCoTAI4n1uZgWfWEIAABCAAAQhUFAGcD+eDAAQgAAEIQAAC9hPA+eyPcUX9EcNkIQABCEAAAhBISwDnw/kgAAEIQAACEICA/QRwPvtjnFb2yYQABCAAAQhAoKII4Hw4HwQgAAEIQAACELCfAM5nf4wr6o8YJgsBCEAAAhCAQFoCOB/OBwEIQAACEIAABOwngPPZH+O0sk8mBCAAAQhAAAIVRQDnw/kgAAEIQAACEICA/QRwPvtjXFF/xDBZCEAAAhCAAATSEsD5cD4IQAACEIAABCBgPwGcz/4Yp5V9MiEAAQhAAAIQqCgCOB/OBwEIQAACEIAABOwngPPZH+OK+iOGyUIAAhCAAAQgkJYAzofzQQACEIAABCAAAfsJ4Hz2xzit7JMJAQhAAAIQgEBFEcD5cD4IQAACEIAABCBgPwGcz/4YV9QfMUwWAhCAAAQgAIG0BHA+nA8CEIAABCAAAQjYTwDnsz/GaWWfTAhAAAIQgAAEKooAzofzQQACEIAABCAAAfsJ4Hz2x7ii/ohhshCAAAQgAAEIpCWA8+F8EIAABCAAAQhAwH4COJ/9MU4r+2RCAAIQgAAEIFBRBHA+nA8CEIAABCAAAQjYTwDnsz/GFfVHDJOFAAQgAAEIQCAtgf8Hcd1kbqwFcZoAAAAASUVORK5CYII=)"
      ],
      "metadata": {
        "id": "06pUGLVA42pM"
      }
    },
    {
      "cell_type": "code",
      "execution_count": null,
      "metadata": {
        "id": "GzH4SypxUT4_",
        "colab": {
          "base_uri": "https://localhost:8080/"
        },
        "outputId": "5a7b6e21-2783-45fb-9577-60aee24e051e"
      },
      "outputs": [
        {
          "output_type": "stream",
          "name": "stdout",
          "text": [
            "Pythonisawesome\n"
          ]
        }
      ],
      "source": [
        "x = \"Python\"\n",
        "y = \"is\"\n",
        "z = \"awesome\"\n",
        "m = x+y + z\n",
        "print(m)"
      ]
    },
    {
      "cell_type": "code",
      "source": [
        "def print_ahmed():\n",
        "  print(\"my name is ahmed\")\n",
        "\n",
        "print_ahmed()"
      ],
      "metadata": {
        "colab": {
          "base_uri": "https://localhost:8080/"
        },
        "id": "vqb6B8mu2eXH",
        "outputId": "c586d325-f7cc-4d4f-82ca-7fb83eabc58f"
      },
      "execution_count": null,
      "outputs": [
        {
          "output_type": "stream",
          "name": "stdout",
          "text": [
            "my name is ahmed\n"
          ]
        }
      ]
    },
    {
      "cell_type": "code",
      "source": [
        "INT = 5\n",
        "Float = 4.5\n",
        "Com = 3+2j\n",
        "x = set((\"apple\", \"banana\", \"cherry\"))\n",
        "x = dict(name=\"John\", age=36)"
      ],
      "metadata": {
        "colab": {
          "base_uri": "https://localhost:8080/"
        },
        "id": "mFI6OIXc20kt",
        "outputId": "8885b7a7-dfdf-4cbd-b85d-58f7577ff389"
      },
      "execution_count": null,
      "outputs": [
        {
          "output_type": "stream",
          "name": "stdout",
          "text": [
            "<class 'complex'>\n"
          ]
        }
      ]
    },
    {
      "cell_type": "code",
      "source": [
        "Range = range(7)\n",
        "type(Range)"
      ],
      "metadata": {
        "colab": {
          "base_uri": "https://localhost:8080/"
        },
        "id": "a2lDpm6v3sMG",
        "outputId": "94c83bc9-e02a-4eef-8cc9-7bd651226407"
      },
      "execution_count": null,
      "outputs": [
        {
          "output_type": "execute_result",
          "data": {
            "text/plain": [
              "range"
            ]
          },
          "metadata": {},
          "execution_count": 10
        }
      ]
    },
    {
      "cell_type": "code",
      "source": [
        "passwords = ('3082000',\"ahmed2000\",\"ahmedalaa123\")\n",
        "passwords"
      ],
      "metadata": {
        "colab": {
          "base_uri": "https://localhost:8080/"
        },
        "id": "N_Bra8674aaz",
        "outputId": "c817c13a-9fe3-4359-fcbf-22325f146a51"
      },
      "execution_count": null,
      "outputs": [
        {
          "output_type": "execute_result",
          "data": {
            "text/plain": [
              "('3082000', 'ahmed2000', 'ahmedalaa123')"
            ]
          },
          "metadata": {},
          "execution_count": 15
        }
      ]
    },
    {
      "cell_type": "code",
      "source": [
        "passwords = (1,23,5)\n",
        "passwords[0]"
      ],
      "metadata": {
        "colab": {
          "base_uri": "https://localhost:8080/"
        },
        "id": "spNAX9Yw4n38",
        "outputId": "bbb2b340-32d8-410a-aaf8-c1d22696ca0d"
      },
      "execution_count": null,
      "outputs": [
        {
          "output_type": "execute_result",
          "data": {
            "text/plain": [
              "1"
            ]
          },
          "metadata": {},
          "execution_count": 17
        }
      ]
    },
    {
      "cell_type": "markdown",
      "source": [
        "# **Python Collections (Arrays)**\n",
        "There are four collection data types in the Python programming language:\n",
        "\n",
        "**List** is a collection which is ordered and changeable. Allows duplicate members.\n",
        "\n",
        "**Tuple** is a collection which is ordered and unchangeable. Allows duplicate members.\n",
        "\n",
        "**Set** is a collection which is unordered, unchangeable*, and unindexed. No duplicate members.\n",
        "\n",
        "**Dictionary** is a collection which is ordered** and changeable. No duplicate members."
      ],
      "metadata": {
        "id": "JMuXRubJ_QZc"
      }
    },
    {
      "cell_type": "markdown",
      "source": [
        "**list**\n",
        "List items are **ordered**, **changeable**, and **allow duplicate values**.\n",
        "\n",
        "List items are indexed, the first item has index [0], the second item has index [1] etc\n",
        "\n",
        "**Ordered**\n",
        "When we say that lists are ordered, it means that the items have a defined order, and that order will not change\n",
        "\n",
        "**Changeable**\n",
        "The list is changeable, meaning that we can change, add, and remove items in a list after it has been created.\n",
        "\n",
        "**Allow Duplicates**\n",
        "Since lists are indexed, lists can have items with the same value"
      ],
      "metadata": {
        "id": "M6dJcWP4-jc3"
      }
    },
    {
      "cell_type": "markdown",
      "source": [
        "#**List**"
      ],
      "metadata": {
        "id": "Eq1D0TCbCYY_"
      }
    },
    {
      "cell_type": "code",
      "source": [
        "students = ['samy', 'aaron', 'cody']\n",
        "\n",
        "for student in students:\n",
        "    print(\"Hello, \" + student.upper() + \"!\")"
      ],
      "metadata": {
        "colab": {
          "base_uri": "https://localhost:8080/"
        },
        "id": "Abudch1uCekS",
        "outputId": "02e8083c-9976-46e5-ca89-15bf0eb2c5c4"
      },
      "execution_count": null,
      "outputs": [
        {
          "output_type": "stream",
          "name": "stdout",
          "text": [
            "Hello, SAMY!\n",
            "Hello, AARON!\n",
            "Hello, CODY!\n"
          ]
        }
      ]
    },
    {
      "cell_type": "markdown",
      "source": [
        "# **Enumerating a list**"
      ],
      "metadata": {
        "id": "bnrPhwP_ckpZ"
      }
    },
    {
      "cell_type": "code",
      "source": [
        "dogs = ['faf', 'australian cattle dog', 'ahmed']\n",
        "\n",
        "print(\"that code prints the index of ahmed  :\\n\")\n",
        "for index, dog in enumerate(dogs):\n",
        "    if(dog ==\"ahmed\"):\n",
        "      print(\"the index of ahmed is \" + str(index))\n",
        "    print(\"Place: \" + place + \" Dog: \" + dog.title())"
      ],
      "metadata": {
        "colab": {
          "base_uri": "https://localhost:8080/"
        },
        "id": "dMDqddYDCe3u",
        "outputId": "c7214c2b-6b0f-441d-a0ed-516d57edd527"
      },
      "execution_count": null,
      "outputs": [
        {
          "output_type": "stream",
          "name": "stdout",
          "text": [
            "that code prints the index of ahmed  :\n",
            "\n",
            "Place: 2 Dog: Faf\n",
            "Place: 2 Dog: Australian Cattle Dog\n",
            "the index of ahmed is 2\n",
            "Place: 2 Dog: Ahmed\n"
          ]
        }
      ]
    },
    {
      "cell_type": "code",
      "source": [
        "students = ['bernice', 'aaron', 'cody']\n",
        "\n",
        "# Put students in alphabetical order.\n",
        "students.sort()\n",
        "\n",
        "# Display the list in its current order.\n",
        "print(\"Our students are currently in alphabetical order.\")\n",
        "for student in students:\n",
        "    print(student.title())\n",
        "\n",
        "\n",
        "#Put students in reverse alphabetical order.\n",
        "students.sort(reverse=True)\n",
        "\n",
        "# Display the list in its current order.\n",
        "print(\"\\nOur students are now in reverse alphabetical order.\")\n",
        "for student in students:\n",
        "    print(student.title())"
      ],
      "metadata": {
        "colab": {
          "base_uri": "https://localhost:8080/"
        },
        "id": "3292LtfX6kw1",
        "outputId": "6c77d3c4-85d2-4d6f-9b97-13e01ee6633d"
      },
      "execution_count": null,
      "outputs": [
        {
          "output_type": "stream",
          "name": "stdout",
          "text": [
            "Our students are currently in alphabetical order.\n",
            "Aaron\n",
            "Bernice\n",
            "Cody\n",
            "\n",
            "Our students are now in reverse alphabetical order.\n",
            "Cody\n",
            "Bernice\n",
            "Aaron\n"
          ]
        }
      ]
    },
    {
      "cell_type": "code",
      "source": [
        "thislist = [\"apple\", \"banana\", \"cherry\"]\n",
        "thistuple = (\"kiwi\", \"orange\")\n",
        "thislist.extend(thistuple)\n",
        "print(thislist)"
      ],
      "metadata": {
        "colab": {
          "base_uri": "https://localhost:8080/"
        },
        "id": "0xlytNRaAZhZ",
        "outputId": "6523e9da-f6cb-4848-cf5a-9e9a16d1f3c5"
      },
      "execution_count": null,
      "outputs": [
        {
          "output_type": "stream",
          "name": "stdout",
          "text": [
            "['apple', 'banana', 'cherry', 'kiwi', 'orange']\n"
          ]
        }
      ]
    },
    {
      "cell_type": "code",
      "source": [
        "# A function that returns the 'year' value:\n",
        "def myFunc(e):\n",
        "  return e['year']\n",
        "\n",
        "cars = [\n",
        "  {'car': 'Ford', 'year': 2005},\n",
        "  {'car': 'Mitsubishi', 'year': 2000},\n",
        "  {'car': 'BMW', 'year': 2019},\n",
        "  {'car': 'VW', 'year': 2011}\n",
        "]\n",
        "\n",
        "cars.sort(key=myFunc)"
      ],
      "metadata": {
        "id": "3_1Pt_MCAr1i"
      },
      "execution_count": null,
      "outputs": []
    },
    {
      "cell_type": "code",
      "source": [
        "cars"
      ],
      "metadata": {
        "colab": {
          "base_uri": "https://localhost:8080/"
        },
        "id": "vGGLI_vYiPBK",
        "outputId": "bfa59723-9569-4b80-c975-6b1d3ed3497a"
      },
      "execution_count": null,
      "outputs": [
        {
          "output_type": "execute_result",
          "data": {
            "text/plain": [
              "[{'car': 'Mitsubishi', 'year': 2000},\n",
              " {'car': 'Ford', 'year': 2005},\n",
              " {'car': 'VW', 'year': 2011},\n",
              " {'car': 'BMW', 'year': 2019}]"
            ]
          },
          "metadata": {},
          "execution_count": 36
        }
      ]
    },
    {
      "cell_type": "code",
      "source": [
        "def myFunc(e):\n",
        "  return len(e)\n",
        "\n",
        "cars = ['Ford', 'Mitsubishi', 'BMW', 'VW']\n",
        "\n",
        "cars.sort(key=myFunc)\n",
        "cars\n"
      ],
      "metadata": {
        "colab": {
          "base_uri": "https://localhost:8080/"
        },
        "id": "k4nSMyHJiQsn",
        "outputId": "a790bd87-c5f1-412a-ee23-d245a54f3900"
      },
      "execution_count": null,
      "outputs": [
        {
          "output_type": "execute_result",
          "data": {
            "text/plain": [
              "['VW', 'BMW', 'Ford', 'Mitsubishi']"
            ]
          },
          "metadata": {},
          "execution_count": 38
        }
      ]
    },
    {
      "cell_type": "code",
      "source": [
        "def myFunc(e):\n",
        "  return len(e['car'])\n",
        "\n",
        "cars = [\n",
        "  {'car': 'Ford', 'year': 2005},\n",
        "  {'car': 'Mitsubishi', 'year': 2000},\n",
        "  {'car': 'BMW', 'year': 2019},\n",
        "  {'car': 'VW', 'year': 2011}\n",
        "]\n",
        "\n",
        "cars.sort(key=myFunc)\n",
        "cars"
      ],
      "metadata": {
        "colab": {
          "base_uri": "https://localhost:8080/"
        },
        "id": "yUSfaPHojBZZ",
        "outputId": "d6eff898-42ad-4e69-da3e-b27b2517700c"
      },
      "execution_count": null,
      "outputs": [
        {
          "output_type": "execute_result",
          "data": {
            "text/plain": [
              "[{'car': 'VW', 'year': 2011},\n",
              " {'car': 'BMW', 'year': 2019},\n",
              " {'car': 'Ford', 'year': 2005},\n",
              " {'car': 'Mitsubishi', 'year': 2000}]"
            ]
          },
          "metadata": {},
          "execution_count": 40
        }
      ]
    },
    {
      "cell_type": "code",
      "source": [
        "students = ['bernice', 'aaron', 'cody']\n",
        "students.reverse()\n",
        "\n",
        "print(students)"
      ],
      "metadata": {
        "colab": {
          "base_uri": "https://localhost:8080/"
        },
        "id": "j1uKs2mbkJUB",
        "outputId": "64a69683-2e28-462c-efd5-06bbc8ea0b0e"
      },
      "execution_count": null,
      "outputs": [
        {
          "output_type": "stream",
          "name": "stdout",
          "text": [
            "['cody', 'aaron', 'bernice']\n"
          ]
        }
      ]
    },
    {
      "cell_type": "code",
      "source": [
        "students = ['bernice', 'aaron', 'cody']\n",
        "students.sort(reverse=True)\n",
        "\n",
        "print(students)"
      ],
      "metadata": {
        "colab": {
          "base_uri": "https://localhost:8080/"
        },
        "id": "qBzKGPDnnn3-",
        "outputId": "c2e7c185-f8ee-4ac7-c941-222b1672d44f"
      },
      "execution_count": null,
      "outputs": [
        {
          "output_type": "stream",
          "name": "stdout",
          "text": [
            "['cody', 'bernice', 'aaron']\n"
          ]
        }
      ]
    },
    {
      "cell_type": "code",
      "source": [
        "###highlight=[3]\n",
        "dogs = ['border collie', 'australian cattle dog', 'labrador retriever']\n",
        "first_dog = dogs.pop(1)\n",
        "\n",
        "print(first_dog)\n",
        "print(dogs)"
      ],
      "metadata": {
        "colab": {
          "base_uri": "https://localhost:8080/"
        },
        "id": "JAKsmcIpoAqG",
        "outputId": "7c88cb3c-ff7c-4fef-e8ab-fa2e5bbb14c2"
      },
      "execution_count": null,
      "outputs": [
        {
          "output_type": "stream",
          "name": "stdout",
          "text": [
            "australian cattle dog\n",
            "['border collie', 'labrador retriever']\n"
          ]
        }
      ]
    },
    {
      "cell_type": "code",
      "source": [
        "###highlight=[5,6]\n",
        "# Consider some students.\n",
        "students = ['bernice', 'aaron', 'cody']\n",
        "\n",
        "# Let's turn them into great students.\n",
        "great_students = [student.title() + \" the great!\" for student in students]\n",
        "bad_students = [s.capitalize()+\" is bad\"       for s in students]\n",
        "\n",
        "# Let's greet each great student.\n",
        "for bad_student in bad_students:\n",
        "    print(\"Hello, \" +bad_student)\n"
      ],
      "metadata": {
        "colab": {
          "base_uri": "https://localhost:8080/"
        },
        "id": "RyFXt15io_qC",
        "outputId": "8f861616-cf8a-40a0-8615-f74051480448"
      },
      "execution_count": null,
      "outputs": [
        {
          "output_type": "stream",
          "name": "stdout",
          "text": [
            "Hello, Bernice is bad\n",
            "Hello, Aaron is bad\n",
            "Hello, Cody is bad\n"
          ]
        }
      ]
    },
    {
      "cell_type": "code",
      "source": [
        "mult_of_ten = [x*10 for x in range(1,11)]\n",
        "mult_of_ten"
      ],
      "metadata": {
        "colab": {
          "base_uri": "https://localhost:8080/"
        },
        "id": "A8kjjPemr7Rp",
        "outputId": "79cf6462-98e0-494b-a851-d86db310d827"
      },
      "execution_count": null,
      "outputs": [
        {
          "output_type": "execute_result",
          "data": {
            "text/plain": [
              "[10, 20, 30, 40, 50, 60, 70, 80, 90, 100]"
            ]
          },
          "metadata": {},
          "execution_count": 14
        }
      ]
    }
  ]
}