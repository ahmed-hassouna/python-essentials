{
  "nbformat": 4,
  "nbformat_minor": 0,
  "metadata": {
    "colab": {
      "provenance": [],
      "collapsed_sections": [
        "FJWR2RZKMY9y"
      ]
    },
    "kernelspec": {
      "name": "python3",
      "display_name": "Python 3"
    },
    "language_info": {
      "name": "python"
    }
  },
  "cells": [
    {
      "cell_type": "markdown",
      "source": [
        "#**Importance of File Handling:**\n",
        "\n",
        "It is crucial for storing data permanently in files.\n",
        "\n",
        "####**File:** is a named location on disk used to store related information\n",
        "\n",
        "####**Non-Volatile Storage:** Files allow access to stored information even after the program terminates.\n",
        "\n",
        "###**File Formats:** Files can be in text or binary format.\n",
        "\n",
        "### Each line in a file ends with a special character (typically a newline character)."
      ],
      "metadata": {
        "id": "c0a3zaignkGi"
      }
    },
    {
      "cell_type": "markdown",
      "source": [
        "# **Opening a File in Python**\n",
        "```\n",
        "file = open(\"filename.txt\", \"mode\",\"encoding\")\n",
        "file.close()\n",
        "```\n",
        "**filename.txt:** The name of the file (can include a path if needed).\n",
        "\n",
        "**mode:** Specifies the purpose of opening the file (e.g., read, write, append).\n",
        "\n",
        "\n",
        "**Mode**------------**Description**\n",
        "\n",
        "**\"r\"**------------Read (default mode, opens for reading text) require file exist\n",
        "\n",
        "**\"w\"**------------\tWrite (creates a new file or overwrites existing content)\n",
        "\n",
        "**\"a\"**------------Append (adds data to the end of an existing file).\n",
        "Creates a new file if not exist\n",
        "\n",
        "**\"r+\"**\t------------Read and write (file must exist).\n",
        "\n",
        "**\"b\"**-----------Binary mode (e.g., \"rb\" or \"wb\" for binary files).\n",
        "\n",
        "\n",
        "#**buffering will be explaind**\n",
        "\n",
        "**encoding = \"utf8\"** by default which is Standard (supports all languages)\n"
      ],
      "metadata": {
        "id": "R1C3Q05EqD0F"
      }
    },
    {
      "cell_type": "markdown",
      "source": [
        "#**opening and closing a file in robust way**\n",
        " 1- When opening a file in Python, always use **try-except** to handle potential errors gracefully like that\n",
        "\n",
        "```\n",
        "try:\n",
        "    with open(\"file.txt\", \"r\") as f:\n",
        "        content = f.read()\n",
        "except FileNotFoundError:\n",
        "    print(\"File not found!\")\n",
        "except IOError as e:\n",
        "    print(f\"I/O Error: {e}\")\n",
        "\n",
        "```\n",
        "#**Why Use try-except?**\n",
        "**FileNotFoundError**\n",
        "\n",
        "Triggered if the file doesn’t exist.\n",
        "\n",
        "**PermissionError**\n",
        "\n",
        "Occurs if the program lacks read/write permissions.\n",
        "\n",
        "**UnicodeDecodeError**\n",
        "\n",
        "Happens when reading non-text files with text mode (or encoding mismatches).\n",
        "\n",
        "**General Exception**\n",
        "\n",
        "Catches unforeseen issues (e.g., disk failure)."
      ],
      "metadata": {
        "id": "naWuAWvHsjhV"
      }
    },
    {
      "cell_type": "markdown",
      "source": [
        "#**Closing Files**\n",
        "\n",
        " Always close the file after operations to free resources by using:\n",
        "#### **- close()**\n",
        "#### **- with statement :** to close file automaticlly \"recommended\"\n"
      ],
      "metadata": {
        "id": "E4gIezHSG5ef"
      }
    },
    {
      "cell_type": "markdown",
      "source": [
        "# **Reading Files**\n",
        "\n",
        "**read():** Outputs the entire file as one string.\n",
        "\n",
        "**readline():** Reads lines one at a time (cursor moves forward).\n",
        "\n",
        "**readlines():** Returns a list where each element is a line (includes \\n).\n",
        "\n",
        "**Iteration (for line in f)**:Most memory-efficient for large files (no full load).\n",
        "\n",
        "**read(n):**  Reads n characters at a time (useful for binary files).\n",
        "\n",
        "**pathlib:** Modern alternative with concise syntax."
      ],
      "metadata": {
        "id": "jNxouI9H7H3j"
      }
    },
    {
      "cell_type": "markdown",
      "source": [
        "# **Examples On Reading Files**"
      ],
      "metadata": {
        "id": "FJWR2RZKMY9y"
      }
    },
    {
      "cell_type": "code",
      "source": [
        "try:\n",
        "    # ===== METHOD 1: read() - Entire file as a single string =====\n",
        "    print(\"\\nMethod 1: read()\")\n",
        "    with open(\"/content/sample.txt\", \"r\") as f:\n",
        "        content = f.read()  # Returns entire content as a string\n",
        "    print(content)\n",
        "except Exception as e:\n",
        "    print(f\"An error occurred while processing the file: {e}\")\n",
        "    print(\"Please check if the file exists and you have proper permissions.\")\n",
        "else:\n",
        "  print(\"File read successfully!\\n\")  # Executes if no exceptions occur"
      ],
      "metadata": {
        "colab": {
          "base_uri": "https://localhost:8080/"
        },
        "id": "OSZUa4_LM_nZ",
        "outputId": "9910e704-1c3d-4a63-b6a4-a1a229486df2"
      },
      "execution_count": null,
      "outputs": [
        {
          "output_type": "stream",
          "name": "stdout",
          "text": [
            "\n",
            "Method 1: read()\n",
            "An error occurred while processing the file: [Errno 2] No such file or directory: '\\\\content\\\\sample.txt'\n",
            "Please check if the file exists and you have proper permissions.\n"
          ]
        }
      ]
    },
    {
      "cell_type": "code",
      "source": [
        "try:\n",
        "    # ===== METHOD 2: readline() - Line by line (manual control) =====\n",
        "    print(\"\\nMethod 2: readline()\")\n",
        "    with open(\"sample.txt\", \"r\") as f:\n",
        "        line1 = f.readline()  # Reads just the first line (includes '\\n')\n",
        "        line2 = f.readline()  # Reads the next line\n",
        "    print(f\"Line 1: {line1.strip()}\\nLine 2: {line2.strip()}\")\n",
        "except Exception as e:\n",
        "    print(f\"An error occurred while processing the file: {e}\")\n",
        "    print(\"Please check if the file exists and you have proper permissions.\")\n",
        "\n",
        "else:\n",
        "  print(\"File read successfully!\\n\")  # Executes if no exceptions occur"
      ],
      "metadata": {
        "id": "GhqNeuChNBr0"
      },
      "execution_count": null,
      "outputs": []
    },
    {
      "cell_type": "code",
      "source": [
        "try:\n",
        "    # ===== METHOD 3: readlines() - All lines as a list =====\n",
        "    print(\"\\nMethod 3: readlines()\")\n",
        "    with open(\"sample.txt\", \"r\") as f:\n",
        "        lines = f.readlines()  # Returns list of lines (each includes '\\n')\n",
        "        for i in range(len(lines)):\n",
        "            lines[i] = lines[i].strip()  # Remove trailing '\\n'\n",
        "    print(f\"All lines as list: {lines}\")\n",
        "except Exception as e:\n",
        "    print(f\"An error occurred while processing the file: {e}\")\n",
        "    print(\"Please check if the file exists and you have proper permissions.\")\n",
        "else:\n",
        "  print(\"File read successfully!\\n\")  # Executes if no exceptions occur"
      ],
      "metadata": {
        "colab": {
          "base_uri": "https://localhost:8080/"
        },
        "id": "QJBfuDKkNQE6",
        "outputId": "2cc4d738-8a8b-4f71-fc5a-fa3dbe02f3ee"
      },
      "execution_count": null,
      "outputs": [
        {
          "output_type": "stream",
          "name": "stdout",
          "text": [
            "\n",
            "Method 3: readlines()\n",
            "All lines as list: ['First line', 'Second line', 'Third line', 'Fourth line', 'Fifth line']\n",
            "File read successfully!\n",
            "\n"
          ]
        }
      ]
    },
    {
      "cell_type": "code",
      "source": [
        "\n",
        "try:\n",
        "    # ===== METHOD 4: Iterate directly (memory-efficient) =====\n",
        "    print(\"\\nMethod 4: Iteration (for line in file)\")\n",
        "    with open(\"sample.txt\", \"r\") as f:\n",
        "        for line in f:  # Lazy iteration (best for large files)\n",
        "            print(f\"Line: {line.strip()}\")\n",
        "except Exception as e:\n",
        "    print(f\"An error occurred while processing the file: {e}\")\n",
        "    print(\"Please check if the file exists and you have proper permissions.\")\n",
        "\n",
        "else:\n",
        "  print(\"File read successfully!\\n\")  # Executes if no exceptions occur"
      ],
      "metadata": {
        "colab": {
          "base_uri": "https://localhost:8080/"
        },
        "id": "bR1bUveONX8u",
        "outputId": "e547eba7-f1c7-440a-be77-b083ee9a332d"
      },
      "execution_count": null,
      "outputs": [
        {
          "output_type": "stream",
          "name": "stdout",
          "text": [
            "\n",
            "Method 4: Iteration (for line in file)\n",
            "Line: First line\n",
            "Line: Second line\n",
            "Line: Third line\n",
            "Line: Fourth line\n",
            "Line: Fifth line\n",
            "File read successfully!\n",
            "\n"
          ]
        }
      ]
    },
    {
      "cell_type": "code",
      "source": [
        "try:\n",
        "    # ===== METHOD 5: read(n) - Fixed-size chunks =====\n",
        "    print(\"============ Method 5: read(n) - Chunked reading ==============\")\n",
        "    with open(\"/content/sample.txt\", \"r\") as f:                                      #Without the Walrus Operator := you must calc chunck =f.read() before while and then say while chunk\n",
        "        while chunk := f.read(5):  # Reads 5 characters at a time\n",
        "            chunk.strip('\\n')\n",
        "            print(f\"Chunk:{chunk}\", end=\"\")\n",
        "except Exception as e:\n",
        "    print(f\"An error occurred while processing the file: {e}\")\n",
        "    print(\"Please check if the file exists and you have proper permissions.\")\n",
        "else:\n",
        "    print(\"File read successfully!\\n\")  # Executes if no exceptions occur"
      ],
      "metadata": {
        "colab": {
          "base_uri": "https://localhost:8080/"
        },
        "id": "3a2iE3eQNa54",
        "outputId": "e4103d1f-0297-4149-9bef-45bd27274e1a"
      },
      "execution_count": null,
      "outputs": [
        {
          "output_type": "stream",
          "name": "stdout",
          "text": [
            "============ Method 5: read(n) - Chunked reading ==============\n",
            "Chunk:ahmed\n",
            "Chunk:\n",
            "alaa\n",
            "Chunk:\n",
            "samy\n",
            "Chunk:e\n",
            "nag\n",
            "Chunk:eh\n",
            "File read successfully!\n",
            "\n"
          ]
        }
      ]
    },
    {
      "cell_type": "code",
      "source": [
        "file_path = \"/content/example.txt\"\n",
        "\n",
        "try:\n",
        "    with open(file_path, \"r\") as file:  # Default mode is \"r\" (read)\n",
        "        content = file.read()\n",
        "        print(\"File content:\\n\", content)\n",
        "\n",
        "except FileNotFoundError:\n",
        "    print(f\"Error: File '{file_path}' not found!\")\n",
        "\n",
        "except PermissionError:\n",
        "    print(f\"Error: No permission to read '{file_path}'.\")\n",
        "\n",
        "except UnicodeDecodeError:\n",
        "    print(f\"Error: Could not decode '{file_path}' (use binary mode or check encoding).\")\n",
        "\n",
        "except Exception as e:  # Catch-all for unexpected errors\n",
        "    print(f\"Unexpected error: {e}\")\n",
        "\n",
        "else:\n",
        "    print(\"File read successfully!\")  # Executes if no exceptions occur\n",
        "\n",
        "finally:\n",
        "    print(\"File operation attempted.\")  # Always runs (cleanup goes here)"
      ],
      "metadata": {
        "colab": {
          "base_uri": "https://localhost:8080/"
        },
        "id": "kLJnaP81EooC",
        "outputId": "597e0f06-d6ad-4e88-bea9-93371fbf73c0"
      },
      "execution_count": null,
      "outputs": [
        {
          "output_type": "stream",
          "name": "stdout",
          "text": [
            "Error: File '/content/example.txt' not found!\n",
            "File operation attempted.\n"
          ]
        }
      ]
    },
    {
      "cell_type": "code",
      "source": [
        "# Create a sample file with text\n",
        "with open(\"sample.txt\", \"w\") as f:\n",
        "    f.write(\"\"\"First line\n",
        "Second line\n",
        "Third line\n",
        "بسم الله\n",
        "Fifth line\"\"\")"
      ],
      "metadata": {
        "id": "u1aFX1vfGhLN"
      },
      "execution_count": null,
      "outputs": []
    },
    {
      "cell_type": "markdown",
      "source": [
        "#**Writting to File**\n",
        "\n",
        "Once the file is opened, you can write data to it using one of the following methods:\n",
        "\n",
        "#**1. write():** Write a string to the file and has two modes 'a' or 'w'\n",
        "\n",
        "\n",
        "#**2. writelines():** Write a list or tuple of strings to the file"
      ],
      "metadata": {
        "id": "k7mYLeU76Rgv"
      }
    },
    {
      "cell_type": "code",
      "source": [
        "#Note: writelines() doesn’t add newlines automatically—you must include \\n yourself.\n",
        "lines = [\"Line 1\\n\", \"Line 2\\n\", \"Line 3\\n\"]\n",
        "with open(\"example.txt\", \"w\") as file:\n",
        "    file.writelines(lines)"
      ],
      "metadata": {
        "id": "YTahbNCQqgp_"
      },
      "execution_count": null,
      "outputs": []
    },
    {
      "cell_type": "code",
      "source": [
        "try:\n",
        "    with open(\"sample.txt\", \"a\") as file:   #gives yo\n",
        "        file.write(\"Attempting to write to a file.\\n\")\n",
        "except IOError as e:\n",
        "    print(f\"Error writing to file: {e}\")"
      ],
      "metadata": {
        "colab": {
          "base_uri": "https://localhost:8080/"
        },
        "id": "0Xnj7r1X2HIh",
        "outputId": "520199c0-ab54-403f-f2ba-6c79e09fd16a"
      },
      "execution_count": null,
      "outputs": [
        {
          "output_type": "stream",
          "name": "stdout",
          "text": [
            "<_io.BufferedWriter name='sample.txt'>\n"
          ]
        }
      ]
    },
    {
      "cell_type": "markdown",
      "source": [
        "#**What is Full Buffering?**\n",
        "\n",
        "In full buffering, Python writes data to a memory buffer (e.g., 4096 bytes = 4KB) instead of writing directly to disk every time. Once the buffer is full (or the file is closed), all data is written to disk in one go. This is much faster for big files."
      ],
      "metadata": {
        "id": "cHwANSqrmtJh"
      }
    },
    {
      "cell_type": "markdown",
      "source": [
        "# **Buffering Parameter in open()**\n",
        "![buffering.PNG](data:image/png;base64,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)"
      ],
      "metadata": {
        "id": "mqlxhrBODEHe"
      }
    },
    {
      "cell_type": "code",
      "source": [
        "#No Buffering (buffering=0 — binary mode only)\n",
        "with open(\"file_no_buffer.txt\", \"wb\", buffering=0) as f:\n",
        "    for i in range(5):\n",
        "        f.write(b\"Hello, World!\\n\")\n",
        "\n",
        "#Effect: Each write() goes directly to disk = slow\n",
        "#Must use binary mode (\"wb\") — won't work in text mode"
      ],
      "metadata": {
        "id": "XmZ0K4lQSMgR"
      },
      "execution_count": null,
      "outputs": []
    },
    {
      "cell_type": "code",
      "source": [
        "# Line Buffering (buffering=1 — text mode only)\n",
        "with open(\"file_line_buffer.txt\", \"w\", buffering=1) as f:\n",
        "    for i in range(5):\n",
        "        f.write(\"Hello, World!\\n\")  # data buffered line by line"
      ],
      "metadata": {
        "id": "zEKFHpzgSMQf"
      },
      "execution_count": null,
      "outputs": []
    },
    {
      "cell_type": "code",
      "source": [
        "#Full Buffering (buffering=4096, or any big number)\n",
        "with open(\"file_full_buffer.txt\", \"w\", buffering=4096) as f:\n",
        "    for i in range(50):\n",
        "        f.write(\"Hello, World!\\n\")  # written to memory first\n",
        "    # Not written to file until buffer is full or file is closed\n",
        "# Effect: Data stays in RAM until buffer fills up or file is closed\n",
        "# Much faster for large file writes"
      ],
      "metadata": {
        "id": "ILvBaBpEWwXC"
      },
      "execution_count": null,
      "outputs": []
    },
    {
      "cell_type": "code",
      "source": [
        "#Default Buffering (buffering=-1 or just omit it)\n",
        "\n",
        "with open(\"file_default_buffer.txt\", \"w\") as f:  # same as buffering=-1\n",
        "    for i in range(500):\n",
        "        f.write(\"Hello, World!\\n\")\n",
        "#Effect: Python picks the best buffering size for the system\n",
        "#Safe and works well for general use"
      ],
      "metadata": {
        "id": "VtoOYm3fYDWu"
      },
      "execution_count": null,
      "outputs": []
    },
    {
      "cell_type": "code",
      "source": [
        "#dealing with the buffer directly\n",
        "import time\n",
        "start_time = time.time()\n",
        "with open(\"buffer_file_2.txt\",'wb') as file:\n",
        "  for i in range(100000):\n",
        "    #file.write(b'Hello, World!\\n')   #without b you get error\n",
        "    file.write(f\"Line {i}\\n\".encode())  # Convert string to bytes is faster\n",
        "\n",
        "end_time = time.time()\n",
        "print(f\"Time taken: {end_time - start_time} seconds\")\n"
      ],
      "metadata": {
        "colab": {
          "base_uri": "https://localhost:8080/"
        },
        "id": "PamE8sqg3zov",
        "outputId": "6f1180d9-5558-4279-b2d7-4f7cdbaa9c12"
      },
      "execution_count": null,
      "outputs": [
        {
          "output_type": "stream",
          "name": "stdout",
          "text": [
            "Time taken: 0.042768001556396484 seconds\n"
          ]
        }
      ]
    },
    {
      "cell_type": "code",
      "source": [
        "import time\n",
        "\n",
        "# Without buffering (writing directly to the disk)\n",
        "start_time = time.time()\n",
        "with open(\"example_no_buffer.txt\", \"wb\", buffering=0) as file:\n",
        "    for i in range(100000):\n",
        "        file.write(f\"Line {i}\\n\".encode())  # Write as bytes in binary mode\n",
        "end_time = time.time()\n",
        "print(f\"Writing without buffering took {end_time - start_time} seconds.\")\n",
        "\n",
        "# With buffering (writing in memory before writing to disk)\n",
        "start_time = time.time()\n",
        "with open(\"example_with_buffer.txt\", \"w\", buffering=1024) as file:\n",
        "    for i in range(100000):\n",
        "        file.write(f\"Line {i}\\n\")  # Write text data\n",
        "end_time = time.time()\n",
        "print(f\"Writing with buffering took {end_time - start_time} seconds.\")\n",
        "\n",
        "# With buffering and flush (manual flushing after each write)\n",
        "#data being buffered then flushed from the buffer to the disk\n",
        "start_time = time.time()\n",
        "with open(\"example_with_flush.txt\", \"w\", buffering=1024) as file:\n",
        "    for i in range(100000):\n",
        "        file.write(f\"Line {i}\\n\")  # Write text data\n",
        "        file.flush()  # Manually flush the buffer to the disk after each write\n",
        "end_time = time.time()\n",
        "print(f\"Writing with buffering and flush took {end_time - start_time} seconds.\")\n"
      ],
      "metadata": {
        "colab": {
          "base_uri": "https://localhost:8080/"
        },
        "id": "P7DDVlWB3KV_",
        "outputId": "b77eb962-1ea2-4a7d-e62a-4eb55c675698"
      },
      "execution_count": null,
      "outputs": [
        {
          "output_type": "stream",
          "name": "stdout",
          "text": [
            "Writing without buffering took 0.2209928035736084 seconds.\n",
            "Writing with buffering took 0.030662059783935547 seconds.\n",
            "Writing with buffering and flush took 0.42772984504699707 seconds.\n"
          ]
        }
      ]
    },
    {
      "cell_type": "markdown",
      "source": [
        "#**File vs File buffer**\n",
        "![image.png](data:image/png;base64,iVBORw0KGgoAAAANSUhEUgAABJUAAAJfCAIAAABJ9XBhAAAgAElEQVR4Aey9D2xcx33vSyTNBdriBNCrNigqPuQ+dR/g2gQcVYvIdVjl3giVm4p10rBRW4nQg7ci8NwNgcRyW5to83xpXytVHJfZZ7VmHMePsYrUYqqWyoXaVVNLSnoV0Te2lN74iYorPTqVWrrd2LRNaVdekud1/v9mzjn7hzz753C/C0E8e86cmd98ZuY38z0zZ7bHxwcEQAAEQAAEQAAEQAAEQAAEQCAJBHrewgcEQAAEQAAEQAAEQAAEQAAEQCAJBHqW8AEBEAABEAABEAABEAABEAABEEgCgZ4kTBLCRhAAARAAARAAARAAARAAARAAAR/6DZUABEAABEAABEAABEAABEAABJJBAPotGeUEK0EABEAABEAABEAABEAABEAA+g11AATaTOCdd94plUo38OkCAqVS6Z133mlzhePJo9Z1QXVrLIudUzk7oYHABhAAARDoZALQb51cOrBtnRNYWlp68803i/h0GYE333xzaWmpXZUbta7Lqltj2W1v5WxXo0C6IAACIJAsAtBvzSqv8+fPP/jgg/v27du5c+ev/dqv/c7v/M4TTzzx5ptvNis9xJs0AisrK2+88UZjYyuEXi8E3njjjZWVldbXWdS69VKDmpiPdlXO1jcHpAgCIAACCSUA/RZ/wZ07d+7OO+/sCfv85E/+5P33318qleJPFTEmjcDi4mITh2CIuuMJLC4utr7OotZ1fL3oCAPbUjlb3xyQIgiAAAgklAD0W8wF94UvfOHd/POxj31sfHz8L4791V9/+7vHTnzz8OHDn/70p3t7e3t6evr6+v7xH/8x5oQRXdIIvP766x0xUoMRbSLw+uuvt77Oota1qbQTlmxbKmfrmwNSBAEQAIGEEoB+i7PgDh061NPT8/73v//P//zP/+LspT8+/S8PP1987Ns/Oni6+Njp+ef++yvfmXnht3/7t3t6elKp1D//8z/HmTbi8n1/cWG+mJi5zYQN6GBuEwi0vtU2IROIcn0SaH3lRIogAAIgAAJ1EoB+qxNU7WDf/e533/Wud23atOm/Ff7u8JmrXzz7+tf+55vTP3jrG6+wf38x++ZXXnrji9+af37mHz71qU/19PTceeedbXkBpnZOEhri7GjaY5/0AzOJyMH6HPQhV40QaH1FbcQ6hO1qAq2vnEgRBEAABECgTgLQb3WCqhFsZWXl1ltvfc973vPnz0198cy1L734hpBtzv9T/++b//X5f31+5h9+4Rd+oaen5+mnn64RbyOXS/MXJh8Z7L+ll6sY9l8qne7fPTb5vYVGoklq2LnxjMz4tvxcEjLR1WNDZJ4TaH09BXgQqJNA6ysnUgQBEAABEKiTAPRbnaBqBPvrv/7rnp6ej33sY1P//QdfPPsjR7aJr3916c3Hvv0jtqLy1Pzx/3bix37sx/r6+mrEW+fl0tz0iFIvWr3pg4TomTrzGhns8uQgm4BLDz6bCPnm1zmKQrB1TCCyMjftwjqGiazFS6BpdRARgwAIgAAIrJUA9NtaCYr7xZLIiYmJz5+a//rFN4P67a9+IMXbw88XH36+eOzs7Ac/+MGenp5XX311rRYsnD5wu9ZqbNKtf3cuN5LLjWQHbk+xC12i39bKsdX3xzvYQmxJJNDqOue39qnBKycf33fH5o3GOw09Fyil166c/MKQFWjfVCBQu06cP7jV87wtB19slwFh6T43xIA2n1LrKydSBAEQAAEQqJMA9FudoGoEu/POO9/97nef+s53P//tkMm3v1Qzb0K8Pfx88cvffvXee+/t6en5y7/8yxpRV79cmc1vV8OjDZncsTln+47S5enc8EQyJqSq53TdXQ0Ozc4/ukWVZejfpo0jX3z6vo/fsWk4atw8xQeMYSY5g8jXrpz50/vu6pMD9o19d933p+euqHxO7WMxhIzgWQAxUB6KskDFsd7+tr5ShxMUkoCW8KYtd336sCm88Nuqnv3+4bs20BhDS//i4Y+6YVqgTKraTS+6+i3QQjduvnPo8b/RdZze27Rj6LfWNxukCAIgAAIdRgD6LZ4CSafTGzdu/LuZf8ife92ZfNPLJrV4e/j54uEzVz/72c/29PR8+ctfXosF888MyOFPamDi0lpiwr2tJhAc3wVGh87Qtmn6rcaIsD799tq5g/pRAjF800cPn3uN5fXkp5iuq6bfPvDQuSCUdX2m1XUuav4tqN9ECW7aP/XDVRbA8XtZcW/66MHjF69FRvGNHA9018FvVAkUeXfzL9TUb7Kif/gL55tvjEqhRmtVwdb8t/WVEymCAAiAAAjUSQD6rU5QNYLddttt733ve0+98A9f/I6l30LF28PPF//kzD/97u/+7r//2MAzzzxTI+pql2cO8AWSnpfKHq97k5LKwoVnRwe2puWtXiq9fXAsMHHnn8iKsUlmfM4vzU0/MNAnbujt17N8pcvTo7vk6dTtA6PH5y1jaQz+wsyT2X65tUoqvT03fdmZKfRLlwr5kYEMsat/eGKmaEVZGJZG5S/7/tXpHFvd5Hkjp1kgKzlz18L3Jkd3WbEOPjHjpF26XMgP96f1zi+9mYERN2n/cl6+Yjhc8P3S3LFcvzQ11bdrrGDbOfsMfxcvtSMfLaprjK9ePMgm47YebMXAsO4RYfQc2rWp7CZWFps/efjsFTZgf+3aua/uv5WXz5ZHWSaEOh36s9B8c4nYmsyGpt+mk6aakqPS1F6OzfNYTbM/uhJ+ZEI2ttJcYTxrdi3a0JvZlTt62b6LfAvPqFMBXrt28dTjn+TledcTF8NvqXFWKJ8PP/79auFElfjwF1aXRLWYY7oWrt/0M4hrF48f/CjH5A1N8YcUMaVbNRqnsKqGXctFUmtwCAIgAAIg0FkEoN/iKY9f+ZVf6enp+ebzZ/7oTFHPv0WJt4efLz7791d+8zd/s6en59SpU6u34KySb+mxC3XGcvXoXrHLvhwhmj+9d0/OVkgsWg49Nm2WaKrg/eOzpUv5fvVV/907RWSkjmF8pjCstZEO25s9QQKfzOkL1sGGgcmrxiqj314q5HSUYphrkjPLRWfHgzY6LwQuzDyyw0rRfOk7cIZYqIfOw5OFewMQe7MFE3Yuv03Fcm9gCK5yU2NolSz99v3HP+x53sahI/ZSsivPDbHh7cbc8dekfhNaLpB3rt/ubIlYDaTdxhOqLth/KwX57MTLFmiT9H29yergFH8EsVDI6lagapznedkTdoTkW3hmwyTBta/c7XneraNnwm+pcVbM2dZYEBv9OKBG7K26XEO/MTN++PQnGfmNub9plVFhhdWMtEmtwSEIgAAIgEBnEYB+i6c8/vAP/7Cnp+fQoUNPfevVr32f7V8yfemtL/w9220y9N/fzfzDz/7sz/7ET/zEjRs3Vm3B3BNSnKTur+8XzyozB9RoL71zdOLkhblXLxSeGt2hxEjvvQUzMaXkEBuc9A6MnZydf7kw9gkV1MtkbmN7PY6dnJ17aXrsbhXvbWOzOj8qhlRvLwv6yNHTL8/PnjlqAqeyhUUV+kTW25De+8j0hVfn2efV03kVZ+ozfHqNB9T6LTtM9tuM0m8vj/WJQW3v3omX5hYWSwvzcxeOjQ1+wvzAgFmAuiGTHZcW5k3k/WyiT3y0fkulUiw70xdeZbENqKz3PWKy3or5N745xCbxitGGTXfse/zkK2YUJ4WTt+WhGXOyWFSzZDsPX1QTYmTYbx8677bxaKIG3GIi5dbR4PrHi4+zRZV8dMvHndX0m0pRztQ9VyxeO39kWO1tsemO/X9mTdRcm5k6OHzXFjH/4XkbN98x9IWTV+g0CNfAm3//jBXPxjv2f/U8WdLHx+ibH2SBvrpfJbbxjuEjNJCAeO3FI/ftvFW93nfrXZ92wojhPhMt1148sv9OuXPHpjv3H4mYhlJ1y/2r6nnqwBl6ST8X2HuUNZzS0T2yyPrvL8zOL5QWF+ZfPj0xksnFod8ufoFJcjP/Fv5AIWriNCb9JnY3UUW8Kfiyma5Ur105+egnZWXYeOsnHz1pP0koFqu2F9lInM1UNm7iZW3WLZuaaVqVKPTAwuDayV27eOrwgx9XNc7zNn3grvusminT4LVui2zpnrdJ0FCNRQaqmVz9oFTWaM3DMQiAAAiAQEcRgH6Lpzi+973v9fT03Hrrradmvvf5b//oL6uKt4lv/fBLX/pST0/Pnj171pL8hYekmmJLHOv4zD6i5MwwmSvyfd88xd8xoSe7lPryvMwhswhQjyA9zyMzY5XTaiqwP6831DQx2FNt/sLR3XLcKacRfN+/PDNj5q94ZhaPymVkZHZRjWvZ7X33Ts9q+Re2flLr2+zxCDo6Ca/fWeioJ+6MetT6zVmt+pJSiQ3u86mGSRF/w4fLKvDMwTtstcW/3XGQqLVzj/IgP/fgGSVppKjbNDTFx7ZiMBoSjTjlDBB5yhH67drTH1ciTRmo/575/c1SBvARJFNTOio+L8e+XeDZUSnKUfLY4bvUwF0ZuXHoOa28hEJQV9TfTftE5ngaguGvDvFJQBWC/zWyRG6dcvfQPjcxj6tcYW2xWFSS2IrHUzB5MKnfHnoixPDQF8ki6qXvn5HtyXo0c3VCzhTLdZUFOWe99ZB5chAZo7ygs2Md8KIxG4dcu3Lu6zlWe+j7b+EV0tJvNWqUWB8r4rEpkm9GLBVfO3fwTnJFHd7xKHlMIGTJgcdz0repQJ5nPSmoo70UrxwPRsKjMyaF6Dcx8+zdxZ6I6E89yUVwsHJXLJ4L1iWRRdVYWJr1JFcnKJ2For0ivFa9wnUQAAEQAIFWEoB+i432xz72sZ6enmw2+1ffufRfT0XOvD1++l/+/tx37/zF7T09Pel0eufOnf/0T/+0OiO0mKlPv2npNcgf3ltpzj8pR4YDz6h32LT62n3UTMr5/uxjcuLLCBsekzImdeCsilnH8IlJR5r5euVn9PJC39cGZ/UaRJWK5+2aVIa6yRka2oDth2ZpHtQd+pW59EOB9adakaYOyMlNrd+InuQx6bcQjZ06hSoHZKQUdhg+XOYhXzuZY1rj1v1fPcdfNSsWf3jx+KNcM2x/nAwjz4vh76ZPnWS3XTkyxGYTLI0nE3aG72HmiHMR+k3oFjPMpRFcfOIutgX7o+eLf8M3q5DjzpP8i1p1xjO7ZUyOy40M2LBF5vG1KycP8M05P/60EnBTuW1DB79+7orYYOO1axe/8SAXrHccvKDSN0PkzXc/yvfReO3amTEeSktHqd/YoHjzr8rNNq596yEZ6Bsqqu8fZtnYxHfa4Hr42pVzR7Ls/b6N9x5XgeRUDIvrA/uPiPcAXzl5H39L8+6vKMNV6GKVIbKufqSyqUaqJ+V0A+mt//VXkjg5FBVACAP1/6adDx0nM7rF8ArZRP128lO8lmePyFrOivggr+XktTpjOS9iVhmunX/iblbT2Zwq/9TVXq5N7eOTbbrgisVrrxy/jz18MBXb1m/Xrpw9sl/oxo8/bab76kquWHzx8U/uvO/wqfOyCV+7cu5PxSuH+80urLIC66wVi9eunB9n61qN2K4zuXpAkRpRrXJWcWq4BAIgAAIg0BIC0G+xYf6Xf/mXDRs2vOtd75qYmCic+/7nT80HV07+P3///52d+R9f/tpzn338i/8x/b/38M/73//+1Uk4/TJMiPwIyZZ6qWa7WT1oQr00JubyzPN+JX4yj1kP93WiRunxWPR58+5NRAws+OLRQTFMpDKsUpp/qXB0fDQ3Mth/S1rvY+J5Rhdp/WYm7nQedHJ6NpKsF/W8VP/uscnvWUJS25w7qWPRByU1STgglaLWb+6uEnoYbezUsVQ5sAdLgW/hw2UW7NpX2Bs3d/+pGTHym8UkmD0PcGWKTz1t2v/1c4d3MuLO032Zajz67ZNHQhRKscgjZ/pN5Ejot1MPbvY2btzobRTakl/SEyZSv935oLUGLhqIZifk5f6vqxPiFu+OB/+WshIqa/ODp0QwKbru+H0rNWGDni08N3qr522+729VzPLvmQc3s8WhXB/rX0HwQqPSuaNRVKkeM/eL/YLSYy+JUPOTu3iboYpObz/red4tA7nxgvv7IYEEaOrm2AzuRbOU/2/8zwfP6TIN52/pNxNhUcyOruH9N/Fe2a8epiXHKz9TL2b6VFi+6ZNPWytUrdTrai8XuT7fOGRPk7oPJsyTBcppu1VR60qOkCKHIjnzAEJs2erWHLu11ptcHaCIJewwUHdwAgRAAARAoFMIQL/FWRLf/OY33/Oe9/z4j//47/3e731n5n/8xdlLf3Lmnw5/6+rhb119+ttz35z5n0899dTdnxgcy//JHz355b89deqJL3050//hf/8Vgd7e3rm5utZAUnNLU1IEeXozOnrZOY6UHzxc8GpQDvGAWvMYnRZ1PiIGHtwVkwsvjO1QG2LSoRE/NrpI6Te6pJPHF7Z+kl1YmMmbd/Z4ZFtz02qNqI7NvOSmIvN9370aRCQDt1q/iVFdgJI4oWa09Fjs1INiE0g2e0TXFuoARSmxzBN9esk+XtP8mxAA+tW7nY8f3qcmSfjU3B1/JPfaFKNkd9hqW8KG8i8eoa8PaSB6e8CIKaPiFN8eRAVzx+gyna/vZxHK2cKLQv3qJOwDrZkjogpYrk+Q6hY4VI9U5Hzy/KT4qRD6mqXv+/PHcxnrZ9bSg+PuSmQatU7aOrAlQZHtP3lYzCxt3DclFVyL9ZuYrbVB629S9tdXdetqL4JA1kx9cT5ugQb1263ZKTLjzW6qKzke+5W/eXz/TvNim8qdnu5z5ZwsMruw6k3OvktGVfUPrTY4BgEQAAEQ6CgC0G8xF8fMzExvb6+QZPv27fvjP/7jiYmJsbGxoaGhn/7pnxYTbh/44AdP/t3zR75+7Knnjh14+HNCwv3Mz/zMlStXGrNGvw/j9amH9NERVKblpnZ0yksHV4PFkPk3PZ3FA8ej3xwtdFWOTb0NmdxThQuvzi+wF9tCdJGrqbT9UfqNByjNX5h8YCCth7m9ObFviloLStZ8mgg7d/5NiCg12nP+BvQb27NEhLnrMF0OR4dudY/tIvSbkDd6RotGXRTvv/HVg3quhoXf/Ptn+NQBv4sboARV9Z0qZeTXvr6fLW0L++h4ovSbGIWrYO4YXSYg5IrUbyJMWGLsXHP0mz87dhtPkb9XqR7WZEKeNVRKsyfz2Q+Z5x/9T0Q+DLLKRn8JrQBXnuYL9dQcWov1mzApAnlD+q2u9sKTCzwycOsGrTnXZuTiSeexSF3JFYvn+fYwYflz9JviH1FYdSYnpsHV8wgdV7UD4wtxBAIgAAIg0GEEoN/iL5A33nhjdHR048aNQq3R/2+//faNGzdu2LDhc+P5ex/87CP/95NPPXfsM//l0Q9u/09C8l2+rLc7rMcwtaTK87yoV7xMNBfkEklPbF5nLrCn+Or9N7MuMWL2bBX6zXlTjm2cp2YOxdxCxEYjs4fEz7uFrJ8MG8VGGGzyWZk/ukduFikWf2oznDkNdkvwBSRHc5p4Q3SmuRh9VG3oVCxGaY9isRghosLjU3uW8J307jwofkrbDRo6fHcDse9RSQuRFhj+FovFcw/+nH6DSOm3Hz59t9iRkh14bNdKboASVPXoN7Gtpbfp1x8/Q3752TUvXHIUj/CNcdQyS3eMLvP9Z0NsbC0nZCLCuIjqDGZui64d7IracGhgcl49Tag6077wwpjakVa9tBlIwKRNj8IrgMiOWs4XCvO1IwxTyA/3WSsYaVL02C0vei3cJBqCH9cRrFoqOj4ej5GF8rxboFS/sSCCibcxp9+TjG4jOil28Npx/v6nd8enps6ZX0h3khNf9dMBFYGd5bpyV99EpUpA/g3UHZwAARAAARDoFALQb80qiXK5fPz48Ycffvj/4p/JyclLl9g2jlu3bv33X4rr/6VfvvfBz9774GcfPfylp/78Lz7zXx7t/6Vf7unp2bRpU2MSjv4I2+1hP4p9eTo3PCGexqvhoNf3mdPWe2Bm/0ki7SLk0Cr0m+cNTOhNKZk0uiAnFry+sZcZfxMn3ShS7+sYl34LztGZ/ScHzMabvEbo/SeNtOsY/SZ2BCHbZjjjLvJVbkx399NXrkzx/RXlXiYkCDsUI8K9R5zTwa+Rg8VviO1IAr//9md8zxS5qwp/W8wbepq9vyd+75hP3P3cgyfZT42Z6TsxSg5Tg9oiIQ+cX0e4cvhXmebSOjBcA8t9XPSw2Bk0iySuHNnLdrPQ71mJVWq1fmk6NCptc8hBDe+jqtzAkxNiDtV56TRwe+1HCSFG6AogJxtVkCuH+fyb2k5DaJUPPEQ2f5SVqin6Tb6Qxn45sNrHFjOhIetqL2K5prX9j977UU+Iqd+gf86kc/xevusJ2aq0ruSk8Bs6QnP32kl7uxQxrW2JQ7NJpiqsupKLKmKTj5CjQO3CCRAAARAAgU4hAP3W6pKYnZ0VU3Nawn3uT55ai4Sbn9qrfoGMDV5T6f7BkVyO/RvsF3uA6H3tjU7z2O+/nZmdn589/bWxQfWjbtayqzj1G/8FuWMX5ubn516azN2uFg3tPipkpPkRtttz0y+zn3+bPUbf6gl5/y1kFVnA4LkndvQP5wsvz88XS/ynsQoH2G+Rsd+zG31BlrvWaR77/Tf263NzLxUmRtSPy6mVliy0Gkx7dexf0tzffxN7IXrerdnDZ76v95cIjMBeO/cQm8DcOPRnfA8ItZfJ0HPOlhDFIttNhG1oOfTVc9fogDIQZaR+07s49u0/MsNN4vvp8Wg37f+6MFLIm7vv/rjnqW0k+ehz44e3bwnu8ldVv4ntK707xs4wg8X7Wh8QhRvQb5v3T10Qm/yZDQM3ZdVrXdLyzfufkzsB6o0lrd3z/4Zv+eltumt0Sm36GaAjozLD/WAI50wt7zM/8RGeqdv6eBslj1fYnYXcLQOjz7JmtVDiv234lHIFdwd2Z1UpOQbIr64Kunbl7NR9vLEYwc8nSz1v09BX+YznKycPflT94kIz5t+KQr14Xt/+w6cuRlZL1/Kw/NXTXvSEmKhRP5Sbi3L6pkDd+bdisSgjv1Vth6PPVG2eQp1qmOwHGx68Wy4INsmJn+DzNg0dYcj19pvcKKXflAFVk4N+U/Uff0EABEBgfRCAfmtDOb788ss/9VM/RWfhHAn3vve975VXXqnfsoWTo/YeBnIgK//QDScvTerfm7YDeZkH7Em5gBwS9pi5Mvs3gkPO6xj+IJ+lElMknM6ZH6FbLOQCAXqH86PbRNDV6rdxJcPsrPbdT3O6cPr+wE9HSQsHJ80P3zWk3/Q0iOdF/0BC2EiTnAtdrqau1/GrUHJuZOPeI1quqV8wC/6EgPylAYuTHiDKvQSti/KLCVMszgR/ro2F+vAf6Qkbk4qe1yrKn8/SayxZDuuYfyue+X29LYsxbDP/xWx3/s1cV0fWzpZCVapL5q+za+WV458KSVH+NIIsl7jn38jCZmbXHuuXPHxfbQJkbOZHvQNWvbX9iKpB9l+hgpx42KpsuuBW/fg7Cbbpo/uZ6miKfousUWzyVptfj36r71fUzv8R/80IK3eHH2JLbY2gCtFvbMMSrmN/Xf+yhZ64I3GJQ9NervCfTHQCbN7MYjLJFX84tV9pZBX01twX7mO/pGGiqic5NcdO7tIIow7sioNvIAACIAACHUQA+q09hXHx4sX3ve99PT09H/qlu8RCSi3htm3/zz09Pb/4i7/YmGWl+QvPjg1uT/fqXTpS6fT2wbFnL8w7P31WmiuMZ+XUnJiw2z02fckJ5OvfRjM/p8YNCtFpUee1fhuf84sz+T19coOF3szAA9PuRucsQEYa39uffXJmYc37l5QuHR3dlUlrZZhKZ3aNOj8hICAvfG9ydJdK3fN6tw7knjztcuuc+Tc+4Lpy9vB9wc3r1PhM/ni39evS7DfgxCpKL/gi3LXzRz591xY6WFRRFevUb8Vi8ZUzhz991618QZnnbbx1532Hv6XFIzNaTN9ZI1Q9cUcG5fXot+JrV04++kmZ1oZNW3bed+TFa+7wWq5SU0Nfz9u4+Y6hL5y8Ys0xBvTbxs137Hv8ZNheLxf/6uDQnVwjmijp70THr998s0eR/tk37RjmT49n+28xP7TRe0t/ttZPCIQP1l39tnHznXc/GJyMfe3ikeE7NgkPs0mQ5Flukn5jFfbcYadaMvIN6zcWU9X2wrFcO//V/XeI2rtR1hO+btYIKreCCZp6Cu6soVs7uWvnDUxV5XgDMcmx6F45efDX5cTcZl7Ji2LuzjRPFqp2cvUJXZMB/H6Abmc4AAEQAIHOIwD91rYyuXjxYnAWLv+VI7/8id/4X1JM2v3rv/5r24yLJWGq32KJcH1FQodKOG4KgapzmCrFhkWXujGGv62v0TEYjSi6g0DrKydSBAEQAAEQqJMA9FudoJoS7NKlS2IWTrwLt//Agx/f83/8yq//1v/6v/1sT0/PxYsXm5JqyyKFfquKujsGgW3NJfRboAa2tTyQeJIIBOoOToAACIAACHQKAei3NpfEK6+8In4X7oPb/9POj3/yV379t3YM/NpPeu9973vf+84777TZuDUmD/1WFWCShnIJtRX6LVADE1qSMLv1BAJ1BydAAARAAAQ6hQD0W/tLQs/CpX76Z372llvf8x/+Q09Pz2OPPdZ+y9ZoAfRbVYCtH5B1XYrQb4Ea2HV1ABleLYFA3cEJEAABEACBTiEA/dYRJfHDH/7w53/+58Uvfb/73e/+/Oc/3xFmrdEI6LeqAF9//fXVjqxwX30EOlu/vf7661UrSFMuotbVV3W6PVRbKmdTajwiBQEQAIH1SAD6rVNKdXl5+Tvf+c6pU6euXbvWKTat0Q7ot6oAFxcXu32Q2N35X1xcrFpBmnIRta67K129uW9L5WxKjUekIAACILAeCUC/rcdSRZ6SQGB5eRmTIfUOJ9dduNdff315ebn19RS1bt1Vpfgz1K7K2frmgBRBAARAIKEEoN8SWom8rigAACAASURBVHAwez0QqFQqCwsL8Y+/EGNnE1hYWKhUKu2qwah1nV072mxdeytnuxoF0gUBEACBZBGAfktWecHadUjg5s2b1/HpGgI3b97shEqMWtc1Na6BjHZI5eyEBgIbQAAEQKCTCUC/dXLpwDYQAAEQAAEQAAEQAAEQAAEQMASg3wwLHIEACIAACIAACIAACIAACIBAJxOAfuvk0oFtIAACIAACIAACIAACIAACIGAIQL8ZFjgCARAAARAAARAAARAAARAAgU4mAP3WyaUD20AABEAABEAABEAABEAABEDAEIB+MyxwBAIgAAIgAAIgAAIgAAIgAAKdTAD6rZNLB7aBAAiAAAiAAAiAAAiAAAiAgCEA/WZY4AgEQAAEQAAEQAAEQAAEQAAEOpkA9Fsnlw5sAwEQAAEQAAEQAAEQAAEQAAFDAPrNsMARCIAACIAACIAACIAACIAACHQyAei3Ti4d2AYCIAACIAACIAACIAACIAAChgD0m2GBIxAAARAAARAAARAAARAAARDoZALQb51cOrANBEAABEAABEAABEAABEAABAwB6DfDAkcgAAIgAAIgAAIgAAIgAAIg0MkEoN86uXRgGwiAAAiAAAiAAAiAAAiAAAgYAtBvhgWOQAAEQAAEQAAEQAAEQAAEQKCTCUC/dXLpwDYQAAEQAAEQAAEQAAEQAAEQMASg3wwLHIEACIAACIAACIAACIAACIBAJxOAfuvk0oFtIAACIAACIAACIAACIAACIGAIQL8ZFjgCARAAARAAARAAARAAARAAgU4mAP3WyaUD20AABEAABEAABEAABEAABEDAEIB+MyxwBAIgAAIgAAIgAAIgAAIgAAKdTAD6rZNLB7aBAAiAAAiAAAiAAAiAAAiAgCEA/WZY4AgEQAAEQAAEQAAEQAAEQAAEOpkA9Fsnlw5sAwEQAAEQAAEQAAEQAAEQAAFDAPrNsMARCIAACIAACIAACIAACIAACHQyAei3Ti4d2AYCIAACIAACIAACIAACIAAChgD0m2GBIxAAARAAARAAARAAARAAARDoZALQb51cOrANBEAABEAABEAABEAABEAABAwB6DfDAkcgAAIgAAIgAAIgAAIgAAIg0MkEoN86uXRgGwiAAAiAAAiAAAiAAAiAAAgYAmvVb8vLy5VK5Z133rmJDwiAAAiAAAiAAAiAAAiAAAiAQIDAO++8U6lUlpeXjQ5b7dEq9dvS0lK5XF5cXLx+/XqpVCqXywEjcQIEQAAEQAAEQAAEQAAEQAAEQOBmuVwulUrXr19fXFwsl8tLS0urlW9+w/pteXlZpF2pVFZWVladMG4EARAAARAAARAAARAAARAAga4isLKyUqlUxBzY6qbjGtNvN2/eXFxcrFQqXUUZmQUBEAABEAABEAABEAABEACBGAlUKpXFxcWbN282GmcD+q1cLl+/fh1zbo0iRngQAAEQAAEQAAEQAAEQAAEQcAgsLy9fv369XC4756t/rVe/QbxV54irIAACIAACIAACIAACIAACINAQgZWVlUYlXF36TSybxMxbQ4WBwCAAAiAAAiAAAiAAAiAAAiBQncDKykpDCylr67elpaW33357dW/XVbcVV0EABEAABEAABEAABEAABECgywksLy+//fbbdW5KWVu/3bhx45133ulypsg+CIAACIAACIAACIAACIAACDSJwM2bN2/cuFFP5DX029LS0uLiYj0RIQwIgAAIgAAIgAAIgAAIgAAIgMDqCCwuLtYzBVdNv62srIjf5l6dBbgLBEAABEAABEAABEAABEAABECgHgLiN75r7jkSqd9W+Kf+hZj12IQwIAACIAACIAACIAACIAACIAACQQJi2xGhwoJX9Zlw/SZuw+JJjQkHIAACIAACIAACIAACIAACINBUAmIJZXUJF6LfxA0rKyuVSqXOt+iamg1EDgIgAAIgAAIgAAIgAAIgAALrnsCNGzcqlYqWY6H5dfWbDr2yslLmn9DbcBIEQAAEQAAEQAAEQAAEQAAEQCBGAmLzEarIgpFb+o0GFfrt5s2bwXtwBgRAAARAAARAAARAAARAAARAIF4CYv7MEWVOEtBvDhB8BQEQAAEQAAEQAAEQAAEQAIE2ELh582a5XK5XvznhMP/WhhJDkiAAAiAAAiAAAiAAAiAAAt1KIFS/Ob8oIOffguIN+q1bqw3yDQIgAAIgAAIgAAIgAAIg0AYCUfqNSjjotzYUDJIEARAAARAAARAAARAAARAAAYcA9JsDBF9BAARAAARAAARAAARAAARAoEMJ1KvfQhdPLi0tlctl7D/ZoWULs0AABEAABEAABEAABEAABNYXAaHflpeXQwWayCtbPxl6Wei3crm8vpggNyAAAiAAAiAAAiAAAiAAAiDQiQTE7wfU0G+h4m15eRn6rROLFDaBAAiAAAiAAAiAAAiAAAisUwJav1WRcD3Qb+u09JEtEAABEAABEAABEAABEACBJBGAfktSacFWEAABEAABEAABEAABEACBbiawSv22zD9YP9nNVSe5eV9eXi6XyzfwiZtAuVxeXl5ObsWA5SAAAm0hAJ8ctzOuER98dVvqORIFgRgJUP0WuoTS9/2Q9ZPQbzGWAaJqJYEbN24U8WkmgRs3brSyQJEWCIBAognAJzfTH1eLG7460Q0Hxnc5Aei3Lq8A3ZV9DBSqdebxXcOwoLvaFXILAqslAJ8cn99dTUzw1autubgPBNpMoKZ+W1lZwfxbmwsJycdCYHl5eTX9G+5ZFQEspIyl0iISEFjHBOCTV+VcY74JvnodNzFkbR0TWI1+E4sn8fsB67harMuslcvlmPs9RBdNAD8LuS4bETIFAjESgE+O9qCtuwJfHWOVRlQg0DICjn4LfQXOnX9rrX4rZL3AZ1t+rmWEkNB6IXD9+vXWdYldn9L169fXS8VBPkAABJpCAD65EzoK+OqmVG5ECgJNJpAY/ZZKp9O3qH+fmFiTfrt6Oj8y0LcTIrDJlavDosdYoZVjBYwJOqz6wxwQ6DgC8Mmt9MlRacFXd1zDgEEgUAeBpOi3TP5yHbmpM8gJPqWHSbw6ca2XYBgrRPXfzTiPMcF6aTfIBwg0iwB8cjN8b6Nxwlc3q34jXhBoJgHot2bSRdydRCB8rPDcUGB5ruftm2q0C6wV/vzBrXY6Ww+eV/dM7dOXthx8kZ998eAWTx3LYCyGoefUPR3/F2OCTqr7sAUEOpFAuE8uOt7S8YRVfR/znPKz5VHtYtktxM0Oxe7fLZtYnyKTOP+oNodZFZ8DZ4icDFo2NPIFvroT2wZsAoFaBBKu3yrz0w8M9KW4v06l+0em50oix6W5Y2OD29Piipfq2zs+s8CuzOW3Ke8u/2YL6mT2hKYlgqlJPzFfN1xYeGFsR8rz5MTdwsyT2f5eHsuG3sye/ExR346DTiQQMVaQHR3raImmaqT7s8OGSC8TgI0hbHHIzqh0eWfPByshkUC/dWKlgk0gAAKrJhDhky1xwr1inYprasgLVzWNRGLc9SqPHP2m3HuRnW9Ei1ZL3kJULWAd16DfVl2BcSMItJFADPqtVJKaqTnZEPuXKClF06jM5rcz+ZTZncuN5LI70+zLrsl5FobdlfrQYG4klxsZzGxgVwaemff9+cLncrm7+9j3VP9ednXyQp36bXc2K+Qg028LhWEm3dI7syyJ3RkWYe+BmQq1D8edRSBirCD7t/boN1en6V55asjt6aHfOqs6wRoQAIE1EojwydoNcufMnGR9+s11p0a7BB+cmWuxH0XptyKTlzFNwdmI1pYF6Lc1VmPcDgJtIVAqlcrlst5RsrH9JyuVSrlcbol+Y/pIfzLjbPuSufGM56Wyx/m8GoM3P/ERJqnGXmIXZ87q875/nL/wJqWd77vvv8lJuRrzb56346GZBa7QSieYlMs8NqvL7PRnmLYbnGqqlNWp4WA1BCLGCrLrC9dvbEAgP2axCuueyVNe/pX1yiSwuokE4+k4w4hgouqM7um1kDt/cKt8dsvC7JviT3N5OnRCjxsjUzfnRSQsTvHRYwgRFftffPSj4qKVHZP3YrFa6mQYgTHBauoo7gGBbiIQ4ZMtcWL5TCKN5JJI4+WEywqf4LIiMW6KJRR0fdVcHHHy1Cva6zPZSkmxRJNFpZwqd7NUiIanzqwLd+OWT7b6oMjVocLz64TC4cBXd1ObQ17XDwGh35aWlrSEWwl8In8/oJX6je4/OfjUHFsJySfflPc1f6UMK16YHh/N7e5P3yLWOOp1j6vVb6kDp9X0WuFekxw9EsJy/dSO9ZWTiLGC7MxpRytP8a5aSR17ZQ7rX3lfaIXh97Ez4d1kcMAhBwoyPfZHmcF6XK0J+UBBCzkehlU7MRTQSo9FP6RHM5ZhQrlJq+gwgh/rJZ0kj4Hb9WBF3hKSOslGsYgxwfpqPcgNCMRPIMIna70heleieSL0m3JKtDc27pGeJbKHp6IcJhN4ltAKc7DRXpHeztWXtNk2jGREvOMXlnqkG7dSZ8Zrn0xT5ynqhITnlyHZJZVH6qzhq+Ov2YgRBJpPICn6Lbh+UkyapbNPTk8fs/5duOr7l/L9zGen+nZlc49MTP/BDvZNbzi5uvm3e6Z1cRSGWXw7/sBKd/rY9OlLmH/TkDruIGKsIDuyYN/Gzqj+lSgrGn5oiHSi8gLrZWPTb+cf3TL06MEtrNN19Jvuoa2OnPTK9DzVeFzmKQudXOss6wMRIQ3GjtXT5SIfhehhBEkd+q3j6j8MAoFOIxDhk6nvEo+rlLuL0G81fW/I/Btz1Cpaudwg5AkXdXHRXtE4Z2YJMdJ4TnKShYlOnXrR6NQpIjt1a5UmeSRnG0ZTgX7rtHYBe0CgHgJJ12+pA2eC2Swd3c301eCzagmlI9icryHvv10YYy/TKdEowg8XdEpSvz3JX7XTZ3HQ2QQixgqyIzMdrerZWJfvfKyHl6wHDXmc2ah+s+JUqxP5epgtj56f2rfl4ItTQ2ycIf5nxgVNVSbTPdaY6UpZBfWbfA3DiUp/rZJ3HUYnGnqAMUFntwZYBwLtJxDhk6k4YQ7PbL1rqyBXlUX7Xjeks0ZR+nmi32y3LFxcpFd00iVGEm9JclE19cBSTOnG7SwQRCx190OXjajjUD/NTsJXt78lwAIQaJxAw/pNr7NcXl5u4fpJJaVIDmfu59uJbM/PqmWNfml24tkZvclk9rgILfcaceffth7Sr69N38PcX99DF+QNJ7J8zaVKNKDf5p8ZYDf0ZgtKIfqVhcIz02v6VXGSNRw2g0DEWEH2aqSjJWfI/JvT+4ne1O5TeRCnL7dvc8O7gU2vPLXP2/LowSE+jJja57FZOPW0OGiqSISdV2Hog1u2IIe+N08SdaLS5rHzEXl3brHzZ75hTNCMOow4QWA9EYjwycYNcodC3BeRRsHl6HxSK3ztg/ZsxkMxN0jm38yFyAdkkV6ReFQWDTHS8pbPDZnnfdVTN4YZFHYWzHnu3sNz7Xp+kkd6CF+9ntoU8tI9BIL6LbiFifX+W+foN3+hIGSWl+ofHMnl7hlIb/A8Pks28wDXXxsyg3xfynQv/6rXT17O8/0i2e6R2Z2jBd8vTe0Vz6/Su7K53f2pdH9/1fk3X2196W1ID9zDtrjsN78r0D2VJ2E5jRgryI7M6mjFOdbFhm8XxgLLLtZeoMJuDJ4xfaXdB8tHy7pTJ9GqmTQhotiAwMz1hZjKU2CRq8fGPKrw+Tc3mLpF7L8iH9ZWz7u+xeTMPcKYIGHNA+aCQMsJRPhkKk7s9ZNEKQkXZz1mIlcdfxRwvMr3hj2linKwloe0EiAGC1+tBJgdFRGi9vtvNDLXP+tlFEYWsuTI8greWYT7ZJoiTcQ6hq9uecVHgiAQA4Ek6zff94sz+T2ZXv7zAN6G3syu0enL/A20yuzkHvGzcKn+kel5sf+k1m++P/vMXib22Bza6GmGcWFmXJ5J3b538tIs/5m4yPk3dkdpbnqkX//AXHp7doLueBlD0SCKmAlEjBVkT2Z3tKp74zKGVxTTX4pxg1mUwjtstVKR3yi7cHOLmA3T8bAD093Kztg+KUYtSj0KM9Qt4aaylFlvLT/7pvgMnvgFW3Le07uVsBtEXtQ99kPcsLzLW5QlClPIX4wJYq6+iA4E1h2BCJ9MXKLlKrmP08va900x90UFWGP6TUk45f60T452sNE7QBpvOTTFjuXMnhMV97d60i8qm8RdW25cPdTjio64dxsLy45OAvpt3bUZZAgEFIHO12/KUvwFgbURiBgrhGiPdXcqshd3hhcxZhz6bW21FXeDwPon0MU+OUZfu9ao4KvXf0tDDtcjAei39ViqyFMYgS4eK0C/hVUInAMBEGgrgS72yWsVXTHeD/3W1kaAxEFglQSg31YJDrcljkCpVIqxz0tUVG3Qb6USfksjcU0EBoNASwl0sU/uoA4EvrqllR6JgUBMBKDfYgKJaDqewPLycgf1mevdlOXl5Y6vETAQBECgnQTgkzuhH4CvbmcbQNogsFoC0G+rJYf7EkgAy3VaM1zAgpwENg6YDAJtIACf3BqfHJUKfHUbKj2SBIE4CEC/xUERcSSHAIYLUR15XOcxIEhOa4ClINB+AvDJcfneRuOBr25/7YcFILBaAjHotxs3bqw2ddwHAm0gsLS0VCqVruMTN4FSqbS0tNSGEkWSIAACSSYAnxy3M64RH3x1kpsLbAcBRuDGjRvlcnlpaYn+LveK/anx+93Qb6hKIAACIAACIAACIAACIAACINACAtBvLYCMJEAABEAABEAABEAABEAABEAgBgLQbzFARBQgAAIgAAIgAAIgAAIgAAIg0AIC0G8tgIwkQAAEQAAEQAAEQAAEQAAEQCAGAtBvMUBEFCAAAiAAAiAAAiAAAiAAAiDQAgLQby2AjCRAAARAAARAAARAAARAAARAIAYC0G8xQEQUIAACIAACIAACIAACIAACINACAtBvLYCMJEAABEAABEAABEAABEAABEAgBgLQbzFARBQgAAIgAAIgAAIgAAIgAAIg0AIC0G8tgIwkQAAEQAAEQAAEQAAEQAAEQCAGAtBvMUBEFCAAAiAAAiAAAiAAAiAAAiDQAgLQby2AjCRAAARAAARAAARAAARAAARAIAYC0G8xQEQUIAACIAACIAACIAACIAACINACAjHot+vXrzfJ0B/hAwKNELh8+XIjwREWBEAABECgiQTgk5sIF1GDAAgkgUCTJNL169fL5fLS0tIy+azYnx76lQRbrlQq5XK5efqtWCz+Gz4gUDeBH/zgB3WHRUAQAAEQAIHmEoBPbi5fxA4CINDZBIrFYjfqtyblGdGCAAiAAAiAAAiAAAiAAAiAQBIJdPT8WxKBwmYQAAEQAAEQAAEQAAEQAAEQaBIB6LcmgUW0IAACIAACIAACIAACIAACIBAzAei3mIEiOhAAARAAARAAARAAARAAARBoEgHotyaBRbQgAAIgAAIgAAIgAAIgAAIgEDMB6LeYgSI6EAABEAABEAABEAABEAABEGgSAei3JoFFtCAAAiAAAiAAAiAAAiAAAiAQMwHot5iBIjoQAAEQAAEQAAEQAAEQAAEQaBIB6LcmgUW0IAACIAACIAACIAACIAACIBAzAei3mIEiOhAAARAAARAAARAAARAAARBoEgHotyaBRbQgAAIgAAIgAAIgAAIgAAIgEDMB6LeYgSI6EAABEAABEAABEAABEAABEGgSgRj02+LiYpOMQ7QgAAIgAAIgAAIgAAIgAAIgAAKawOLiYrlcXlpaWiafFfvTQ7+SYMuVSqVcLkO/aZo4AAEQAAEQAAEQAAEQAAEQAIHmEYB+ax5bxAwCIAACIAACIAACIAACIAACcRKAfouTJuICARAAARAAARAAARAAARAAgeYRgH5rHlvEDAIgAAIgAAIgAAIgAAIgAAJxEoB+i5Mm4gIBEAABEAABEAABEAABEACB5hGAfmseW8QMAiAAAiAAAiAAAiAAAiAAAnESgH6LkybiAgEQAAEQAAEQAAEQAAEQAIHmEYB+ax5bxAwC1QjMjWc8L1uoFqT+a4Ws52VP1B8eIUFgLQRYfcuMz60lCtwLAnERKAx7/KPc6eV8hn9vShVlkWfyl+OyvfnxnGCNtZUGs65tW75LvUPLaTe/AiGFDiXQ+fqNDRTop3frwOjx+Q7FCbM6nwBzr+6nLcpnneq3BIzsYyVfb43nQ0w1vqz3po4NV0cp8zF0UwbQHUsFhq2OQMAnN+SQWcuiaoFXvIZiaMzqGvqtjqbRWHprDt0qRaFdXC391nmI1szYRFAPbfhGwwtHqyeQGP2WSqfTt6TT6ZQYevePz64+07izmwkE3St3pvFNhdULN1YVwXrE1Q1ZWKc7HNMsIMt6A31zrW6+XpJ2uNooYiVvJx71jdU6Ld5qWxgVDTkfSyQkvsYO6yvlGiPdxpJE6HVLwPbJvHnW783cqtj01l2jVrv2tL/UbLxV7FlTX0BcXC3H3nmIqkBp9FKdtGvUokZTRfhuJJAU/WZm/xdOZHuZhtt7dLEbCwx5XiuBcPc6l99mP8RdazK17491nMF6xM7Qb7UzrkPU6uZ1wIYOVo+ioWQaCcxqF5mJisXCWCJpJBNWWJY6yZF1jX5Z04iQRoTjdUzA9cncG9f7UMmtirH61TDoiRt5u3jDMsXPraG1Wi6uOY490uzOutAK2p2VY1jTLgLJ02++P3toq+d5qQNn2wUN6SaZQJR7jTrftLzGOs5Y/Wh+DX32WtE0p5tfPYq15ifqfnfAF4uFsUQSZXHN8yz1evSbz5qVnnisGS0CdCUB1/dCv8VaDVy8kZGvvi+wXVxzHHuk2Z11oW7a8I2dVXAJtCaJ+o07dznbwIYR9ru54owcMTB/xEIuzDyyIyUGHMzR8JmWhZn8njRfjZnq25OfWSCld/X02J5M7wZ+cUNvZk9+pqivluaOjQ7cLpdxpm7PTet38a5Oj+7qExdS6f7csbmSvgkHnUMg0r26Q1JReXglCExtsUj0x0wOc48cdl5kX9Q9cX1bvuDuXyKqrrhsDXm50lPR0jc9DFV2b/aET0Oq4XXYYIhbkn2Y5oI1FLWMcq2WqKR9OSAgGZeXyBmesboZmiz7Nm1mPC0yFi1/hC8HEzJFlhCnpDLLzrOT5F51SaVFLnnZE3Y9sWqCe6OIQBrAv9CotIXiCikMGY8oTTKtyotyW/5ZuVuDqhJhMxUsoeECQSQIk5J175J+VUbqXqV8AhD80Ionci9rpviC/0EghIDrk2kTC3FfrG5zNygaiGoGXmb8WdKIiEOj3ob4T9kwiWfwfasVaD9m2RziMWgHQY2PdoAyRtIelb8SV+z2+xu5bYFV7txs4hyojTTabMHGa0NTjtfyYwZdeGCaFD+WJNV59dU2Q1111tjLnJIysrDbhpH8ssizJ5Rf+q0c2w3M3sGLGx/ik222egBJrHW9H7kU8tyKXnVp+/CNptxxFDOBGPTb22+/HbNRVnSibSgv4/t+5fQBJpL686/Kl21q6rfB4ayQVcwvCDexdXDwNi/1ocHcPQNpodO252crPOFL+X7eIbCrI9mBW/iXDQOTV9nV+WcG2PcNmcGRXG5ksD/VL7d1EnfJ89kdXBgOPKO1nZUlfGknAbszI5bQgQI/1j0970J03yC6NPI1K+oA6xXINl9OMDGSJneJDdJU78Krpe63eFR0EK+C+XP54dB9vVgzyWzL6BhEcuJrsBtj8avcyc5Mg4jFErUzIc+ISSsEgjJDpM/Dm8buMtRG+kK8mZCFYY2IodCcZfe5LZMhCVlA1LhB3WIXvRjPmXtlVy0523WJ2EANZSMMUy7simuhcEo6DIcgs8OOVeqW2cFIrDTVsEYORESmMmbfPLuUpVc0oxaeTZWuHNSarzYEKZsVfydmDlBnzbYR30CAE3Dbkanzsu6ZmsnC00bhiAE1XFa1UToK7RCs1s0alOUZ+FWd1uV8Vvkxq5xYDc9ktuk45cML5UBY69AVnrdlkp1AV6Lu8kOcwLZMRhljt/0gBGKg0wB5iqRjKmRNQxZewrBi1qoUeYzVApMkXRcnwZoHghys+Vo/orn8NmMeh6B9Po9kW0YBtMuOE6IF4VjLRnEyp6JKRPtGDlAXqOsqa9C2CTuB4RtpqeC4cQJvv/12uVxeWlpaJp8V+9NDv5Jgy5VKpVwut1K/lRZmJ/fw1992TXJtJEYSuklrRSfbvPSeG3aMnVXza7wJeZ43+Kw6s1AQb9RxRzA7dhtr2mR/lIXCMEsx9ZnTsufwvOxxRbq0sMBew+MuIJWdVlH6Vyd2eJ6XHrugAuJvpxCwxwrEKtIBBMKYEQOvP6rPIHez87QeskvmrjBPzSsnqaikW6WDEhbM6lNJouaQNwQ7GOnyrf6SRi6NJDcSm0Xs5t76LdG9Hc0jj45AFg8maa5rMDS5VaosUsrSArJ7fRYJIeMOm9hlWvrs2Awg2FVeAUQGWTzUfstA/YVlWQPhZxlSamEV5qSwnLucrzo5eeCSZxmxzKCJsmNSB1gUtJ5XhWCF5IlbeEUrcCJ3jcX37ibAKyd/UCr+o47U8hgCE626pIFIhnb1C9xOKjYPSdOq0aZkAsQD6GIjJrFIdHtn5y0HErBHR2G3lMCNVrTBXOto2I12cwtkU4cVzdwQCN5LgrqBySXXxYWlSO2nx7bCYZFWQcRuVJ6THVs5ZbXI5MVy48RWNYojXr2ab3SzxmIiCQWJWXknlU2YwK+apIO325biGwhUI5AU/UZ8O9NFuYJUSrwN00bLH0trj8mah5JeEgNvUV7qwAzBcuEhNl/GfO6rfPLNvupfOsTmSvjJ2Uf6WIzpHaPPXpjX6yPFXbaN/JtpqCQ1HLaVAHG+th2m2wh6Ve129YF9L5cEwaG8TovVOtK18JtJVLRbEhEbY3gwMyBw0lVfgzEEuhltHrPK1Ew7s8F4VmOJNXyxBxMsOWUJGA732gAAIABJREFUy5o6jpRkmqHKqvzLztv9t7zgZoFwliGsM8GiIZ0utValz+KXGYy0QYVlfxlANeYQ5x0Lna+BEQwvr6w7LAveRRPloyJKnmRKGmEKIjQqU+52DTFZEBCcQmSX7SJjAagllpn4AgJuhbGnOEw91KTsVslqr3Y40o1o/xZs3WSDXMsPsNh5WgFHrdOVByFx0kdClj3BtmMbrxNVowflDwPB6NNAQcz4cGJhWFu22yMLLByXSlN7p6C1VQKTRF0XF+ITLFXWICLuu5SxuqytSLgx1pnwvIhwji+t4hvDypqI5xq0QzjYZQHfSGoRDhsmkBj9xn8/oH9wJDf27IUFsdCRZZa1H+uhS5h+M9Nl6rkyHTUqj8/9gvAUyocqnCIV7i4r89Mj/fLtNy/V/0CBGSPuSmcnjk1PW/8uYAGlYtgxf20HSszSvlj04rq/0AesAgS7VRFD+Hmdlj4g6ZnRg6g/Oh19oEe97Hb+cWumjk4br8/YoyJigNOxWV9jskQPp6zIuWkUlNO90UsmG8Ryc1IcGWvpUMZF4aSi2ru6hUViS2seLR/ThIwdSefNjQi3gVrqDm5EDHrMJL2HLnR9oEtf1Do9JJVxu9mkSQanVYOzZIa2yS+NQ+ddH9CrLHVRyiyekI9BijEKBYfjEALBNm7OhFQ/U3VZXKYqipiNXw0IFV1PIx89yLbGAmon5hoc9BjWlL5lDzOVNGTZMJUbF21HJ0TzFbyRPhYJuSqsDG3LBqYaq2hnYod3o+VXzcM+OzDB4rq4oMu1Z9XqR8RCkgEevZEdGy/KrSEAQ65qg0OzSaMy8VB0+n5d5UKBkFtYPCEf+EaDEkdrIZAU/WZqvJ1bp3n7/uLRQdZg5OBMtB/aMuVoaesh+vtxIlj/E+rtuND5N7oYsjR/4djYAF/IyZyvcHOpA6eNsLTNxLfOIUDcq2UUO0+qjd3p6pBhPRO7GH5ep8VqiFuHyTijWmejk1ZPK5TwIBdcSSAukRyJ7pMPFNy0WOU3mXWvWomYL6LdRVpijUhM5Ox+lpwavjjQnK8yNc3QpO4c8RGewetmIRgtIR+2KMj0yiFjx+B4kVvj2EAtZJc0EH7BsdD5Su/lx5xAxt3AoMZddrHKcRv1hKQgQqMyeXejYkaxW0SmgnidDITd7gTB1+4mEGzjxGEG6w+pulZVFBBrtG5CulrVZSZRx0huI7bpsyQq0zSku4tygIFc03wFc13Fh2szojsC0fuYRi1vMb6OnbATrRGYJOq6OEJDh6Jh6kVEgfCI6I3smDo0FkAXDWMb2j2xUHY2q/pGHaHOB49Aeb8wG0ixhnGwI7I6X+sSvoBATQJJ12/itwS8wSm5nnJ2XGw+QgbiTiPnDsvzerMn1MtqcsOSvrGXfd+PfP+t9/4Z35+ffVnd5fulY3uVi5/hW6rQt+b80ssTky/U5I8ALSdA3KtJm9cKPchmbjfK+4feHlgzJmIm3Q/teMRF3jvKVAI9pbHMPgrvTuQghsgwdhdJnX0VfQnb9FLJJxG13ZnFY4kmaUfuWuV2b2FsnVwImwP/036UHrOAbirWw3LS5etIeWUQI4OQmsCMdPSYuNNNV8dXa/+S6sxVzSFW8Zgjk5PWOCMD93ZaPcIMIOFrQAgrNZ13UQ91faDncQwCkkCwCpEzAQ/Aaj5xYqqBKJp2dXWvqlDsb9Az1HWVNw27StMWZKVYzQGSPPJ0rXwFb9QGB304MZtaIk+zqOTjLfcqZ2VUkJ1ojcAkUeZMKBAerf28kvgT+vQnRE2RnovZQ3srRkwnxHC5+o2v0syMFwKPzKixjeg38qDKRGEKzkUks6MfJpqQ5m565HCjl3AMAjUJJF2/+fKFNC/VvzuX3ZVObe/n+/rV0m/pvr4N7Ba9/2TvvQXxOlvpZE7+qgDdf1K+cceaK9+Xkm0+meEbVwrpqH5VXF7N7mJxBJxLzeJAgOYTCLhU0YfR7kd0ME7PoUuTdIfM2rnxKvtPmj7M6SnFV6MSrZ6JRas3M9QHsv8OF5a87ydVzkmOxch6ULZtmp1TPoihccZhiU7CHhCIfJEuOVAWAbYZNfJg99KPxs5OWvG4fSpDQQcBjei3QE2QnEUGo22glgaHia6F4nUUDc0ufYOLl6l+qByIxEqzoTGKfAJN9D/Pppk34F8NQwuCemtIG8ZiIxv3scC67dg24hsIcAJW+w3URtsjcRdhGoUjBoJOMuAJzRa+Ac9QyJo6H92+uBShfsn2WqzC67ZczQHaOtDJV/BGRirCh1vVyMalXnWTPRFPRTVVmRHTPG0Pw32I7hoCgWmiDknBnHjdEAdSDyIej+5DHbcT7li4JWQzSWqlOnbZ8qxRH8UCaHfn8OSBtfGu6+aBSd3gtUgz5CUI36jKAX/XSiDx+s0nL6T1bh89vSAaeS39ti0/+/LEXvHbAKm+veMz5J06v3TZ/JKbl+obeGBa/ZRbaeZzAxm+bNLzvN6tA6PHzQtuC2fze7fqaxly11oLCffHSUB6WLIsXXtqKxnheVUwO4zsn8RFcsk6T702j5lezYzP8a+qK5V9s0rOGQGY0yS8Za3ozKjNutsz4XjnHTwv+0UjJlVXLZLVfRW/XZtSzRLrFjMkYpZYXaPcMEA/HmYBKCVjksmEPLKD2ZnSRcyTZiFJGakklP0ss/btbneu+YiF2eyryGA1G6jBwSRsC1nYMOaB8uKW6LwEIyGJsnspeTdTTkGwkuErxmT56hJUUdKr2ULgsXRk3WBGKtQqLvwFAYuArsnKu9DBtGqw8pr8yS/dCgJVkbdKu8rZ8evIA56BVnK7+VBzZXOmgWly7LxuPm4zdBwgMczJV/BGYQJvaLa/oraJYxItcwLsq76F9BHb8nOuW9CZEjmqHpgkLJnIMxKsY4YJ3gAi4lgct8Mi0UVp4hZ+zFQPckUdumxdCAHfyAOouhlI1MmmRZslSbJgXu1hF1hIWnOUffgLAvUR6Hz9Vl8+6g8lmmLV5l1/ZAgJAgki4PZbCTK9g0yNGjdUMZENg/SQrkq49XcJVW79lSly1EYCndqgOsfFrcI/t6c8O7Uo20MDqa6CAPTbKqDhFhBIIIHAU8YE5qEDTA48Xq3Lpu581MqqnH7wXxcnBAIBEIgk0Mk+vDNcXMjsayTNtl6Ab2wr/vWROPTb+ihH5AIEahBgT/sw7VwDUuDy5XwmsApxdTNpjH9XrZbhY83VsQoUA06AAAgE1vV1GJIOcHHWyswOw0PMgW8kMHC4agLQb6tGhxtBIBkEeLcK8ba6wmIDAvoJe+NidTHjLhAAARCoiwB8eC1M0lHjgVEtULi+fgh0n35bP2WHnIAACIAACIAACIAACIAACHQXAei37ipv5BYEQAAEQAAEQAAEQAAEQCC5BGLQb2+99VZy8w/LQQAEQAAEQAAEQAAEQAAEQCApBN56661yuby0tLRMPiv2p4d+JcGWK5VKuVyGfktKYcNOEAABEAABEAABEAABEACBRBOAfkt08cF4EAABEAABEAABEAABEACBLiIA/dZFhY2sggAIgAAIgAAIgAAIgAAIJJoA9Fuiiw/GgwAIgAAIgAAIgAAIgAAIdBEB6LcuKmxkFQRAAARAAARAAARAAARAINEEoN8SXXwwHgRAAARAAARAAARAAARAoIsIQL91UWEjqyAAAiAAAiAAAiAAAiAAAokmAP2W6OKD8SAAAiAAAiAAAiAAAiAAAl1EIAb9duPGjS4ChqyCAAiAAAiAAAiAAAiAAAiAQJsIxKDfrl+/3ibjkSwIgAAIgAAIgAAIgAAIgAAIdBGBGPQb5t+6qL4gqyAAAiAAAiAAAiAAAiAAAu0jEIN+w/xb+4oPKYMACIAACIAACIAACIAACHQRgRj0G+bfuqi+IKsgAAIgAAIgAAIgAAIgAALtIxCDfltcXGyS/TfxAYFGCLz99tuNBEdYEAABEACBJhKAT24iXEQNAiCQBAJNkkhvvvlmuVxeWlpaJp8V+9NDv5Jgy5VKpVwuN2/9ZBkfEGiEgHga0cgdCAsCIAACINAsAvDJzSKLeEEABBJCoHP1W/Pm35qUZ0QLAiAAAiAAAiAAAiAAAiAAAkkk0NHzb0kECptBAARAAARAAARAAARAAARAoEkEYtBvmH9rUtkgWhAAARAAARAAARAAARAAARCgBGLQb817/40aimMQAAEQAAEQAAEQAAEQAAEQ6HICMeg3zL91eR1C9kEABEAABEAABEAABEAABFpDIAb9hvm31hQVUgEBEAABEAABEAABEAABEOhyAjHoN8y/dXkdQvZBAARAAARAAARAAARAAARaQyAG/Yb5t9YUFVIBARAAARAAARAAARAAARDocgIx6DfMv3V5HUL2QQAEQAAEQAAEQAAEQAAEWkMgBv2G+bfWFBVSAQEQAAEQAAEQAAEQAAEQ6HICMeg3zL91eR1C9kEABEAABEAABEAABEAABFpDIAb9hvm31hQVUgEBEAABEAABEAABEAABEOhyAjHoN8y/dXkdQvZBAARAAARAAARAAARAAARaQ2BhYaFcLi8tLS2Tz4r96aFfSbDlSqVSLpcx/9aaokIqIAACIAACIAACIAACIAACXU4gBv2G+bcur0PIPgiAAAiAAAiAAAiAAAiAQGsIxKDfMP/WmqJCKiAAAiAAAiAAAiAAAiAAAl1OIAb9hvm3Lq9DyD4IgAAIgAAIgAAIgAAIgEBrCMSg3zD/1pqiQiogAAIgAAIgAAIgAAIgAAJdTiAG/Yb5ty6vQ8g+CIAACIAACIAACIAACIBAawjEoN8w/9aaokIqIAACIAACIAACIAACIAACXU4gBv2G+bcur0PIPiUwN57xtuXn6KmWHxeGPW+40PJkkSAIgAAIdByBhPnky/mM51XrREpzp8/MlToNc02zO81g2AMCCScQg35r8vxbIevZn950/+6xyZfmm+6/hD+yE1ffMvnLCS/5rjSfCRsv6yqbE6yKZcZtzcVL3z1ZB7SWjBVYo6hiWyfrt9nxfs/rPXC2DpTRQeafGfC83uyJhegguAICIJAAAvDJbiHVEELzk7vYMKT/CbvDcmNp0Xfjz2uY3Vx70CM0ly9i70gCMei3Js+/Sf2WSqfTt7B/vRuUhvpIfrYuDVeanRob3N6bO9FgCbw6MchTZOmmeKIpaUP6lsGJVxuMDcE7gQCXalm7JjDF5QUmrFjI1aj0Nug31nFapjak3+bP5HO7+nasfTRw9XR+ZKBvZ9W5x8t5pt7un6laF+ppsHwQk8pOQ8FVRYmLINDpBOCTnRKqIYRKhZG056VzJ+sa/Thxx/yV+vMaZldNeXH26COD/b0599Fq1Zvsi+gRbB741gUEYtBvLZl/o8PT0vyZ/EAvG3Kn7qln/DaX38YCO6P2hgpXDPGrzHg0FBsCt49AcOZKVg9nXi78qXAddrdEv9l2rE2/8ZxWm82zE4v+xsdh1Zb9+KWjezzPG5i8Gh0Ju1Jfg315rM/z+h6ZrR4XroIACHQ2Afhku3zWIoTsmJr8zfbnazFb3BtcGtNQBtAjNIQLgZNPIAb91pL5N6rfOPVLh/ikSd/YyzULob7hYNVooN+q4knQRV4Z6PtpvOfIDjuzbTzYql4hg36LXNYzPzkQnOcMqTt1Ntj5iY94XurA6UpIFDgFAiCQEALwyXZBrUUI2TE195vjz9didiz6zUeP0NwCR+ydRiAG/dby+TfBsHR0N5tVyzzGH8AXZyZGBjJ8Us7zvN7tuWnxjF/MCbCA8sPn0Epzx8YGt8tFkV6qb+/4TPV1WI5+K03tZdFRGSDnFlIHzvhiQiN7wp8/nusXCy97+3PH52nZL7wwkd0uze3dujd/tnr69FYcr4kAL0ryOIDVkGzBt58BC1FnllnKRbyiDtFpWKnWZPfDonX0mz27ZcUTnBBmgWml4tHS5FgApiq1tVLqqNotp9FkMGkVu0gjMfhIABmDkqyh9XPheJZVZyOZSoVhdiLz2PNiilub4UxmihRLU4PONHjp8vTorj7RRLxUX+7YvB/aYIWd2/KzV49mbzFvMPJ3HlJrfJXO0MARCIBAOwjAJ1vUlbubW5jJ70lzp5rq25PXYxTRp8juQwWeLRZGxYhiQ2//A6f1eKJ0eXpsd78Z65h4RN+RyV+aPzrMUsmeEPNpdmexeJSNdYzPN5a6/lxZEmZ2tZgf20/6DXaoeufK/PQDA7J7SKX7R6bVni2luWOjA7erfuP23LQaW6FHMMWDoy4gEIN+e/vtt5sJSgx5VZMmKc0+Zl5bYh3AhvTAPbncSC67k7u83gMzFd//3mRuZK8QUX13s6uHTs6L4W/qQ4O5kVxuZDDDX6gbeEb5AJKEPuQdDPFrwqlpR+P7/uJRNjjlbk6418Hdg8KkwQ8JR2O2W1g4kWXSLb0jawxY644O2lQc1CDAuxmtnZQi4qpbayemIlSV44rC6B/RSymdw9VaJqNv9C39xmuCiseILm7giay2wRhM0/V9KWZM5Kwt8Lu0fuO3MpN0KuyMqIFGCvIshCQ3Xzg0khu4jfWZqQ/tZc3hmQu+70fXzwX50ETs9fISW8HobTs0W5kvfC6Xu5t981L9e1mtnmQR2Z/Cveyt+7x+cfQqn47zvMxu1jAHP5TqH58Lb7ByZJDN8oXQRhy+NJbWT3DstPANBEAgMQTgk2lRCXe3dXDwNo+NUu4ZSIt3/rfnZ/laA+HepT8XgdP9/b3cke7mgyLP0+MZFjjVP8h8cm5wK1dKuyb5WEfqt+ywvCV7wg8+mBYiLfWZ09RAcez686pmV4n5wjO53D45Rhtgdh4qzPt+ZTa/nYs53jvIQR23nIs0z9uQ4Zka7E/1m83k0CMEywln1i+BN954o1wuLy0tLZPPiv3poV9JsOVKpVIul9uzflIMlNVyrPmXZtSzGd/3Zw8xP6UfzMs5CjJ+nZuh813H+Q6X0qmFF7Wr33z/9Gf4zIPatFC4OfE2jhw93zY6o14w5ns0qamVxQKbxWCjXpXWmQMsrt1HVXB1Hn+bQoDXBynAjBDiRSy3pmQlKFUTC2zEm7CHqCx+l6WduKJje3jwakAuse6NfA3PmrFHyLDMcDaj3wpg6QoLrWB+IGaeNN1mk2bZTVhUV5PH6vVzgT+n8PYeXRTboGUOXVIRcpWouKmT5u8c74+JVSL8PdMqSGmhKFpAoMGKkYHnpfdMkmbu+84CHhUR/oIACCSKAHVQxrl1qU9W7m7wWTWLtlDgT3zlO/zCY1v6zUtlj8vA80/uYLpHjWfmXphZ0CONyjQf6wxwASfdrJfeO3lZDT0qp/lYRPdTYpVT6FsqAX9e3ezqMct7Te/Ai95kyhdrI7302EtqfdNxVcFLCwuL6hg9giKBv91AIAb91q75twsPsXm2lNzLrjR3ZmJsJDuwVe0VaTYsCQwHfd8vXpgeH83t7k/fotZcmlmOkHLn3sQex/OXZb2PTPBHWWIsu2OCL9oU7lU/AGPRidk5Mfg+meMPwQL/VTUgxCacWi0BVkCCNus2VF/FuxDeKbIKI/UMDWCSCx9hiOtCvxXYnpYqZnkju0sJMBOXc8RsM9oyk7/M7hJdtYiZv11mDGC3B4wkkai0dZad9NRkndFvteqnePzZt509MZWrl0WcNfXbNs/besjsNyJakJfe8cDkBevXQAINlheN58n2RXLAkaq5UHIehyAAAkkiAJ9sSku4u9QBukuvGO0IL81YqU6BO3/PS4+Z9Q5iawA9nKgsXDiWHx0Z7Dd7d4uOSbrZHU9aK49mH2HLKORJIYfkIMcYyI/47dSf1zK7WszSw2v9JsRhYIzEcy3i8dI7Rp+1+w1mFnoEp5jwdT0TiEG/tWn+TXqfwamS7y8UhrkM6+0fHBnNf20iy1dQqgm3wHDwEtvE3PNSfbuyuUcmpv+AP6/S/i6suEP0m3wgxMeUtpuz3KuMjbsVod/EMHfn6PSxaevf8/X9GkKYeTjXGAFWBKwPI4pIbnvIOkjel8jKo0La8Rv5ZMfAQomqEvHKmayKpve142XfWIq8GzuRFSJTiTF2r1JZxgB2CzPY0orqFhM7OxNRw0V1VTGrRZvV6ufM6H/kPeuGXEE9t1WWR6Yid5Wk/b1PXhBlCzhHC0VhcKDBit7dvpcHRW9tihhHIJBgAsrT2h5VOb2u8snC3dnuWnQrkfqNBqa3q1WIqdsHsiNjE8dG+ViH6jeygELUnqsTLAzXbOJRnSPwVB3jXpr6ZJquDsR/m0d2LlViFvfK1SV6C+J09kl7jHRs+sJV36/MT4/IjQXY2tAHCmaCEfpNkcffbiAQg35ry/yb2kohW1j0fb7o2UuPshfe2McZ/zlf5cYnZnEC6zmqjDt5jNQNiUR8uVh8x5Pzws3tZUqSfcSAOKvn9+UI2/M8/vMmIrnwZ1oqavxtLgGhfwps1w0yeyNEDp86Uw8CWb9iSSNul5FP9miDXZRneCkbUWRnh3bG9hUhxtiEW2FYqTUh5CxLjAHsdusSO8EyQvIlz9A+nqQart+i6+cC34akt5c9MekfN9Npgbf1SBrsMLDeRl4vzb80PXY3f/4iLXQarGQSoj/FtLadUydVfAUBEEgCAfhkVUpCzNApNTWoEL/ZLQcYYnstEZj6dnJGvNbhfWJSLcRkkNXCEOFmg72b2Gtkx8RVsapo71G9OlEZyP8G/Hkts325x1tYzOJeV7+x3eAiP6X5C8fGxO9ImX4WPUIkL1xYhwRi0G+tnn+rlGaf3Su2KMme4H5JKCL9KEhOr8lVZ0bOSUGlRofyq5q7ox4wUNDhA26xi8musbFd1gZNwr166m1jMz24h7/hJibrPLOdCdsx4uTktN7XIZA6TsRNgNeB4axemijjZxUpm7XEj62URDgWTHZ7kfpN7T5iuhY7D0GJpa4z2zLj+axKQsqzcTkdx4PZVrHOz+qGg5GzMxE1XFRXsxKyev0Um470HpgpzRzgCi7vvP+mm6HKj/7L33cXr16wc/OXZs1z09I039FVyGanhUbrN7ytruHiAASSTQA+WZWfFDNkhCCHNPI9NOGx5QoREZj6dnJGjFs89Y6x3JhKdhbCzVodh7BA7DUy8MjYgOeF7lwigjn+XKxb8ejAxjbbV4+8Q2KWWc5Oq1f1Zu7nu76ZQZTvl2Ynnp3x/fnZl5Ua9f3SMd5v6Ed46BFUJcLfbiAQg35ryfybl0qn07ewf2IzR89L751S67bliNNL78yy/SRTvb08kFo/KSfE+IZFg9kn52Ye4A/7+f5F2Z3pNJ9JiBrdikoQrt/ULiZsLSbZoEm4177b+rxbBrJ8Yz2+2szskiS3M/G89K6s2HlP64FuqHOdkEfZsZkHfsIo8XhSTXyJc85MGu9ptCqrpt/UWkoZ+HI+q3a7IT8AEAKDx0n3tOSKbltGJxq43ZZzDc6/KRTpHfdkd/xBge3/M87XF4fUT/FE1hucYj2omIjztrPNWthH9sGsGWZ3jrKI7I+YptatkqXrbIy2+6jomUUL0g1WxkzHKDxmJ0I7NXwDARBIEgHliNTaB2l79/lk4UjTfX3CA++WawV775XL1evXb/4Lo3ysw7emvGeHGusIzRap33y51wjfBC56Bsx1v7XMZuUZFXNFlrK3dTC3OztxmT30Flu2yD5CbMLJdBoz29k8XPRH7JngM+wXRnUXk6TaD1tBoHECMei3lsy/cQXE/+u9pX/wkelZe05/4cxov3BUt+zNvzAjfo3KNOOF06NyE//UwFNzfmV2co/4WZFU/8j0vNh/MjA6pDBF10IG0Oqi3IPB2qBJutfjC4UHlOfdnpvWWzyxW0tzx3LmN1nS/dknySZRKm78bSIB0dm4hR7RpSllImqhqVd6tSQxlFUVEq0clGzLz9mRhNQlHQkPSQOISEi6rmCTqajfeWM1UD+S5NGyM8QqnRQ7YM2Bz2d7Xu8DYp/o8Po59wTXdSYegcsTq3qY8Htmr9zqunc0ZMNp/v6DftJROntoYKtotJ7Xmxl4YHpePXz1nQYbXlj811rZTphWbvAFBEAgkQTCm3n3+WTFYeaF/F72c5fsVX32E7XKPTag37hPlmOdD+Wmr4r9J2vpN9+Xe4TcNkbWxwfqlO3P9VO2KLPF/VExsyGceDafGpgQa5GKM/k9mV7x2wkbejO7RvkgqjTzOfJLv1sHRs0v66JHCJQRTqxrAjHotybPv3U2fvETWPbLQpZ77WzzYR0ItJCAeLNiUM6yrTFh/uikV24/u8a4cDsIgAAIgIAkcOEhsgtlJJXV+PP6Yo5MstoF9AjV6ODaOiQQg35r8vxbJ0OXP2c88KxaycmNhX7r5DKDbe0kwB8txyG6RNOLSQq2kwjSBgEQAIFOIiB/5NO8qxxpXKP+vP6YI5OMuoAeIYoMzq9bAjHot26cf7s8kd2dHRBrG/T7P6qSQL8pEvgLAi4B/nJd74Gz7vmGvvP3HMj7/Q3djMAgAAIgAAIBAnNPZgfFm2aeWRUfCGWdqNOfryJmK5laX9Aj1CKE6+uQQAz6rRvn38QK9Q297PU5tSpd1w7oN40CByAAAiAAAiAAAp1PQL5H3dufMy+VxWN182KOxz7EAgIJJBCDfuvG+bcEljRMBgEQAAEQAAEQAAEQAAEQSDqBGPRbN86/Jb3YYT8IgAAIgAAIgAAIgAAIgEACCcSg3zD/lsByh8kgAAIgAAIgAAIgAAIgAALJI/D666+Xy+WlpaVl8lmxPz30Kwm2XKlUyuUy5t+SV+ywGARAAARAAARAAARAAARAIIEEYtBvmH9LYLnDZBAAARAAARAAARAAARAAgeQRiEG/Yf4tecUOi0EABEAABEAABEAABEAABBJIIAb9hvm3BJY7TAYBEAABEAABEAABEAABEEgegRj0G+bfklfssBgEQAAEQAAEQAAEQAAEQCCBBGLQb5h/S2C5w2QQAAEQAAEQAAEQAAEQAIHkEYhBv2H+LXl0opJnAAAgAElEQVTFDotBAARAAARAAARAAARAAAQSSCAG/Yb5twSWO0wGARAAARAAARAAARAAARBIHoEY9Bvm35JX7LAYBEAABEAABEAABEAABEAggQRi0G+Yf0tgucNkEAABEAABEAABEAABEACB5BGIQb9h/i15xQ6LQQAEQAAEQAAEQAAEQAAEEkggBv2G+bcEljtMBgEQAAEQAAEQAAEQAAEQSB6BGPQb5t+SV+ywGARAAARAAARAAARAAARAIIEEYtBvb731VpMyfhMfEGiEwNtvv91IcIQFARAAARBoIgH45CbCRdQgAAJJINAkifSjH/2oXC4vLS0tk8+K/emhX0mw5UqlUi6Xm7d+sowPCDRC4K233mokOMKCAAiAAAg0kQB8chPhImoQAIEkEOhc/da8+bcm5RnRggAIgAAIgAAIgAAIgAAIgEASCXT0/FsSgcJmEAABEAABEAABEAABEAABEGgSgRj0G+bfmlQ2iBYEQAAEQAAEQAAEQAAEQAAEKIEY9Fvz3n+jhuIYBEAABEAABEAABEAABEAABLqcQAz6DfNvXV6HkH0QAAEQAAEQAAEQAAEQAIHWEIhBv2H+rTVFhVRAAARAAARAAARAAARAAAS6nEAM+g3zb11eh5B9EAABEAABEAABEAABEACB1hCIQb9h/q01RYVUQAAEQAAEQAAEQAAEQAAEupxADPoN829dXoeQfRAAARAAARAAARAAARAAgdYQiEG/Yf6tNUWFVEAABEAABEAABEAABEAABLqcQAz6DfNvXV6HkH0QAAEQAAEQAAEQAAEQAIHWEIhBv2H+rTVFhVRAAARAAARAAARAAARAAAS6nECxWCyXy0tLS8vks2J/euhXEmy5UqmUy2XMv3V5HUL2QQAEQAAEQAAEQAAEQAAEWkMgBv2G+bfWFBVSAQEQAAEQAAEQAAEQAAEQ6HICMeg3zL91eR1C9kEABEAABEAABEAABEAABFpDIAb9hvm31hQVUgEBEAABEAABEAABEAABEOhyAjHoN8y/dXkdQvZBAARAoDqB5eXlcrl8A5+WECiXy8vLy9VLBFdBAAQSRCARLhSep5U1Kgb9hvm3VhYY0gIBEACBZBG4ceNGEZ+WE7hx40ay6gmsBQEQCCWQLBcKzxNaiLGfjEG/Yf4t9lJBhCAAAiCwPggka+TRcpHV3AQxkFofjQi56GYCSXSh8DwtqLEx6DfMv7WgnJAECIAACCSOwPLycnMFCmKvRQALKRPXamAwCGgCyXWh8Dy6EJt0EIN+w/xbk8oG0SaCwNx4xtuWn2vE1sKw1+gt9Uff1MjrN6MFIVdBvgVWJTEJRtLLFkJML2Q9L3si5EKdp8rlci19gevNJVAul+ssrHUS7ETW8zL5y9G5uZxn1X0NtTo6at9vauTVEsa1dhKACw16sa7zPC2vgDHotybPv7EBRA133HJqSDDBBKJ6d+s8q3WZ8bpE2SpURFMlVs3IWYDwwXrCSrUGeQyk6i5Pa/BhcVurfrt+/XqwX8eZVhK4fv16pzd55nurPdLi9dM45BouzvLkYW3AquFhAdZyrmbkPECdnctaDMG9rSQAFxr0adevX8xvq9auW1lA6zKtGPRbk+ffoN/WZcVrX6aienfr/PrVbyyboTMt7SuR1aacTP22VkW0WlrV7sPgIzj4WDdnrl+/7vs+0zzDYTOs1epFq64xp8Q+EXNiYgywPvTbXH6byUir+K63dDqwMsOFBh0m9zyo8E1sfTHoN8y/NbF8EHXsBCydRmKPOk+ChB7WUBFh99R4fhx2S/3nqka+rpzpKsjXj7FpITtev1k5X6u1mH8LDmtafEboN76ur+qqQqvcW/uF+97MtgiFqa7WO2dV05PXnCJbS+6rR85sWyePz9YCaY33drp+s7LXvS5Ueh7Ueas+xPklBv2G+bc4CwRxNZtAVO8edb6WPatQEVUlVq30al2vFjkbW3TqGK5WvoLXV0E+GEnLz6y1O2+GwYxk+LByrdaG6bfzB7eK6Rbx/5aDL9avaKaG9K37puhtU/v0hSHrAg0Uy/FzQ56nkmDH5rPl0fOxpFAsFs8/usXbejCW6OQoyu/gZzfC946HvrcmzM7Xv6Ddr+nJq0usNTawqpF3oPBYY3bbcnsHYmytCy0WXzy4xTgez/McL8p9rO1AmEuRH+W+ankr4lTFneRG4vqi/J7yPGvtRNpSxxKRaJL1W3FmYmQg0yurZO/23PRVxrw0tZedsraUKB3d43le6sAZXihXp0d39aX4fal0f+7YXEmUFfP77BHgwgtjO1JODIkoTRhZB4Go3t06zzyO9biX98qyqm3LF8h4V6kIdov81FqnFJBY5F49jLbsEfliQxm9CIp3GDJBamogcsNEmcrOuMF4Bt14eEZkZylahzSPGmxMMsu0bFzkPUKeBcWJJmes9H2atSrvvqrsUGPIs21rIMXCZE/QmC0dG5kiiySTvyzNzvyfvxG0xyWpcyKJidwyw1hI+uF4ZS4kMW1VRKai4djxsGT4ajQC3HKJ2kp2wLOv0IVxk6GlkSqknaPQxW9R+k13+XxUQYYF1YYUfFBiyzYRvJFIqiVQ1zVXvynj+Yhq6Lm64qgZqAn6jZdydB2wKkSLv0hfx+q86xPCLgVanN1Y5C3RebBqOAtGm780IBAm4DPtRHVqYTeqi+wW2UwCwbhzMC1Lz5fa7Vr6B2ow9UgysB9hm+9zcat9EElOmcj+Wo5LGUwDiGOWBeIbxeviofe6JcKdEq2KLECoMTQj3BI7fnFXKCJZXiqv1DtF0VPMic/ULlrGo/2zi4PHqbJgFS4pdF9ub0MzSzsFaqROIMyFCv3maDbqVEL0m7xM3Re9I/o4xBexSFTq3O9pf06jUfqtsxdva9AJPPi3f/u3crm8tLS0TD4r9qeHfiXBliuVSrlcfvPNN5uZcdGAQ5oNazAb0gP35HIjuezONGtfvQdmKr6/eJQLOHLL4tFBLt9OV3z/Ur7f87wNmcGRXG4ku4PfN/DMPMuCcA27s1mh7ah/aWYOEXdLCbh9iUrcOs9qnRlJ8Iqhfavy/tJZO1/F/mPmXhU9/WuNP7iv1+FJL27boFy/MIMEk12CFUNE1S0MO5kibURUfnOj6XW4tZkMEaVz4xlNw8mvDGzHox6m8H5Rx3M5nw3fIaaQNbcLzaP6RQpRjLq2ZTKm4xf9rgoc6ETZPkgqRQugH50iH6NktmlQ1QrFss6qTn5hWFnFh1aGns4FyXIIUpPHSFNlPVTx8AxmMtv08ItZrsW/ZWqd+o3zJDHYgzC7jej4wwYfbGxh+nvW/SsJRDv/kGM2+RYqkNhz4jBdFxLH2k/RARA9Ltr5WltCIWOm1UaoR1G8g9P1UBdRBxyoxsLrsGUhq8bMY1jtjjsZteWv7T+V9tANNix3lmewPYyJzXZWLBpigwnGL9AdoezIreTZJZ07J37hu3RrNWKbMdmWyah2zSOs6gSquETFWVhFnBI1cy6/TRsplG0ETJadDPGNTAhH3EvQsaS4LyIrQVQpUzNs4Hx4pt2mEz4MURXvFElPOF6jh7lPy2zLaKfH0jUlaFlrVV2rDrDMSsv5eR0bx0XmCRpwoTX1W7SzsFxWdDByJeCLXEcXCCBv1p6HF5BqsBY2fFkTgRj0W7vWT86/NKMmznzfnz3E1uSkDpxlOE5/hikwPVYrTTH51vfIrGwwqez0gqJ2dWKH53npsQtav3nejodmFioqAP6uMwLcS6qncs5f3VHR/ob1BLouCRjUj3PHrW9k19lVq7t1CdIA9JiHM0k7l4wTtLoHdhPtPJy7SNpORkxCwubMcNYMLxgl2YuzCNUxic0csgBKlYUENtaSnszcXeuI3W7h1TcEyQfHWKrLZ0lrI1kMxiodnzqgKfJgtPQpaoe8up/9NYVFz7JjF0IwF4EStErKio+Y6sbDLadZdiyn8ViX+I2UGzsOxMYHyla5BMxmKdTUb5b0sscW1iU2JGhUv/GH0KKJ06VEUjHqpZhEPfJnyeIOozD5aMReSqRuoQazY/VMmt0SkXqxWGQh1ceSneQWz6PrJ0nqKmkJZMvBF/VdNHVuNP9Pj6J4IVpFRutAO4+ZtxGG2VXdVEXrPK1p7Fg5H5EFtyEEM2aiDfEDui3oAxmB4xItD0/Mo5E7SZMYXNfB7spmzfM146vry44s1rDAxjZ21TLbsS/0K7tdeQM7AM8p9Y32ZcvX0SJjrmNbNms/WgpJgsUfXl2dQg/JtalR0ijLAGooTcXNEReBtO/jAUJMtbtgu3NRAPm9Vl2tz8gwF1pNvxlfQZ2e9gfUZemT0X4vZC03C2y7muAZx/PYNZ/ix/FaCMSg39o1/+b7pbkzE2Mj2YGt6bSYMdOO5uWxPs/zPjLBp9XmJ3d5nrdj4qrvv8on31TXSf7yoSqrZEwDsmk6fNYrgYDTlBm1zps+z/bFMizvMKS8CXaK5CqLx3xU30n6EuXcDW3eZ4gRidVb2D26iipoPIncRMqPWAy07yG9YCHLekpjDM1URISib1OZU/aQOHXqGqa4JbxL1qHlgWiMKnpqtg5JjVQneRIh9EzWVEhtlToRmqJVBDykdYYlFz6CEbHZI0t+v2sJqS3CEjeAfOpEowozNUDDzWAgIZXx2oMPFpU18hAPKahJTiQq7rDBh9YbonSJILHHFka/UcEjq4QYQGgNpiqKp2f2eCpKHbGo9GhGDVbEVJ5JhZ9X83ssZi3hrNupkZZhdEwTnXpxakhZJV5iUSlat9BH2jR1dt5MV8rsCzvpLXpgViwWjX5jzw7qa32q+Fr0l9VnaRj1NqRKW5WZhAk2FrGORsbG67ypG9KNkCZMklB5NcYEEpUVPpholNtRcYq/TLeQWQhmBrFzuECMMUnwLJgJMRNjXU6A6USz6l7cYjdbEyE94og0uHAXRzDSW+WzHnWzvJclbR4IZsbnTE9BOFjxyGm6kLybe/kNQUROAFctk4f1wkxSMawGQmoaTykqy473s4KJomT/x+dCq+k30fajvAF/eERcblFEpdc1WH4vPCrmJ4MxUO8n3Y/xPAxISDnaxY1vDROIQb+1af5toTDMX33r7R8cGc1/bSLLV0Kqcd78xEeUZpufHNBajrcrL52dODY9bf27wJSe8G73TDdMETckiAArZctHS9ut88zbko7HDU87DNLpypjo1VAwplcQFVJ1deav7GKdrleawW4P+ZCrdJRgLGCxqQbCz+o+VQ0sVLfHQuo+W500EQkDrAAqxWBga06MvDGlbzfxiiPJRLl7/tUyW90QJG8NVqwbzXhI3U2KuEqK7JJT+qRQQq6q6NUUHy8olRd20bXEzYU0JlDAokpEm+rGwxOikKtUS+sST0IBZ9YGsqAGhQEb9RBNU4jSb1oaWYKESqNi0SgrOR5gYwulduQp8ScQUgxKyCCDPiG2dJrZKYRZopWVtYPI1BB93kyN1Mc0fjkkikjdMpxpNonCHhWR4ZedujUJaQ+2tDFWEgnTb+R5GW0ppLXSBQ5WXVWVzvLk6iT9S+4SrixQkQO+lNzi6BNzL2mhqvnQVPkAQ/lJfkG7WeWZWSo8ae2ZhTCw7lKT4XpATGwLOAHVVLVm44HDWrQ2VTR57fQs8joQO9DWmrNV7mWXOBb1EEHlMcxmHSN3tsJc8nvrTi8TiMHcZUqHHXE/LAkon0zoBXPEEqLwaWBtIz9orQuVoovkjngb3vyJA7HdQcBLRPs9eaMble2pWCDH+6kEod/sOhL/txj0W3vm314aY3otPcpeeGMf2WK13xS7mOx4cn7+GSbf9k7xPUpE042aYWMOxX1GEj9yxNheAlG9u3WedFrWeWk6ddaBzsNazRiaV9Ir6F4tNKCJivZYwRTpzSRyelq2ETqg10Ml816cEHKsmej+O/DycQAITZHaqZIPyyOLJLSt8YasRxtKBel2reJkf8M4sNtlHq2+NmiDLuKqKdooZOrMeNb9hxlADRTHwjVpnq4lgUjcACTGaqaGxkOLmwXQYz4SqSSpL4VwE1lQIx5+b1hB25HybzX1m1hnKFWZPbYIqLJG9BuLyvmoJ8QRow2WnPMRU3ZO+P+fvfd5kePI9r79D+SiF7WrZS0MFhg/KtDChRYWzEbNXdwGwWsJgwp6MRS9MJqFEbMY9Jjx4HcWTTELNRdeI2bxYAkE7YWgvLi0N4I2zFgXXvO2FoIeMNyeuX1nevSr6lLdzpcTP8+JyMyu6s6srqz6FkKdPyJPnPhE5In4ZkRlcSfZ9qNPrBILVkgamzZ3rUtZRka/MVNizRLlHn6siM0FYkdQ9FeOolw7zKisCzskQopp5LK5uruVfGQBJ+tmEdayysRaeHTXyPTWlEyWlam7jhl3x8yGjRvuuCkIXaJvLip794kIuTJrO9TJiZBR4qywT9nrOzqjMTC22k1B3nlOG+S2sFB4ralWtXhST0JqIUfHeZgSWdgdKpd7ohpN/selJk84ImtHPODTB3l9nVointjbpC3loY2QIpluLRq4TaCuzXdSmM4KobmSyd34oehyJ2ScoVXpeXHPXhKaCuJh/LjKXugjT9TyRQmxc1YCJei3i5l/owaRJJe/3NMl128lcesnU/sWk+v37l3nSyJ376iVlp1Ncx29r/LHrQffKyvaZvZtf1bAuG7eCFAti17HOCiO806Lb+u0IhbHnYcI5VnFZ/2c7dWykqljOvrr/20i4ao9aP8y4/aQ/et1mjmi+86+X1WlO7BNsc4n7GbC3Mk395CSEjsloHMJ09u8s7+MEQJRMOW0oS2OOiWrknecfDua9WKzgoU5aiAvbJbmb1alBEnELq8+vk2JovYT+sMshac4nMgOZcQHRiqxGEA4y+JUNjeVNatZcYkzFG1kDT7YpBP19EyEyLHFufQbDTLCZ9JmXBGPP9SJ4Dm0HYREQyXuJN/mOfJtb4i2KBfvGEPBTRXM/glrDJ04Lnb8KIpqNrsBRPU22wNBiFC7bTGsF42ZhbjwjjDqLjPCuzLxFh5k7dKYDbLf3hxIjZGRqb+OG/dH1VbMn3Lv9jflGzLW+3yhRHRfh7mrO9FESLWdHxKFP2Eg0icZW3WAPBRhxNug4oi8iq/VBemH3/FjvY83nbFFxu3YjG9nhVCppoSxInqnK9L8ylXk7c0lkjnOKmt2A4pLhJNiJyuERkFJ3PG0E4oul0DGGZOSrTtwCd1GZIpFLZUoSmAu9ZHHLvARBcPOuQmUoN9mMv+WNFqt1rvu390dvSoySVq/6PY21tqNZlMJM/6cXr/FhL7R9umOA3X0pKt/caDx4Rq9uPI6TeOZq1SocjHCXYKNhSKQ12GL42K4oOKsbSTmSZtXKbpbYq/IL+g8DEjRz0UdZPBaMErMBJIyEfYEKXuXozAuay7bVfFyM7LcvtLm4/6gs9Szdi5B4J7ZtR2tTmzvqUHXHeffypBOKguiI/R3qEyp68VJRy3J/G52J+pM+CouyjEao+jr6RLxnjdn1mzsb3b7TvWJppU1gOBLdOxCbkdYDUkNkAJXo8r1BdQ+KVwWrPRXnMrlRgaZOFe73PMnXR5+dQ5Zgw/R/Qs9w5SVOh68VTJXrkRKj4Yl9CtzmeMSlosbo9AGHc9cn8kcptFP4gWYGAyxZPm5k6v2m3i6jHYpqS+dKbtNxi8RDnPpK0/wPTeKilqIbAQXuCdukMzZIdGY1d1nv0gWxE+1m/2EzhVQtPCiWGrnVXizV1aCTGlGyN5ZwrjLUm9QKeQ9QnNQ7CWxeo0lf6du/HxHzc45GaCycxFS3cj+aVoQEvODkvdTWXCqTN/yk+q3U64lV8X7KlWDDF6t6T3hnRp73EYJVEYWeMYjMLNM3fcFKqhq8gUhtGL9Zr1ydae/4HeWEFqmfsuPeyaKUDiysUgfUgHKLijIDZt+5p+Y+66fVTE2z0egBP02k/k31Wn6/+jWPfrubkdLsXdv9r/fpS/pBsFRv8UkuXTvRwHp6Gn/5mX3s3Ht1c+2zXssdehHOxO0Fm6Hatn1T6x04rgYLtgOw7S/9uY+7z9UJ2QHE8oeP8sy8Jti/GGXCLrWzQfudE00VtCGVD/kLvKdWWjcZ5ux4iUQY66kfJCREXz1naIyN6t9bCekEysCHpd1wYwGzIncG02PqFSqK/39/PGQIc+cEZ2EuDBz5OTGJfk5qjGHV2K2JFKXuqN+gxMI25tzWBEwpfCXqi3lvAElnn/nuhrZyWzDvp3wDJW39lQRN1ODtnkwZ8JHDMZ8nn5zRQtGBqRV9OeTRzRKEALMKxyuT8wSIJHSDDPED4W7IUiefrMSznrA1kOqMYo6fusRbduZPaHf9Isl7bCGv39SvEySSmE+nzzKXnV5+Ysfvr7FyXgsdKXNfTr9RpUVxhbeCC5wm+4IEZOpQYr4IBpzGOLcDaWXZEfWwpKJFk4nyaD/2BtBX6bvROGMOpF3h0bGee5xLFVZ8xzVLWbDqQnIbFdZY/edjJAmCARArAfqNnflFMBtEvrLaHQH0ddofUoqaWik8FrlNi9LHludRx5h5aN6lmR0tSm190xvMUoiOrHjkl71+s1JOCfjmTPCSV+YrBBaoN9YeDFVrcOFep7lKp82XKQyj67cSftEKV5a6SKPXkegr2B2ZFy2T46oSdsuw5cLW+cnUIJ+q3j+7Rxl/DN/C+U57OBSEJAEcjoMmWge96i3qHQMFw9Q5hHD+X3KGruc3+riWcgefMhuHnuVEjCjKLTYebi7SFlxtVayT7XtmErmsEjm6htCTeSpuM0vUl1PW5YS9FvF82/TlsilP3p4gx4PrP5R/YiAO4wNEDgvAfXMLH4ie16zM7m+4mC6JPqNiskfJM+k6uqYSX0HH5Vqqlka16OoJbkx5/4eqfYJGvTb3DeAqR2sbwhVkafaBj81zcW6oAT9Nnfzby+2uje6q++qud2rYmHbYtUdSjMjAoN1sUqERkJVPkOtulSV+r8Uw0S1sAcLQiZpqMPhcJZaBXnFBIbDYaW3/CTNAGk8ARU9KloEAf3mOS/KVn1D6HD4nL7WhAedlTXFEvTb3M2/qfiYrDQ7G9sH+CXuyprO8himTpF/EI/y637B9ZuOLVjNn98AgjMnJyexosCRWRI4OTkJKgW7i0oA+m3xara+IRSRp+rWWIJ+m7v5t6qZwT4IgAAIgMBkBOq7/meWKquivMxXUCarKaQCARCYQwJ1DKGIPDNoSCXot7mbf5sBNmQBAiAAAiAwGYE6jj8qElSzNIsh1GTNE6lAYN4J1CuEIvLMpj397W9/G41Gx8fHJ+zzs/y8w3dZspPxeDwajTD/NpuqQi4gAAIgUFMCx8fHw+HwDT4zITAcDo+Pj2vaVOA2CIBATKAWIRSRJ6646o6UoN8w/1Zd9cAyCIAACIAACIAACIAACIAACDgCJeg3zL85mtgAARAAARAAARAAARAAARAAgeoIlKDfMP9WXfXAMgiAAAiAAAiAAAiAAAiAAAg4AiXoN8y/OZrYAAEQAAEQAAEQAAEQAAEQAIHqCJSg3zD/Vl31wDIIgAAIgAAIgAAIgAAIgAAIOAIl6DfMvzma2AABEAABEAABEAABEAABEACB6giUoN8w/1Zd9cAyCIAACIAACIAACIAACIAACDgCJeg3zL85mtgAARAAARAAARAAARAAARAAgeoIlKDfMP9WXfXAMgiAAAiAAAiAAAiAAAiAAAg4AiXoN8y/OZrYAAEQAAEQAAEQAAEQAAEQAIHqCJSg3zD/Vl31wDIIgAAIgAAIgAAIgAAIgAAIOAIl6DfMvzma2AABEAABEAABEAABEAABEACB6ghAv1XHFpZBAARAAARAAARAAARAAARAoEwCf/3rX0ej0fHx8Qn7/Cw/7/BdluxkPB6PRqOjo6MyPWK2/gcfEJiGwKtXr6ZJjrQgAAIgAAIVEkBMrhAuTIMACNSBAJM1ZW6WoN+qWz85wgcEpiHw8uXLaZIjLQiAAAiAQIUEEJMrhAvTIAACdSBQpmhjtkrQb9XNvzE/sQkCIAACIAACIAACIAACIAACy06gBP1W3fzbslcOyg8CIAACIAACIAACIAACIAACjEAJ+g3zb4wnNkEABEAABEAABEAABEAABECgKgIl6DfMv1VVObALAiAAAiAAAiAAAiAAAiAAAoxACfoN82+MJzZBAARAAARAAARAAARAAARAoCoCJeg3zL9VVTmwCwIgAAIgAAIgAAIgAAIgAAKMQAn6DfNvjCc2QQAEQAAEQAAEQAAEQAAEQKAqAiXoN8y/VVU5sAsCIAACIAACIAACIAACIAACjEAJ+g3zb4wnNkEABEAABEAABEAABEAABECgKgIl6DfMv1VVObALAiAAAiAAAiAAAiAAAiAAAoxACfoN82+MJzZBAARAAARAAARAAARAAARAoCoCJeg3zL9VVTmwCwIgAAIgAAIgAAIgAAIgAAKMwMHBwWg0Oj4+PmGfn+XnHb7Lkp2Mx+PRaIT5N8YTmyAAAiAAAiAAAiAAAiAAAiBQFYES9Bvm36qqHNgFARAAARAAARAAARAAARAAAUagBP2G+TfGE5sgAAIgAAIgAAIgAAIgAAIgUBWBEvQb5t+qqhzYBQEQAAEQAAEQAAEQAAEQAAFGoAT9hvk3xhObIAACIAACIAACIAACIAACIFAVgRL0G+bfqqoc2AUBEAABEAABEAABEAABEAABRqAE/Yb5N8YTmyAAAiAAAiAAAiAAAiAAAiBQFYES9Bvm36qqHNgFARAAARAAARAAARAAARAAAUagBP22BPNvg26SJEl3oMEN93e+2x8yiAu8ub/ZTpKkvblvynj4bOc/jha4vCgaCIAACIAACJybwH7/SpKsm1HDua0tngEaVnWfLF65UCIQmBGBEvRbxfNvWjuRfvKfK32rJ2aDieu3gwfXyZHOH8p24aeta0mSfLR1kEZFbrY6N+49+PPB7EWj1G+7dxpU9t63s6NcX+cAACAASURBVMFefi6DdVKj/ReB5RI7WlV3s+6zKVOvsX3h6Dh1kC/6pMKzPuoqVXx5Nsuat5vyJuoKq3I57UJuBNsgAAIgkKZP1APSrG6dInbW8TpQE91KnQtSEWzbPVVkHmZBYNEJlKDfKp5/UwPiJGm0Wq137b9/3SpbPBXXs/ZBz78NBxutJGn1vi1ZTO19filJkpuPhm5w7IrcXLGD64/6eyVnW1zwVOq3/a2PkmTl2laof04xMk+nqSpDjUGjBzu5ej5fqZN2euZ8pqa5OqtQdD0dDx5wqgoNCivGGRPkq24HU0x1rRtgkYSL5fEEJpEEBEBgaQlo/RZH5jSts+wRcbXOBamoXWZ0TxPmdEH97ITeIRkIzIhACfptJvNvFzsoVAPWkob42RU73qGprcadnbEZdstpouHBd/3VJqm4xu3tWa5flPot2/d6HY0EDPWyoaI7W5EuTL1Q+8wqQkYHGRU/TVMxzji16KEFNe3mVCJ61lMBIgEIgIAgQPqt3V1vy16PktRZ9kwXVwWQpdjJ6J4mLDd6mQlBIdliEyhBv81k/m3R9Zt6AHnp8z3V2rRcjIr8/Eu1Cu7SvR9n1yYXT7/pWSmvdsqbfCNWbiZqdlVkBL8vkc86o4MM1Rclnm6cEY2oZC7l8fTlwBYIgMACE1D6rf9CdXxy/UIUbWpEYbq4WqOCleSq7DimMQr9Ng0tpF1YAnXWb+rBf3Klv3c4uHtVTU6tNDuf7fDpqeGL7bvX22b94Uqz/fmuqcmfdu59zI5/3N89ZHU83N/e6OirGu/ffPB8m7+/hGKHW5Z2ug/D/ce9jvIuaXS6/2dvm19u8hw+/DhJkmtbP+l91Y1lrEMbPrxBWbd/r2Vemv60fff6JfWVtKTR6vQe87eqDPcf3129rDNOkmb73vcms6MfH/SutvRVdNnGNr/s6Gn/5vvqpIK5K95fojok55jSnMn6YPjjlrmkcenmV9a3NE05xg+7DyVGhnvWm0zDUImY8tHk9WpVschQ61h9IkekBaZUoXTz0JcVSDuZbEDMRe6nASK3WSlc8owOkpXdJZtunBFaIOf5s4aMTF1O2AABEACBkIDRb+aLcG4yP2v+TfdBJhKftlg9J57bkKW7cmUrjLci4LNonHdcl4ifbW8O+PtLuBClZNQdMPekanXfoTC+OT4huDL2M2jwVffkpOxceH9hor0haUshOeR92cVcm5WYZ2HLqHrJ7v9WYzFb/7yjZLXJ/bffrjSXhBVtreMvCNSPwH/+53+ORqPj4+MT9vlZft7huyzZyXg8Ho1G//jHP6osN4tx9qY10UTdz0mr02km7Ru93g3zjobVrw60P0dPei19ybur3Y1e93q7uaFeBvW831HHGx+u9Ta6q++qnZXVB0Y+7fev6iOt1du97vVW0mwqGWTufB0mTB9zmg97mzqrpHW927u92lqxtvhrl/SbSz5+aL/apovMx8QG8N7vVRl1lNSlWGmvbfR6G91rqqi27EeDX5qiU74b3dXLzZ7K8ehJV0s6dXyto2Vc6+4urdtMh9/2jNIkMnS22aQUNnzrvtM6pvXblU5npXXtdq/7C51j885T5e14rxijKdLF/DE9h/revA3oqiptSdW6Hdttqw7GJkv3++uZr88ZdIWMCcYiCl2mhFMY3ZDFdmYuu0kAUXGc5+wCW0x2SJZFn8jqLNkl0aZqn6arjq+lI1nORGZwAARAAARSHSpNt6K6Vx/9aNeFTd3bWpFgRI47G5DMj+fufU426obBWflguzlaw6n9Uclsp2C0JYv50nOd2H8dmhckDPLSVe2eD6G6n2UZBQU97y7l3m5f8ZpHu2fhxJ2LKpqpBXX2StsmJl8Eh6BowldzbVBSvRv3UxwgbftmYJeQuJbAu1TajqtS+IEdEKgpgRL020zWT4r3l6z9m3qio0JDkjS635gpt4P79AbH5PoDEnDj3TukRRqr99mMENXS3r33KFVn0x0/GqyrpJ/ukIZ5dJNOv3fHTeQdPe4qmWM6FRWebLAr9uH1Q2Xr0t3vrTQ7fLCmtCGPd+rNJY0737kmpMbHLOi4EybuU+RSMbTR9V+G0yKwde9ZmqZPTdG3nrtL1Ybxp9l9Yicprcq6dv/AkVn9NyOA0+Hel1fIXRthdZ9ko6HtV760uex8Spwav6JJTovx7q4t+tEfTdHn4YXKRPJKt8uUBu8eFCzfb0W9haSq91QvyN5syTs5lUI1FV7v6igls3iNWdXA/AjGHC36412Vqeh4kGPcL5q2pJql/c9WsTTH9nQTVclFP0pJJsLFbGETBEBgqQmIQbaKLTaq8LCcEViygyqx5BcqtixIqqtE1OUO8G1eK3Q8CMssyIfxn1ygqaKsgqggLGIs9zYuZpye+3Xe7ZiGoMe4mZxYqWUZ6XxUI1k9jjYk+OhDLHGQr9gNEUVV5niSQafrjP/4AwILQqAE/TaT+TcR7Ax7FSkSrVj0If0NMX27PlXvuqfX8cvPX9TkW+OOXUmpzuoL1cHBL2lUaiey9LUq0NjYTaHBDYuLffi2R0m1nrRebN9ml5PONG8uYf7o7DKK/Ow3NMdFAkmXgiwFH+pgdn9FOkpJMpur/pvlT/qNWpBw/cFBFhkVT53AUIHbCUsKmklyw00bpsaU6rEyMI7FMlTp2ez3RJ3qvlZKHd9LSQg5rlJLYL077QY1KHogY0W1H5mvfucnM5WTITucZZlO0/EJjPuSMpv2oaZvX9Yl2VkqOKKkdMSOWqRB7IEACIBARCA/pLiBeGY0y//ubhz6WJSLgzOLwyxH4Scdj8Kain4UGGkj1AksR6GIMhI7O7qYQlvK+UnmE5Vx+o8N485QTEMXx3RncefCyxWezeAgK9dlm12hLLGoCDruPQ/qItilrst9B4EuzKg45gY2QaCuBErQbzOZfxMDRANbxVwRNPmRvPuWp/G1pkMhBQiKBeGo1581D/ZcgtgaP5LlQ2Bfz1PZN5doh3R2cZFV3EyStUdDswKk1d16vL0t/j07yC6CspzljzF1pb/PPbdkVBws1G+8S2P2g2IqewKjzeGi/vJOKP8X0lzpdNEStpgncJzo+Q7G/KJR1LtO0jH7vifIIneXwIaWKTEdP4d+y8wvzkuS1H2n45ZpAwdBAARAwBGg6Mr7OxVSlByifkTrItU9BdEsV7/pviwKv0aA0VmeHZ81CqOZ9TH7uIvV3k97QeAbT0BXSbHn7MTzV2Qv5OPzKGErpsH1j+pEZOfCUYRdjO73I/CStnE6vDYsKSs1mWV9itxV/kRZer3nGwProEsABxMgcMEEStBvFzz/xuOgvlH1ET3glnNfBFunyZx/U1N5OgCRRnKf1w/Vyj9z8+sEpiPhOer0/Ij2gc9QpeYdJLYfOqBfVPNvLtEmKK7J/oyOH32jlnE2uoPXvhTq9waco2ZDeyinENWpTCZ6/u3Gw6H2nM9npqme8bPhWwdKG4u1NRZVjWhRR07FGDo9633eCWVLnSyPdNVkdQNEz5IxzYztZtmiY8QwTOb78ryrwuNBWezpwCV1OMt4zuXWjPirGoltveZMMByhquetQlyPHRAAARCQBOIwqOJMe3Ofgonp4rOG+7nvzs1MbDONAyMLa3nhK/O4C6dBDFQ5ibjKClI4/8Y8se5mdxP+7Dm3YhpavxnsVAo7ANA58XKFnLM45PkXXkvpqCW47tVlHaYM6iLYzclPuR31tjmJcRgEakCgBP02p/Nv7rte9ttxtjZyv//WVF/cUhE5Sa58uade6UFfmDPvIJlev6lYnCRt9w2x1PwGgJ0VCd9con2kaCWG9ePh3h9vqteDuK+u7arlofxbfOnwx60H6iWT5rtnze42f6lmmqaOSfT9NxJ7Y52v/z5hejTQbzux4VtGwEL9loFRv3zFR2dbIRfzl3dCdq3gJKojq7dTJQjeX0IwLbeCEsbJNGTXhxVc608p2uElmV1pVsoAhTebtZXjMEM3WJ+k4Fm2cQwEQGAJCcT6zUwB0Xs1rH7LClOZaocAZiV2YOMYzuxkRUhl0S3Jc3Z4LnERlE33JGtS/cZt2ozo2uqEh/JTdlWcHt9WDolyUXcgHufFHGwpor90reOjz3JKZhnklT69kJk/ptcrjFiPk1dlmTkKb6MUOAACNSJQgn6byfybeH9J6921rb/YOSh+Y+vIYo/s/UG9ziRJGu+L908OvzXvpRTvn2z1BvqlHq8H9iWMnbWN3tqHjeRqR732cXr9lpo3oyRJo0NvyOw0Vjod9UYQHUSiN5folqPiWuKLrN6ekiRJ6+Yj/20+9yZJVQr1nkwXScd7fZrWo+/KXZLvn9zXr3hJ1Psw1RsmKdVHfS1W9/8Qvi2zc5Vkow3uKpS7jqRQvzntlzSyMV70TRJ1S6o4tqTknX3tmN8QC+vDApBBfrnqVHjf5l5cqbK2rTRIpnftM0ieMrQv81dtxtqkU6o4cV+V1dWpXFh3KC2He8qCnzMM/M9ctBmawD4IgAAIOALZg34Vl/iSdaEczKKJQAA4kzoA8oDs4rlag+MjGF2iLNtoqfP1j8PshfFx+qaFfR1XcNY6b+MqVyYUM3msFusVTej2nut+1nW7voQlbWmqzH4gF2WED8oV6TetPz0WYtvdzPwJATPOsdj1l9Z4j6nrhTS8p6EKrVxy5G1L4EifdLXZ/c2uf6lYdjMrCSPMgMDMCZSg32Yy/6bViPtfBV+p1ghddIR+zYz9BtrqfXo7I70dkX4XzvxyWtK4tPqZ+A209Kftnv5BuaRx6eP+7pEONGfQb2k6PuA/Jdf//kgFRxWk9JtL3rvn3oOpfdMjYFfUJEma73bWPt/ee23P279h6Xgpxke7mzfb+tcAkqR5eXXrP8xlR0+3uqZ0SdLsdO/vHtmZxjSlqwyXZqf3zcEePXR00VPHbtvz6X7F9k9kPThSiNEW4qL+qrJw5137sehdn6GrzB7m3YZwPu6VDRB3pfnRCJU162x0B6lTtTf3WefEUlLbtuRFtm5H147NjPegLkkwUDDHs1CwSzI2zZBC5yWB0Cl5JON6HAIBEAABS4CCRlZw03GGhcqgc3Qh2hqSf40yMSHRJ45jqUrphIR6eOcCqZgjEn2BcMxO+tnc+i9EXKULbfq4p2AxXxWBB9j1gepHsvjI4p5xz9Awakq5HwZwVuq2LFes38gLlp5L3MBBfS3vtjLKqEzFx523zlVuR6L2NRnbCVzCLgjUiUAJ+q3i+bc60ZzAVx1lGneemjfsZ7wlcgIrtUyie9Pgm4e1LEmO0/GwICdh8eG4d6f0T7qu+y++/GLPUncbqOKLdQi5gwAIgECtCVT6UKykbqsiwOhQKgILswtAoAT9VvH82wJA9kU4+kZ9oaxxZ2es31yy9jCaVfOpF2lrfLTNfmRvkUrGy1JGZyOe2jrjg3W5sMSdmKuN+R4KzBUqOAMCIAACkxCgbsXO3U2Sfro08xy0ybc6dHzTEUdqECiHQAn6DfNvBVUx2Gi2LtO373ob3dX39RfZ3DtICq5bgFODXrPVpm/f9Xq3V+2azK75kuEClC+7CGpdxzQTUIN1saiDuuqarj9Ufa1fpJTNB0dBAARAAARyCexvtvlKTrW0UvQRuVee7cQc67dqhevZcOEqEJgbAiXoN8y/FdTms/ur7ZZ9/8hKs329t/VUvyal4KLFOPVs67ovetJsr25s7Qbvw1yMgp6vFKp79iv0K3zOej4/cTUIgAAIgEDlBPiX36hncF/xqibnudRv6jlmlbOO1bCEVRCYJYES9Bvm32ZZYcgLBEAABEAABEAABEAABEBgaQmUoN/++c9/Li0+FBwEQAAEQAAEQAAEQAAEQAAEZkbg4OBgNBodHx+fsM/P8vMO32XJTsbj8Wg0wvrJmdUWMgIBEAABEAABEAABEAABEFhmAiXoN8y/LXMDQtlBAARAAARAAARAAARAAARmRqAE/Yb5t5nVFjICARAAARAAARAAARAAARBYZgIl6DfMvy1zA0LZQQAEQAAEQAAEQAAEQAAEZkagBP2G+beZ1RYyAgEQAAEQAAEQAAEQAAEQWGYCJeg3zL8tcwNC2UEABEAABEAABEAABEAABGZGoAT9hvm3mdUWMgIBEAABEAABEAABEAABEFhmAiXoN8y/LXMDQtlBAARAAARAAARAAARAAARmRqAE/Yb5t5nVFjICARAAARAAARAAARAAARBYZgIl6DfMvy1zA0LZQQAEQAAEQAAEQAAEQAAEZkagBP2G+beZ1RYyAgEQAAEQAAEQAAEQAAEQWGYCJeg3zL8tcwNC2UEABEAABEAABEAABEAABGZGoAT9hvm3mdUWMgIBEAABEAABEAABEAABEFhmAiXoN8y/LXMDQtlBAARAAARAAARAAARAAARmRuCvf/3raDQ6Pj4+YZ+f5ecdvsuSnYzH49FoVN382//gAwLTEHj16tU0yZEWBEAABECgQgKIyRXChWkQAIE6EKhI0ZWg36qbfxvhAwLTEHj58uU0yZEWBEAABECgQgKIyRXChWkQAIE6EJhf/Vbd/FtFZYZZEAABEAABEAABEAABEAABEKgjgbmef6sjUPgMAiAAAiAAAiAAAiAAAiAAAhURKEG/Yf6torqBWRAAARAAARAAARAAARAAARDgBErQb9V9/407im0QAAEQAAEQAAEQAAEQAAEQWHICJeg3zL8teRtC8UEABEAABEAABEAABEAABGZDoAT9hvm32VQVcgEBEAABEAABEAABEAABEFhyAiXoN8y/LXkbQvFBAARAAARAAARAAARAAARmQ6AE/Yb5t9lUFXIBARAAARAAARAAARAAARBYcgIl6DfMvy15G0LxQQAEQAAEQAAEQAAEQAAEZkOgBP2G+bfZVBVyAQEQAAEQAAEQAAEQAAEQWHICJeg3zL8teRtC8UEABEAABEAABEAABEAABGZDoAT99vLly9n4ilxAAARAAARAAARAAARAAARAYJkJ/O1vfxuNRsfHxyfs87P8vMN3WbKT8Xg8Go2wfnKZGxDKDgIgAAIgAAIgAAIgAAIgMDMCJeg3zL/NrLaQEQiAAAiAAAiAAAiAAAiAwDITKEG/Yf5tmRsQyg4CIAACIAACIAACIAACIDAzAiXoN8y/zay2kBEIgAAIgAAIgAAIgAAIgMAyEyhBv2H+bZkbUB3LfnJyMhqN3tb2MxqNTk5OJidf9/LOpqKmogqk56mUqVBP3s6Rsr4E6n5DTduk617e89z+k187FVUgnQTsVEjrG0+WxPMS9Bvm35akrSxGMd++fXu4EJ+3b99OUiMLU97ZVNokVIG0lLqYBPUkLRxp6k5gYW6oCZv0wpS3lDhwqpFJqALpqRh5gkmQ1j2qLIP/Jeg3zL8tQ0NZjDIuWJQ/NQovWHl5D1TddjFVIC2RfDHqxYg5KEUxgQW7oU5t0gtW3hKjQYGpYqpAWoAu71Qx0uJ7FmfnhEAJ+g3zb3NSl3CjmMDJyUleLKvv8YKFlAtZ3tnUVB5VIC2dfx7q4nsZZxeDwELeUAVNeiHLW3pMyDSYRxVIM3FNcjAP6WLElmUoRQn6DfNvtWgog/UkSZLuk9KcLd1gaZ7lGBqNRpMEtXqlGY1GOcVNF7K8s6mdPKpAWjr/PNR5rRrHF4nAQt5QBU16IctbekzINJhHFUgzcU1yMA/pIkUYUZYX/XbS7r8Qx2q9U4J+m8382/DFoL/eaTVIhCRJ0mi1V3+3O6w1+8B5alv6k93Cdj41hT+bBitdbpVuMOBR+u6bN28mCWr1SvPmzZs8UAtZ3tnUTh5VIC2dfx7qvFa9zMf3N9tJ0h0sEIKFvKEKmvRClrf0mJBpMI8qkGbimuRgHtIFCjCyKNBvJ+wzHo9Ho1H182/DvfurTaNtkkar1dI7V/r7snbqvef1W3Lp872wLK8f3rQEJtJvP+30N1Yv/cIjKl1ulW4wLHLZ+wsZ6AtC8EKWd5Ju6fxp8qgC6fnZBhbyUJd99xfbG3RLXZtQnFnO2dN9gH4LGs987hY0aQSQM1dZHlUgLR1pToCq5DDFtJmN5M+u304PzpXQOc1oDebf9v/QUcqltba5c+Bm3A53+79+uID6rXXpUpIkrXvPZM0NH5F808p1Iv32pEvQ2I1Rutwq3aAscfl7cx/of/ji8gdf/IlF469vJZ88YvsZm3m9Wpqmc1/ejOKUfuiH337wwW9/YGYf3UpuncL08DCPKpAykvFmyDaCH1+Si7r8+7/I4jx0z/PgQxGjKs7N/Q2FmJxxz57zUBQWwriRaR8xOROLORgOFc6FtIo7Pc8m9FsemUmOl6Dfqp1/M/NOze6To0nKU+M0Zv5t7ebHtD70zne8KAdbH9GX17q3SZRBv3E0k2/Pz1jhh99+kFz+gquKw8MfvricRGqNDkr5EcbwvF5tnvTbo1tJcutr7Tlt609muR59kiQT6KuQQs4+cY6sZcEPr8+jOjdNiCM9VNAU1LBRqXJ9Tcgt/7Ck5e2TS1GdCj8z88pDPfl9XUbKedBO8+BDGSynsTE3N9RhVlhATKZbFjE5M3BFB+NYp9pPZkyOLj7XAYrw8snvYWZ7DjOZh9gL/TZNvAzTlqDfKv3+28FXqzQw+fihm3gLS5Cm6fhg5/ObbbvCsnn5Zv+pE3v7/StJkrT7zw+2NzrqC2SNzsb2wThNnz/sfqgOrLRubu6aC/S01frg6Pv+zXfVkOjdm/3vj9L0aOfz1dYKHWl82Nv+yXtx9OOD3lX7vbxGq7Oxve98tdaGP27dfF9nfunmV9HaSG3M6Lfu9nd3KOk6+5qDOtX4dGc7fAfJ0e79bkcXfKXZ/ri/e5imqS6yct78R1+ZsNNlw737Ny8pXxJTNFuWIoxpmg73H/dMXg0qhXBmzDxJkubVL4P5Q5vHRf6d57FC1uhBRds/fUESxIifMP4e5s8Uzat+00XI1aVljhUIXdirqewzh2WCbV7HNjdNKB4r5HfYM9FvVHGZc8VZYwvOOg/1OSMFhbv1QaojsPvOmImxKizatQk6MPpwSYFXhVAegXX85JdI43YUQhrMfOTlsjgsmXoel+VDamwan+lL0XRElIUOsmvDr8axU0n3CWXa3rRrVgwZ7Wx4ofS2wr25uaEybh/EZH2fIibzeJW/HcfkafVbbCE/N38m76qzd3PnuuEpXrX7L8wo1AUcFbtMaDQHeTSmM+q9DxSX5AsgVDI7aWEecpnIRjHWHGH25eW8MMY3HjPtdIjIxVyj4+0XatRtXBcjcx7GeQgVI3BHgDtS1vZ//dd/jUaj4+Nj9rW2k5/l5x2+y9PN4Ptvup7WHjlJFBV8vNe/qtg2Omsbve71lga9+scDlVSjbHWuthofrvVuaAmXXPr0zlqStG/0ur/Q6RvdJyoL3atd6XQardXb3VUt4ZK1O59eSlrXuhtrbSXh3LrEoyddrZ5a17u9jTVjvXV3d6wyd9ZWWtduu7yad55GpUjT1LTm7mC8owTczYevTbK9zy/Rkso/Ow2mjx8N1inz1i+6vY1e74Z6+0nzzu74YPC7Xu9faBlm0ujc3Oj1Nh48s/qtfbWTEKjuNVvugc7lFIypXcWaUElvr7ZWmk1Vcn1f7f5K7RCinjrLW3NWYS/i2ByPFfJCMAXp3GGEiuAFw9+5KW9culz95nulc2/lKorDw8NcaWdyzaM6x0hPaSfnxllooJBnUUUUPoA4T5CgjuNKu81FlIrGdhyg+gWrx9wgwOaozvJrY/0mjdvRg417Kpjn9NyhjrIumYGI9UHrt3bbOxnrN4rx9vKgRMGuGWoYl+QgabBu3XZ5z2pjbm6o+PaJo5a/BRCTPYtptopCQWEMKXhSOTdNqKjBTAbpLBaKmuJZkZ7r7lcaqX1FiCg1jLdBRsZGipwsxKknbuJaPTC2UU4Fzyttu5vq0E3izz6ZEnkFJTG+uZipI6rejWM+D9RhcNZeZWUq7bzod61jgS+l7Jag3yqdf9P6jdVWWGqlbZLkan9PS6Y0NZqqcWeHjiiaSdK4va1n2I4erWmB19k082DmvY6/VPNdWnEl7S+fq4zGz+69p5I3uwN9/U9b1+hAp/+XNI3XdloVdO2+Uo+BtTTVeTV+tRsWg+u3NNWFsqp1l+Tce/f2rAbTNIZPuo0kaf/ez+Zp4+YqnTW7MTTJ5L17zzSoo226Pkl635Ivp2A0Jb105zs7sXloLlfOaMgWWpqmh0c2XUZBL+rQ9IH+0S2awFHPsQgVn8xxB5NwJaSa7lCNJpiRYJck8qqvb4VGeLwvjMJ5SuMM82/UE3zy6ND5z6dT3MFwMpAXivM59HYUCzmFSFcFa+0od/OR30/TcJwDYjkKy10cp1U/qu44R76d4QA/nUd12iZUhJSq1XwCFOqBt2XBp14dBHVSIo0HoFqm5ti5/MUPzppEx3KXFcEcDlalmmJygnybMpKm2Nk81OeMElEvLrtVG29tzxJ0z1HiWL+5eTDlqNJvYthBDrDw64ujxhBZ77AOfNBjC2FTPw82CzPkMIjsc1VG23bApPNm6cMxk3du1lvT3lD2vnY3Po857qCMrocyFvGwpletm1tEXoWYrB8d2vghvjOMmOwimIuiMib7KCqjqw6VvrMzrZGUW/jxDZU1bDEIoae7X1wuWJ5DZ4POxTleIInPFQVYnDF21BEbaekYj2NhLOJBTF8vLqcgKdamqfk3cUSkl0WJfeOBPcha7IbBOQrvlEDJuTCl9KDkvRL0W6Xff9Oqo/tNXrH31eRbQ85o7X15WX2FjKa5tLRgCVQVJsmam91Kv1FrXvTTVqqzJLn+QE/ekbpXk6et37j1gNq46la/7QWJyUttTVvQ1m6wxZ88r6BMxjHV6ertj7bIDbWcUgtCQ0P9htvgl+H9rvfZE1YxgNDXdv5g18+kw4c36AojwGgOk1Ei3xjGrJIyZ4YP6Tt7SXK52/92b2iFdFC+C98901iBiqUjIMVcApM44wAAIABJREFUE4tVPLXhlSK1j9GPbtnjapLHxVZxCTNF4ZQsuKt4fDXbRTG6YPg7bXltp6KH2uxZIHVRdpykBvFOOfzw21tf2BeuCA78EpJSjoMuUn6/Eo/1dQdpCJMp2yEJpCJ3M2LL1QxmVjOfeR7V0pAKjLxQNNZkeNn3905BmqXfTPuJ+OciVU3RNmbVHhzDyIhvqPm16R2w7cdfZbYC1KprV8Fkmv/cc1AXZCg6cflEEVVoIf3g1l4YdLoT6DduXI9I4iOBgjLOUV6huKJTgQ9ilKMv5eMe9QBYlkj1GnqcFBbf2he9g5xgNN7N9s+0N5TSb4jJWpHae0oEk0PE5CjGiAO53ZzAWFVMNrnrrkfkqJ85Bh2lUWh+eCB6gdMXklB2k3ZzOi5NE3Yz4xiLQj5qydjInzSdQb/ZoK3Nh2FTBnYZzjJ6AR5myZQzTiHUR8ggl2DXCg1KrxWHjMzSixL3StBvlc6/PfsNrfNrfLqTU+ZsWExaRAlU8xLdp1ZZXL/5ajP6zVWqqB5+ofNP29ftNU4QHwkuNF2+fmFJu/9CS6NVLShZuYxj1369vf1Y/Nt5zheCFv1+ALMWUVJe+QRZbvuzaZoe7fY/NitXk5XWzft7+QteXYFnvXG2sYJVC7rLVMNZCrtuXFsQQ9m4Vl5CUdWOkvUjNJ+L6Gv0DrMTnQ2Gv5zptOVVXYsrl8/00SdOMlH2uWqTuhZzubwkHvp742GBmBFzSh7xuUukwZJISTjM5MyrUstCGnSrud5SGc0o7TSk0+o3V9G8QoNJS15xtJ0zFODJMlDrMbcTpUGKggbMG/O02xSdWBi3X4QLRyc2sAf9sYqH/HL+mFZvy7PhKEQ+Y46c1/FWDX/UwziVIPBBDSzkuGdi/ZbhfzisMf1gppKM/K3swLQ3lG5LPlq64FAYDViTY5FHXiLvQZaMXcw2ixIUNOlpy0te2aDKewoZDfgtzHyUj7HkJfE9m18iB9nZlkcQkxWYGGlGTC5sZhkWgn6NtwHKVFaEqx+3IbNzh81GQUM9+x0faSQ9UAwjr32aFkZOGmpK8aMilZ2+C4Nk/NgrDHS8JJFvwWQguWpCbpCR3PXBUxbLdgquyLZ/4U6UuV2Cfqt0/i398Z76Ilenrxc0hmXXHWHmxBF9YUzILX2tQc/WlnBxwrdVel0TrBp0jqqF6cRsso6u0DNses4tsmaGEbaaRWmkY/oHA9q/uUfLPe3rW7Qz/glrkpiFmsKQ2tFZs+6fX6uTsyOnYdTW+ESimL6z2b/e2/m3nv7infk+oT0zD3+n7Ttzx50UNIOPfRRq3tblz5qhhoyzMqrmd5wmzBYlKAjB05ZXeuViPeUeftwjPRoD8Y9WBYHDcbcUJHB5ZXVIEp0fKxTWQk5ZfEbFCfKoloRUjbc4NrGelnCxj25aAbEYacZYwZY2SpyHNKxN8oLpLu+YH0BTHpF9m7H9W5QgD/U5IwYFNx5ms3puloXsnrMUGhm04TQ0Pt38m89W6TH3xDf0IRzZBJowLpHqQcx6iiuy+JQn2WcdmXaDdWfer9ltTXtD5Ta2wmhAQYN9EJOzMAYRxt67mSIhL4AU1kJxyJ3pMzX/8NQXM2gk1F58Mh/6VDs6e0yWEALmWXFSog6fn0ZnfXnUlswuOFnNb7dEcSmOYzy+hGejy+Pvv1ktp82EYTMn0KnEsfEgdLsENOJlGiFcHBFnystkt+Pxvz1T1t8S9Ful829perR9W31Pa+Xave/8z78ND3b077/lfnGL3uRRsX7L//7b6lfs+298GFFQo9R02NPQMTUR/XHtlSmu1LyZ030xj97DeTT4atusj9QZXf7SfT2OX6tbDz9yCkbjG/uG2/O+/lU+PVzY+9HPt+39jhRcNFAoq8We3U5pYwX54JYHRQqXWY9Lg+dkQVT1moTb8tsU5dkw2p8oXsI+bXkDr1w28sGtO2wG7n4o7/uSU7ulIAGz6Y3Yg/KIZ5VfC3SlvMra8n+psE6F+sNmK09UlIU0P3ci4x2jMp59rGCLFQ0LJByP9JQvDVp7SuaxBplfm+aKYFrP2lF/81Cf/T5XV0YSK1O9uEzC/pgut2pN26NobI9Exk+bK3P5RBvMVOhDOLKZQr/xRUE2S9UjZIXlMF97wSz+TntDZQkP1YzyowHda4jJ6otSPlZnPHPJv4tluCDc8ogPIPm1EF+lqk38lx8VKVleoJi2CVEuXph5B/JzLzMmy9wD5lGgznjVlrzEdxC+IHwrv1BFSM915zsJ5KxQ5JFTau5UIJ/CryVTOgqD/i1NcbDKPpIV6Mw7AuUp9QDLD9Fpt705UP+7rxrFi9uDq1h55GYcw+X58+6VoN+qnX+jF9fv9enXz/Sn0XpX/4q17U1fD3rmVYr8/ZOtnvm9uOj5YiCTzNe+7dPKSF9R/yrUiDC4f1+9zSRRb2V075/8yL5MJbI2+fxbal92kpgXsVBNa2eMnLPvSklWWqu3e+btl3aEoR9a6LdTdn9xl/1+gG8xwtopGIeDX+oXbTY6N3r0Gs+VTod+mEF/fY5uIfUGzl7vtn6x5SU1+enzmoetwkCvH7D5aTQVBLPiKZ2QAZ3FS+rJbN9AodN/Wcub0sddMrpadofMntosjNG6V2OjQE+6oLzGBylg6KB1XvhA7gVknGNOWGqAZlUeM6WPu2TasOyEeGYxCnnEjxXya0HZ88C5ebud74BK8ebNm2mR6q87spEiGWIcbM76L9VpwESfILftMEs1M0uemcpEmp9XPFbLRaomBjPbgHA/ZMt8E+nMjswuSJE3LPPt+ExbcfXJcYB6tLfulpdH/bFUOzpUlqPfxBvJKHLa8UToQ9z3qyLYp8LxOEl1bfZhH1l2Dutn0q4j29/s+heoFI6uzsR+iosKYpSWalHkCduebU6IyYqECCw6UCAm+7XiFx6TZagMuqHMNiwO0uX+YYQZitj+wt4K/m9g35/QW5XE3jguma+E2cClRJp/K2MYf/QA2yY2w3X3xshstWaDno48PKjKWGSseTGpArvfNXLxSjv6snQYnPVI3oZuysW+xXfQlWpQLAOR7px/rwT9VvH8myrjeLj3+O7qZS0hkmSl2bra7f+7fcnIcH/7s1Xzm2ZJ49L1u9sv3HSQbg2shkwV2vZxPv1G3/x6utW9ah1rdrr3d4/cCzzOp9/02lH26hSp39RPsm1vdPxvz13tbvkfvkv3vrqpf7Auad7dCbSfgqoHJb7pF2GkH9nb3ug09S/gvU+/iccu33+4Lt2gX8ybu095YwUr4cwzBa/Z7JhDnfjkkZi5olGs+uhX/4lRct6ghMKsjPiZITgOagS/oLyqG2DzPMpqUUbOeVUCN/di7NDBD774mn8tUPU6JjFtm0ukHTpvNKRPry5ib/uUo3+m3wpqgcojU0puhZJYPeulZdD+1rBtuQDpdPrNPFi1ZfWaTYt5c/zW13zmyiO69TVDquSZN0RbbMQmT5ievghpsLbTDn3UuNAZC0cMhTyLKiL/sbpFfsa/FJ18P2qN6IBsiyHq152yV2m9p9N2n6jYa5+OxcZP0Vo2f/prRyTaMh8B+C/pKR9OsUl2WL9mLbNCKQlnCtsdsPWTvGgFj8a51xVtF91QpmEHT44KQqW/QajQPsBqGaNAICYrDCKAICa7ziEvyjFEJcRk3zKpxYpYyh3wT1dZA7ax3blc1GsXhuWCKc1z3exxXFLm9HDRRCOxNFEP0enhkn2oxALXlf6+Cpg2rMVDnewjIq668hjfmH3hiU6nztpQ7y4NgjMdV47ZErnHcNx4Vh/kLZawVYJ+q3z+rYRiwgQIFOkZFw0vakMJITtW5k5MEoIpjrDnEbaqC8dGPI8F3VZ9oZOarJBRr8nO6c03/+/vgTSiUnSARJofl7CUUiuyE2azkmfA9hbAX0YgHuiwkxe0Oc8xCjE5vlvPewQx+bwE4+tJ3QkRaJJM0M29eXNB9/08ZzuPcTKPVwn6bRbzb3nu4zgITExgnscKOWsyJwrB+5vtzKdN813euB8q/0jmCKzogaV14f/7v/8XkFoYE/7NHEbQwSwJ7W1Cv00cwM6XMFyndD5rJV093zGKwq9dIOBaLGKyQ3GWDcTks1ArvoaekQXT1Kcs29H2EHvjMKbWJmQ8DY9TzsOREvQb5t/moSLhw6kEhsNhcRi86LM/fHFZRuGvb0Wjh9DH4dAtFQ4BzH15w7JUsf/Dbz+QzyYf3YqWoMT55lEF0pgVOxKyjeCztHYzD3XYmrE/FYEX/bZdCErXqaU+mY8kprJaeuK5v6EQk+2NWt7fKCyEcSMzq7xAMfdNKLM0ZR8MhwrnQlr6bV4fgzT5NodxMg9gCfoN8295cHF8rgicnJyUHTUv3t7JyUke5IUs72yI51EF0tL556HOa9U4PhkB+TWMrC9zTman2lQLeUMVNOmFLG/pMSHTYB5VIM3ENcnBPKTV3vNzat0EzBqJtzRNS9BvmH+b0wYJtyIC871cZ5KQK9Kcuv5hwcorCl/ZTjFVIC0RfDHq6PbFgQUksGA31KlNesHKW2I0KDBVTBVIC9DlnSpGuoCBZhGLVIJ+e/Xq1SKSQZkWk8DCxPoJ4+/ClDevHyr3+CRUgbQU5pOgXswYhFJJAgtzQ03YpBemvKXEgVONTEIVSE/FyBNMglTeo9ibRwKHh4ej0ej4+PiEfX6Wn3f4Lkt2Mh6PR6MR1k/OY8XCp3wCx8fHw+HwTW0/w+Hw+Pg4v3zhmbqXdzYVNRVVID1PpUyFOmzN2F9EAnW/oaZt0nUv73lu/8mvnYoqkE4CdiqkixhpFqpMJeg3zL8tVItAYUAABEAABEAABEAABEAABOaVQAn6DfNv81q58AsEQAAEQAAEQAAEQAAEQGChCJSg3zD/tlAtAoUBARAAARAAARAAARAAARCYVwIl6DfMv81r5cIvEAABEAABEAABEAABEACBhSJQgn7D/NtCtQgUBgRAAARAAARAAARAAARAYF4JlKDfMP82r5ULv0AABEAABEAABEAABEAABBaKQAn6DfNvC9UiUBgQAAEQAAEQAAEQAAEQAIF5JVCCfsP827xWLvwCARAAARAAARAAARAAARBYKAIl6DfMvy1Ui0BhQAAEQAAEQAAEQAAEQAAE5pVACfoN82/zWrnwCwRAAARAAARAAARAAARAYKEIlKDfMP+2UC0ChQEBEAABEAABEAABEAABEJhXAiXoN8y/zWvlwi8QAAEQAAEQAAEQAAEQAIGFIlCCfsP820K1CBQGBEAABEAABEAABEAABEBgXgn893//92g0Oj4+PmGfn+XnHb7Lkp2Mx+PRaFTd/Nv/4AMC0xB49erVNMmRFgRAAARAoEICiMkVwoVpEACBOhCoSACWoN+qm38b4QMC0xB4+fLlNMmRFgRAAARAoEICiMkVwoVpEACBOhCYX/1W3fxbRWWGWRAAARAAARAAARAAARAAARCoI4G5nn+rI1D4DAIgAAIgAAIgAAIgAAIgAAIVEShBv2H+raK6gVkQAAEQAAEQAAEQAAEQAAEQ4ARK0G/Vff+NO4ptEAABEAABEAABEAABEAABEFhyAiXoN8y/LXkbQvFBAARAAARAAARAAARAAARmQ6AE/Yb5t9lUFXIBARAAARAAARAAARAAARBYcgIl6DfMvy15G0LxQQAEQAAEQAAEQAAEQAAEZkOgBP2G+bfZVBVyAQEQAAEQAAEQAAEQAAEQWHICJeg3zL8teRtC8UEABEAABEAABEAABEAABGZDoAT9hvm32VQVcgEBEAABEAABEAABEAABEFhyAiXoN8y/LXkbQvFBAARAAARAAARAAARAAARmQ6AE/fb69evZ+IpcQAAEQAAEQAAEQAAEQAAEQGCZCfz9738fjUbHx8cn7POz/LzDd1myk/F4PBqNsH5ymRsQyg4CIAACIAACIAACIAACIDAzAiXoN8y/zay2kBEIgAAIgAAIgAAIgAAIgMAyEyhBv2H+bZkbEMoOAiAAAiAAAiAAAiAAAiAwMwIl6DfMv82stpARCIAACIAACIAACIAACIDAMhMoQb9h/m2ZGxDKDgIgAAIgAAIgAAIgAAIgMDMCJeg3zL/NrLaQEQiAAAiAAAiAAAiAAAiAwDITKEG/Yf5tmRsQyg4CIAACIAACIAACIAACIDAzAiXoN8y/zay2kBEIgAAIgAAIgAAIgAAIgMAyEyhBv2H+bZkbEMoOAiAAAiAAAiAAAiAAAiAwMwIl6DfMv82stpBRbQg86SZJu/+iNv4uoKMv+u2EPu3NfVE6dbz7RBy72J3BepKsDy7Wh8lz399sJ0m3Nu5OXjCkXGwCiMk59VuD+EN1R58gbs82Fu33rygnrvRNj5LjVQ7myg7PX49WWVFhWBAoQb9VPP82UDduNFzQd467kUShzr4zfDHor3daDR0rkkarvfq73eHZ7eHK+SNgY66p46SaoTPlYvVbNeGVOt3ztP9TvKL7LlQ+81eZuR7J0oluXp7KtVDmiVNg1mD8xGhwmHybJcEmCExDADFZ0zolNJ0SRqYhLtIWx5+Lv8d5Z5qmvOOboW9KvPGnbPleCbhspypvT2k2zANsLhaBEvTb3//+9yqZzEy/DffurzbtoL7RarX0znmGyFVyge0zEpBhN01VAyu9lnkulYRXcjt4GDkdEOkVdS0CQlVjhZTytcp2Oo9Z6tOMBD2l2JUFZ0ar25QwI+eLx0/VuXU2yxwm3z6bNVwFAimPloQDMZko0M01k5hcHH8u/B7ngo0aB3twOTvfol6DuxF4lXdHl+Vt2DAi3/IcwPEFI1CCfvvHP/5RJRQVyuPlOhTxzzf/IJ3e/0NHabfW2ubOgZtxO9zt//qhXH0lL8Ne7QiEY4U0Gj2UUaQ4lzKsehtkP5qU9qen3gq7hKkNTHxBpF4mvpIlPM1IUU954b1d5Hzx+IkVey42i9jOhYNwom4E4mgZHzl/maqwyb2qbUye8/gTKCWOfHaxKOo1CrziHlaxHXbWkW9VZAqbc0jgH//4x2g0Oj4+PmGfn+XnHb7Lkp2Mx+PRaLQI+u31w5uk3prdJ0dzWElwqUwCcS8ejadLyC7OpQSjzgSt5Sh3cWPYJbisSt8ohfZpRor69Qvv7SLn53z8FDSBIrZBUuyCwCQE4mgZ3SOTmDklTZzLKRdMdbrGMXnO40+BUppdLIp6jQKvpmo3Z0gcdtaRb2ewiUvqSGBB9Nvwxfbd65fM19Yal3qPD0xljA+2P1s1Jxqtzsb2vptbY9V18NUqybePH2adVOnGR7v3e6uX7frKZqf3jc0iHe4/vrv6vs38/d62O/OT96rR6vQeZ2bO/MDmDAjEvTgd4XNZespXTceK4/bry/qMWNli1/zoU0l3wHMR4ZWMd5+otTEmcbiYUPVJ9tzmgL4zzZfdp6lfgigsEzvqVLjPlEDZNxumCKT93LVqw+RHf7Q/5KeTiKaDZyndKV1jp/tM6SRAZl9ebia8VVk4HFUv6380XyK3HgeemMVX9qymoezbKnYFt40tM3d1kreEeLWqKg6vGqp0nowSKPcczGwCp+K1npq/iowpIVtDS7kUNy011ezQMLbKc3uCHdcZsnpPrvQH7P0lEVi6lrlnmdsCsFNJ94nDYk/j73IS4NFSE6AjvPHwO5EflzcUYjJrPzKsZfUjNnEcf/i6zWnu8dzqICNX+vsmkrR7/1e8eCorGvDIY9dbkbe2ooVvqjgywtgSpnqVjY1wommxNKZvtclsLtwmRfj/x7wZy6RTybhXyqJEobqJib3Nj+QBEN+5q35HnWU9AjkSZyoLjL0aE1gI/fbTAyW/kvaNXm+jt/Zho6PfODfe61+lW0wf7/6iRTvXHzh55epN359rj3Llmx7stq53exu93u1rylDzzlMyYLTfSntto9fbWOs0Ouatg8/7tCLTHO/qa1a/ijN3XmBjJgSCsYIKeV4DyF3VMOxw4UnXJ9Pf0HBjd3mVHSXbcbCIqmYg4kyJLEIBZvsAl5EiRJeYIyqBP2vSuwhuek0r+dpXrEu2o8pIaSpB9Kb6BnG9pi6gu1YWIdtnX7VEg7kRFFmQFKWjXGyH6hWstyu2gk5L7IrqkIpX5C4IpE+6rrwuJ2HW9JSuapjMVq3F1XjsfDFel53aUEwcB6W7rGOnNC3lrZeX+5tdHalU7r5GgmRBXeuzbmwtCCh6TMFKV7V6d57rO4hpeFlM7C0TAcRkXdsyNNHN5e8X84jQhZHioKHO2p7LPTjzPYVoXZT4Srvt81KRxO5OcY/nd5GqLCyLoMYLZYZyz77ysej7bzLg8NgosxusOzKCg4x10pqsmvgLb9JJAZAeKSrygmQQD7m3UWyUtRl9MdL7pnwWtSx7MVlc7NWdwELoN9X0k9vbtjKGR4ekxNTd0uh+45ZEHmx9lCRJ696fbUL7V90efmRjD7O/B892X3h1t/d7ejN541e7dsYj6X5jEw+Pjl7bqYZGd9tl/tPWNZX5M5sQfy+GgG4t9hGb7CDFd6OVe7nhT3VIplOh9iOCpm57dkzsw6vpg0Vifpa27VWGjuoJhHE6Yofs8ukaXd7trrt5M4rmpr9Xubi+n2zzfPXNYjvsuOBB/2Fm0rRXE/lsCmPzZWWUbtjb1vav7myQS7DLzOtN2VPGlCxAZ99a8BeeloUtizWl+uPuete1KNZCZCuKLBfhtY6Zv3IgIocRUVPhpePb3GbkjLTJmpC9invrcdkWJdoY95a2bbVqU8olkd5mgb/LRQAxmd0RIrbPJCbzO9o0PBYuprjHZatlAVB2iJQsUBrBrjBE7jEOfFf4xqONMuBSck+EabET+cAgBN2lDJJkxeUVbPMcJvTWLCHhnT73JO6s+dkAQrDLvcF2/QnUXL/pybQf712i4Xjr2mcPnvl3j+zryTc3UHcbLj666qN7L2EazJ1gG8MXO1uf97rX2y338wLqBtv73GR+948s87+oyTeXpd+QIxhmH5szIsAjGm1bhUPZC2mk/Aljum4qtj51bcZXyXei8PCakYUf3Iv4bnCEDqhnhKwVkXEjh+jy9QHrq5hjwgdlWh5hV+mMvVemQ+LdCeuuJvLZlMXl6/VblK9EZ/qqbtcJUW2KlZrbdtuBV2KXFbwwdyIQSg6Xgdmg2mEKuTtgjlFTMdAEzOz5txy8QYbMpvXAr2Zk1W1O+nwFAWY0g4BZa6TqiBXHXcRN8e24XHzQQ56zQZiy5t1zxrGxjAQQk3Wts9BknmSJW0bcL3EocLeYuCtNe4r6EdbOYlO6K9SRTViLA4L02XQWtoN08VMYUVmLI7HZwD3GwRUzeNgXl8JnoTp6G42Zab6Z4QMDnlnMbK/YVdy+mVEwfXeRt4WDhIyGIXwTuce5SI+wV28CddFvaw9pUot9vlGDKzvoOfim13E/2vbh3cGhfcCTtLr3t7cfi3/PfmJ21Oaz39CKyManO+EJu3/0pEtffVtpdm707m4+3LqtVlDq3McH2xs+885ng6OxmdxIWt0tmfX242dYQGmhXtBfPlYwIdXKCRUHfdfjtlRFq87AjcjZlI6InrZQPBeRgMKrfILgAy7vmayhoN9lgsGkcEdogyxTdqpE5INVeu6gtcvH1hldgupC3NxI3A04V92GMxw9W2Vn7EpO98vmdHnGx9YIXaoIsJ6SjsXFkZn4nlsdF7usOk7LXWWt3JNV5jMjy8o32qB24qqDV7Sv4kznyQ0byrTpLKoWRQauvOcIPt8cg+KxsS+Va71uw59jLV+OSDIqxaNWJGUZ+RiRmcfm8hGQzUzdrTYCqCaU0eQRk/ODRtbNnnkDmpYWxx9+b0bB01aNvtrf4zoy+FDGL6TtjBhuusKMs+wmCIrDd1kWPlbL1sJ7QH3GHmFZ0CY1wowPezwnOm7uhphzY0CCHCb2lvcd2oaP5BmdtcyRORbbCTzCbr0JzL9+e3ZPaaVg/LTzKcm11m/4asThwZ+37/2LesUIRQp9PzfufDdBDZkZvE7/eWZi7UPr7vfmrLoPfZyio8ODZ4/v6d+Poxte9zqNOzvjTIM4eHEE5FhBd1R29Jwf72SINDHUqKOsq3gu4to4MR3RnQSLvI6P7HfJlOw+3VQYndI9E13SfaKG5m7EHF8ovFJdr+hfvVfF82+n++yKojekJ8U9t+2r2m2LyBiTRoIcZO3QSdZxioWjp+auLev73alZkZ2paMPc5LU+kNOkAmasc4ihqyllPYsqnYhTMmeKmlZeSbOPu9abxVnRMGMgvh2XS4dBFbplMzZOSyysJNhcLgKuvbGGYe+IuFVbNjKCyds86yqei7g2TuxbZtadKBtz1j1irqJTNYjJWVHFM5n0HhdIqY74hbQt+hdKYPMlntnRVVV1UAV8l2dhrdnmkf1X1V3Uh1LarHr0NqLScTeEfsuYPTNmJvbWw7cO+AZpwHKYgW+uINTgc8SqtYu/tSYw//ot1VItaXa3aVaNPkdP76kfa7t070faPXi+R1Ne+jPcVr8EQK1291dqSu5qf8+f3dv6I31pLfocbd9WiVeu3fvOL8EcHuyo33+jmydJ2l9qdWdfi6I6mIO9H91X3NLhY5U5DcV27yh7nc09l9fwx60HVgG6g9iYNQHei+u86Yh+tCY7Zu5ZECLN0wHfN9vRhrmGgrvrJMS1haE59k1d64xnd1EqTPfN/A85oJL1zXSc9sjFdFco4dXZ9ZsSKlJSSp9dhmYj8CQuMr/AORkkC4zwS9Q27ymDkQQTFeFazciMP5BNns6rCt10AzVts8urgz/Mpisi52PjdIT30NaRoFz2sP47ZdPSFwVg1UGWO9mUQys9ADLDAuFPVC6OWqT0WQfG9Qn8v2QE4kZIRxCTA80jbsaioBHzVIHU9SNB8yJTwUCfWRB3bsE9rrJgz9mjQBEHNMpFv6u5SGawcESO813uG98OCih34zipzwu88hLx1M+kliGaeZU7iuAe8u0wrwzx96p7AAAgAElEQVQFKHyjaznMLPJt9eZqGbqjfHCg5gRqoN/So4FavEgSqtFqtew7/Fu/HGjlRK250VGvf+ytXVYz4Dce0il3oT57e7W1Ej7n9tU33OvT2030p9F612ZE98nBg39Rx1vXuhu9tcuNZlOJM9JpdK82Plyj91JurLVXKNnaI5W5XnKZmLPd6zSNyKKbzxlbMyXAeiabrwq4OiDSWTGmtO+qogDq+j8VfFmfF1ylds+i34QsJN1h3pVvJmcKOp52Wy+e1EV60qX3ifEuuaDfdZc4wUlHRIdBnVPuBJF20nXAgc+Wsf8rLNsyusupp+zq98fq4tt8WQcZuudt262gdxS7orcLnGe5ezdOyW6wnrSv6MWTOvtBN5HVIWEGbM2IxBbTmJCDA1ss44novP2LMePmIVATQFbFhe+f9IJcN3UXuIKWH4H1F5LPAjU5wzxXu/JeY8XE5jIRQEzWtS3ul/jpUnQ75waNIKydEpNVZGARXrnhAv7E97i6o61LGYGCSw7TulWJRPDMaPYy8ufqNx1XWYQhgDpwuVhH1jMam8lU++xiHfVN6/a9l0HVSBlpYrgroARIjiksgqTqFDK91QVhbkQdUFCEyDfKiAYAMhpnoMWhehOog35L0/Rwd2u9494b0ry8epf9ltrw6Zfsl9naq59tH7gJt8Pd/sftppJVyUqzff3uNnuNZFh14+He47ve1EqzdbXb/3f1hbWjnbtXlXBcad3c3N2ldwboeDfc/d1q20pKcsz/Llx69LR/0/9kHDmGH4ALmc9+P4h92gE6aGWbDr5ayLuDdjCqD7c392Us1r2CvcYsn7PRU4RX6rGKQrPTbGSs3X+hul7dKZKTTOcwdKoD5qdUV+q6k6w5Hzm2ZlrRBH3Vsxod5Ra6+Cxln2rHB7HP/gq/pbtJD1z3hRaeLWMwBDFiQI4qVH7WSZ+BXLpTNP+mrjHDF+OAxZjXDHg2els1Hl6nyqCtfUojYFp/vPOU3o57tEmJN8iS0w4VEXejIF/KmzUPVyOKgSVgs+Vng5Yv7gIixksd6DcrPj3nEIvNEH+XjABisq5w0VPMLibr+BPc5q4JTnGPs5iZEShYwJHGgw7RnTQbQTDku8I3Sp4dG3nR+DOsMKfoW3A+nIZVI2RkqN/IruqCTawzBZzQ29P1my+mireRbyb3LOAZRcah2hKoiX6rLV84DgLnI0AdkloF4TbOZ28WV9fI1VngQB45BGiI40dIOYlwGATmjICLb25jzhzMcGdOXSVJA5mRUV/nPITQek6A9bgc+q0e9QQvl5SAe7SW+Yh6PqE4n+fTPXg1JwRq1KTnhBjcmAcCLr7VqAE7n+cBoPcBM/CeRYlb0URfibZhao4IQL/NUWXAlaUnMOiKh5FqDYZcWTd/iOro8/xRXHiPXvTbvCWrASW+Xr/w1V7/AtYxvtXDZ8iMau4OqOJquM6f1RL029GRfwHj/BUQHoFAjQjQKhf+qcMAt44+16hJLIyr6mEEa9xYObkwVbvQBaljfJt3n5VyYy8AW+gGNMPCmRhbh2HDDKksblZHR0ej0ej4+PiEfX6Wn3f4Lkt2Mh6PR6MR9NviNg+UDARAAARAAARAAARAAARAYI4IQL/NUWXAFRAAARAAARAAARAAARAAARAoIAD9VgAHp0AABEAABEAABEAABEAABEBgjghAv81RZcAVEAABEAABEAABEAABEAABECggAP1WAAenQAAEQAAEQAAEQAAEQAAEQGCOCEC/zVFlwBUQAAEQAAEQAAEQAAEQAAEQKCAA/VYAB6dAAARAAARAAARAAARAAARAYI4IQL/NUWXAFRAAARAAARAAARAAARAAARAoIAD9VgAHp0AABEAABEAABEAABEAABEBgjghAv81RZcAVEAABEAABEAABEAABEAABECggAP1WAAenQAAEQAAEQAAEQAAEQAAEQGCOCEC/zVFlwBUQAAEQAAEQAAEQAAEQAAEQKCAA/VYAB6dAAARAAARAAARAAARAAARAYI4IlKDf/vnPf85RgeAKCIAACIAACIAACIAACIAACCwogX/+85+j0ej4+PiEfX6Wn3f4Lkt2Mh6PR6MR9NuCtg0UCwRAAARAAARAAARAAARAYL4IzLV++x98QGAaAq9evZomOdKCAAiAAAhUSAAxuUK4MA0CIFAHAhXJvrnWbyN8QGAaAi9fvpwmOdKCAAiAAAhUSAAxuUK4MA0CIFAHAsuo3yoqM8yCAAiAAAiAAAiAAAiAAAiAQB0JzPX8Wx2BwmcQAAEQAAEQAAEQAAEQAAEQqIgA9FtFYGEWBEAABEAABEAABEAABEAABEomAP1WMlCYAwEQAAEQAAEQAAEQAAEQAIGKCEC/VQQWZkEABEAABEAABEAABEAABECgZALQbyUDhTkQAAEQAAEQAAEQAAEQAAEQqIgA9FtFYGEWBEAABEAABEAABEAABEAABEomAP1WMlCYAwEQAAEQAAEQAAEQAAEQAIGKCEC/VQQWZkEABEAABEAABEAABEAABECgZALQbyUDhTkQAAEQAAEQAAEQAAEQAAEQqIhACfrt5cuXFTkHsyAAAiAAAiAAAiAAAiAAAiAAAo7Ay5cvR6PR8fHxCfv8LD/v8F2W7GQ8Ho9GI+g3RxMbIAACIAACIAACIAACIAACIFAdAei36tjCMgiAAAiAAAiAAAiAAAiAAAiUSQD6rUyasAUCIAACIAACIAACIAACIAAC1RGAfquOLSyDAAiAAAiAAAiAAAiAAAiAQJkEoN/KpAlbIAACIAACIAACIAACIAACIFAdAei36tjCMgiAAAiAAAiAAAiAAAiAAAiUSQD6rUyasAUCy0bg5ORkNBq9xWcmBEaj0cnJybK1MZQXBEBgcgK1iMkIZZNXKFKCQCYB6LdMLDgIAiBwOoG3b98e4jNzAm/fvj29bpACBEBg+QjUKyYjlC1fC0WJSyMA/VYaShgCgaUiUK+BwsxFVrUZYtyzVPcaCgsCkxCoY0xGKJukZpEGBGIC0G8xExwBARA4hcDJyUm1AgXWTyOAhZSntFGcBoFlIlDfmIxQtkztFGUtjQD0W2koF9XQ/mY7SZL25v6iFrDycr3ot5Ok+0TnM+guBMzRaHSavsD5agmMRqPKmy4yAIGFJICYXG1wms46QtlC3mQoVNUEaqPfhi8G/fVOq5HoT6PVXv3d7rBMPDSw5p9Gq9N7vD91Fk+UmcadXe7b2Bhf/eqAHT54cJ0yXHs0dSbMSOWbQr8d7T34bLXdVJxWmp31rd2jyh0oNwNVnO4gMkrHr/QrEamLOFZ48+bNdF00UpdN4M2bN1ErxgEQqB8BxORS6qy+MRmhrJQGACPLRqAW+m24d39VS4YkSRqtVkvvlDza1hKr0fmk19vorl42GXb+MOWQ/vXDNVI37f4L1pb+fK+lpeE6Fw6DHh1cfcA1HbtoTjaFflPqtPluq/WuldJXq9E8lRUeY4VS0NZ3rFC2jLowexj0lNKSYeTCCSAml1IF9Y3JCGWlNAAYWTYCJei3V69eVUpt/w8dpX1aa5s7B26m6nC3/+uHU0qrYje1fvO66+iREmJTq0Qzq8an2lT/1Gg0koTPy2lRd/nLvWK/Lvqs0G//Mdh+Yevg8IFWql8+v2gXp8kfY4VpaOWmre9Y4cL0VtkZY9CT2zpxolYEEJNLqa76xmSEslIaAIwsG4FXr16NRqPj4+MT9vlZft7huyzZyXg8Ho1G1eq31w9vknprdp9UvVAv1G+p1lfXp54ee/YbNdnmp9qUomvcvEmrJb0+PPhqlaYTfyUWWs5h+xP6Tfi3379CJbjzVByd8x2MFUqpoKyxwg9fXNazzPr/D7740+SS5dEtd+knj/hljz5xJ26JEzxRKdtf30oSmwVt+88Hv/2hlBwODw9/+O0HyeUvSjGHQU8pLRlGLpwAYnIpVZAVk1XA8ZEsCYPPn774IEmC+EYxynxsPDwl/AWRX+bCYmmQkbOKUFZKA4CRZSMw7/pNi5zk44d20ieqoPHR7v2eW+6YNDu9b+x6RPW9o+RKf+9wcPeqWg+50ux8tpMjBIV+Gx49619vJEmz9y3L+aftu9cv6a/gFX077ukdStO690w7q1dU3ni4o3Sdm5fbvk0xUr/WYrCut492P7/WMO+3GO4/vrd21S5TbFy6uem+a6aFU7v/4mh382Zrha5tvH+z/70tmf4O3vog/Wm796Hyd6XZ2dg+GHt6R99vdTWTJGlevtl/aq9N06On/Zvv26s+29nNe3/JTw+UAO0OXnuz87812VhBEzadmHl3C1H18ptKKr7Ylmqha67hKUUyambKoMrCi3xFTqQ0LKlt8ElglYa/ToYSkB2y3H2S6rakjqT6oHVJJ9NmTWLuM7eZplkEjEf0J2usQL2466HVIGCa7l/KNt21T2PEDQbOuhHqN+u8GuLc+vqsZuV10G+sEWETBIgAYrJqB1XE5NMeGGXpNxOxeDyUQSxvj561BWGcjNgHefl5Qb8hEIDAGQjMu37Tg9GiN3yo4Wzrere30evdvqZmvppmRkidSlqdTjNp3+j1btB7FOkLZ+IlIg4aRU/56dx5aqVgmqbP+7SOc6W9tkFfkNM5ZZsybyvp9P+ijCs1RSm1rjND9l0l8tYeKvFjirne1eJQjaTJn8aHa1SujbW2Emk2O6Pf1m5cShqdtY3u6rva8U5fL2XU+u1f19aShMjc6GizzfWBVmlHT7okZ1vXut64gTb8tqe/+aeyXus0kmaTrpaD+zQ92r13lTK1LjmM874xwVhBKqsX/a5+9+Yp+m3QZSpLVah9S4pQZVStGmbsCV3FjBiUQb66cn0y0+trqda+0rYvuqSr9zfZrhB+yo0rbV+tyqzdzSHA6vZU/XZIvbWVQHkdvjlOk2+ZAiljQHCKqXOc5uMVvn0odOk5MqBLod9YI8ImCBCBOBJqLnTcBLqciBTExvCZGmLyOQKOiIEThb0oXIeRMy/6Qb8hEIDAGQjUQ7/xIWlYyINnu+4bWWm693sSaWZRotZvSaP7jZlcOrh/jTRH9pJIGtEmSfj+kraZr1P9R6O77aapftoiW26STbg1fHiDbGnZufsrmlGj15loXae/Aqd9s55o/ZasXLvn58H2d/12mn6jvDPplTNJktx4cGSm1I4G60p2aXGoh/jJpbvf28lDLT61G68HJBOvfLnnpuO+U1ryxsNhunfvPaXK/s0K1+Hel7RIUuq38V5fibfO7/dsBqL887wzwVjBKSJZjlPGCjIx1a+drFN1bduwEk7mxxj4tpkrswqKWxPJButJe73bTqw4JK/0NiWz0278cr9Nzcw8PshIzMjQWeuwv5xvnarfRF8uhwLiFA0MptVvbLkOX4toFKNbisnUo3r0S+04WixEzviPvYQ7TNv2EbKSYH6ZKM/98PCQUtqPeA7NHE7E4iKWu83aAPngiz+5q3jufiCFQQ9vkNiuLwEWeUQhmH7LiUiIyQxYVkwu0G8uTvpFEz64mGjGg5I6yUJc/MQtDOwUdWXsio8oqwhlrBqxCQKTEqiJfvumqDzDFztbn/e619stu9jQDFK1RuIS6/mXJO/83AU3q0a0bsztJtwSNTH1FzX5Zsdm7K8dRnNLacq+2/aMXj1pfNC6job1Q/VylPbvzbtLtH5rfLojzBw+296827vRab2rp8Sc51q/yS+e6W/r6aJp/WbFobJpJCUNyr9Vr71kZTCbV/r7upj8JSvm4ajQbwd/pIWTbjZP+Dz3OxOMFTReq75ciSYZK2jylq2RQLn6Ta11dK2Rrs1uTlJ3tfsv/GgmGOJkyT+r9rVXJjtvwZUv9QXMIeCT5q6ftEVP/HfJoqGA7+bZaMBeqPt7P7awx90gQ6kaq47IlBNRVqTpgYXPRR23ow2y7BZ5isvJGTteEY7xIUh+7oePblmv1Nyjm1EUl/An0Dx3Ou5yV4LWSU1+CR9gYdDD2iM2a0wAMVm9ia2KmFyg33Qsoejk4iEPL+pplI2H+gRFRRsMRVA11/mQqw9QGmmBjlgLLDOEshrfvXD94gjMu37T7wIJhQ3jZZYCrjQ7N3p3Nx9u3WbvDtH6zY2P7eKKSfVbajQPjYmNFOxuPd7eFv+e2Ykq5pPL6PKXe/pCM+lhviK1+tXB4JfizR9av3W5TDUzZo1L17u9z7e2f61mDk1ZsobXvLBaRdhMtWcmiyepGqYnyS/uyoJsb//73pAbsQVSnavQb8pU696fbYpa/Z1grEDl0bjExKOXN7bAChcXaV6ARafsdBZ10l5lMZuUo6wym42uMiXtnnR167WJqSVYaxndvy6FTcDlYkZipt9yCHiHcvWbGwoIQcKl0eFh2M1PNf8WjAn4gIC2nWryAxfyxCkrsYLx0S0+mOBOum1u//AwXBQanPUjEjYqojR+EMPEmMxdQBAiM2MgpTLCoIe1R2zWmABi8gT6jeo3o1di1Z47/+aegSXR99MKFoe7GGjD2qNPhNKLwngU2GXoIzM5AROhjFUjNkFgUgLzrt/SH+9douhjv9kVlkvNbiWtu9+bE1psiPm3EvVb486OW3MYehLsa8dW731OU1X++3t6lmz93l2Smd2Btabjsh3ip6mVjmt/tOs1tSST+k28uF8n0L/GprdvbzOfzCRM71ur3z7aylCeWr/xGcs01RLaaYDUHmHesnzmf5NJJu6sVUT8mGWlZRXBkZNyXqQpvFx9+VPBa06kflOvCVFsswSV88Vao8WT7st4V/r7wqXIQlRSKqNpQlHilKlEl685mCEss8YKTLRQX027ZtZLDgWijp/kip0fs4MF9TdKKdcomnGJfaCbMzggI8FHT9kF6bmTbFuMWuh48LG5a13KThopy0yJ779R7uHHQsgFwulg0MPbKbZrTCCKVLosiMnqmVq0KEP377y7UbyyYrJ/jMVDB9sOgjY7IwOXjudhwGLPxWgdfPD+kiDAxs+/bG4IZTW+eeH6xRGYe/2WHm3f1u9CvHbvO//zb8ODHfX7bzQMTZK2UTL2e1nl6Dc7A3bnuzRN9etGks6m/7W24Y9bD6xujGtQz7A1aeUj/4VuZafVIvlG3zczn0i/GbllZ+Ts19uEfmMrGG3BL32u3NPxnYleM0uZ3KTXpRyo90bKn2Q4+vbB9l/sN/TYNwbTo4F61YmVDdbhOv+lNsPlqCpLlp5RJ+iJgMZuRZQru35YoHRsqN/YqWL9pqZkr/QHLhdnXWyQ/fZmv+sEpFZum2Y6TqWNihCOitTNwvRbMN3H1J3MO8u3rLFCMBRgIkQOBcJuXkw92S5d/Y1SRjNgPHk8XFBng/k3f0WQnjvJtymZnUDj294QbYn5Rv5Um5sqmP0T1hg6cVzsYNAjmil2akwAMdm+K1iqsnPH5BL1G8kzt7xCRCK7E4XroEfIdQahrMb3Lly/OALzr9/SdLjX/8g992m03m219NfBaCR68OBf1Cn1KsW1yw39ssRz6Df9/pKee3G/+5aXlUDmnZDd62oG7Ulu1elvuJFzZsRsUmqpFry5MdJv6e5nqpDqdZfdX7RaSghaU1rdtS69p52x759s9syr/LV+e+/SpZXW6u2ee/9k5w/mB8/3NvVPoqu3U2701ug3BszMkv21dHXq9mprpdm5SiXlgmdfvQam/Tvz+wi5COb1hBBX5KTi6atp0PWdKBdmGrt9GqrknPwFiOxT8mcGopGKUmJtvwwym5qSke22d5KcafMXSNrfD/DXKw9dxZmGZywoLcdeUiKZ5BHwtk/Vb0LPMKWkjgfLeHLlSjQgMNN6fD2kHTzkLs6R30bzyfUTZTZLxr6zJ0QXH4XQdmbu5Kr9Jp4uox3r+NKZsttk/BLuVsELXXgyDHp8c8RWzQnI+IOYTNUpmZwtJudKJhtJeHCzx/RfEQPVITrilxvI1LQXh2sV8ewl1Atkr7NAKKv57Qv3L4ZAHfRbmqbj4d7ju/5H3laaravd/r+rBYBHO/a33Vo3N3f1j5WdQ785oZjQL7z9cc+uX6TqoR9Gu2xfJdJsr362ve9m0OLqM9Nc9mWYNoH5RbtEfH8s1m/peO/Bx/q35hr00236/ZNm8K2FRLv/497WxySukqRx6eP+7qHNw6yv2D769q796YBO7zF3drj/uNexr3tptDrd+7vuVZa7mzfNj9ypH9Pbi37/re76jTCZKUpT3U7kKIJG25hzXsvZR6T6hFm+6N7TqCtFnQtOKR1ll5tG+s18q0GuzLQ16f9KMRb17sY3m4u9jhXT/DQc02/dJ8xnK+BPI2As5+k3A02+ZdF07frcJ4+oUxcLb7zCCcYE8YBAJVAiyuVk5VDelyvoEjV0cFdYZcWP33rE59aCsYsYuOTkbl86Qrl88kg8q6bL1efyFz98fcvJPIGFzttZvvwJSc4Hgx7byvF3IQiwYBU8Mcz/HUvEZF/1WTE5X7+5oGRik3ssJeMbnbUCLHjFrhdj0SUuJpuFCToPZocHssNDhDJfi9gCgYkJ1ES/TVye5Uho9duLnOIa/TbIOY3D80WA1LtQiTNwj2RkKPamyTZzrCA7ZexVSwCDnmkaLNKCwBQEEJOrDV7SOkLZFE0TSUHAEoB+syTq9Bf6rU61dYqvYnbulLTlnYZ+kyOIGu5h0FPe7QBLIMAIICbPNh4ilLHGh00QmJQA9NukpOYpHfTbPNXG+XyhB73+W23nszXF1efVb8PhcLZdPHILCQyHBau3p2gKSAoCIMAJICaHsabifYQy3vywDQITEihBv71+/XrCzJCsJALQbyWBvFAzNEqIXm8zK4/Oq99OTk4q7tNh/hQCJycns2otyAcEloIAYvIpQaea0whlS3F3oZBlE3j9+vVoNDo+Pj5hn5/l5x2+y5KdjMfj0WgE/VZ2pcAeCNSAAL4CV81gZiKrWHFUgzsELoLAbAnUMSYjlM22jSC3xSEA/bY4dYmSgMCMCdRxuDCRPJrvRBjxzLidIzsQqAuBesVkhLK6tCv4OYcEoN/msFLgEgjUhsDx8fFwOHyDz0wIDIfD4+Pj2jQOOAoCIDBzArWIyQhlM28XyHDRCEC/LVqNojwgAAIgAAIgAAIgAAIgAAKLSgD6bVFrFuUCARAAARAAARAAARAAARBYNALQb4tWoygPCIAACIAACIAACIAACIDAohKAflvUmkW5QAAEQAAEQAAEQAAEQAAEFo0A9Nui1SjKAwIgAAIgAAIgAAIgAAIgsKgEoN8WtWZRLhAAARAAARAAARAAARAAgUUjAP22aDWK8oAACIAACIAACIAACIAACCwqAei3Ra1ZlAsEQAAEQAAEQAAEQAAEQGDRCEC/LVqNojwgAAIgAAIgAAIgAAIgAAKLSgD6bVFrFuUCARAAARAAARAAARAAARBYNAIl6Lc3b94sGhWUBwRAAARAAARAAARAAARAAATmj8CbN29Go9Hx8fEJ+/wsP+/wXZbsZDwej0Yj6Lf5q1Z4BAIgAAIgAAIgAAIgAAIgsIAE5lq//Q8+IDANgVevXk2THGlBAARAAAQqJICYXCFcmAYBEKgDgYq041zrtxE+IDANgZcvX06THGlBAARAAAQqJICYXCFcmAYBEKgDgWXUbxWVGWZBAARAAARAAARAAARAAARAoI4E5nr+rY5A4TMIgAAIgAAIgAAIgAAIgAAIVEQA+q0isDALAiAAAiAAAiAAAiAAAiAAAiUTgH4rGSjMgQAIgAAIgAAIgAAIgAAIgEBFBKDfKgILsyAAAiAAAiAAAiAAAiAAAiBQMgHot5KBwhwIgAAIgAAIgAAIgAAIgAAIVEQA+q0isDALAiAAAiAAAiAAAiAAAiAAAiUTgH4rGSjMgQAIgAAIgAAIgAAIgAAIgEBFBKDfKgILsyAAAiAAAiAAAiAAAiAAAiBQMgHot5KBwhwIgAAIgAAIgAAIgAAIgAAIVESgBP329u3bipyDWRAAARAAARAAARAAARAAARAAAUfg7du3o9Ho+Pj4hH1+lp93+C5LdjIej0ejEfSbo4kNEAABEAABEAABEAABEAABEKiOAPRbdWxhGQRAAARAAARAAARAAARAAATKJAD9ViZN2AIBEAABEAABEAABEAABEACB6ghAv1XHFpZBAARAAARAAARAAARAAARAoEwC0G9l0oQtEAABEAABEAABEAABEAABEKiOAPRbdWxhGQRAAARAAARAAARAAARAAATKJAD9ViZN2AKBiyJwcnKiXwb7Fp95JTAajU5OTi6qhSBfEAABEAABEACBxSAA/bYY9YhSLDWBt2/fHuJTEwL4wZWlvldReBAAARAAARA4NwHot3MjhAEQuFACEG81EW7eTUi4C71jkDkIgAAIgAAI1JsA9Fu96w/eLzmBk5MTLwuwVR8CWEi55Hcuig8CIAACIAACZyYA/RajG3STJEm6g/jMPB950W8nSXKlv6+dHO7vfLc/nGeH4VsZBEajUX00Czz1BEajURn1DxsgAAIgAAIgAAJLR2D+9ZtWU0ly5cu9sayeJ0pnOcUiT55j7wz6zTpJws9+ynessExCvx08uE5udP5g1FzhlaecPPj3fvdqq6GK1Xh/9e43B6dcMMenB+tJkrT7LwIX9/tXkmS9FMGuWkI5pgIns3ffvHnjNQG26kPgG4pedXtIlN0GcRQEzkcgvyuniD3jnvR8RcHVIAACIDAbAvXRb7EayQ/652N3dv3WaLVa79p//7pVgniavCRCvw0HG60kafW+Pf8MnNI2DVWoppamzTLMTl6wclNS5bY3Zc1QQypnJE2jjRmKtzRNod/qI9mEp2/evJl9ayn3XoI1ECiHgO7K48icptBv5RCGFRAAgYUjUIJ+Gw7PLxIKuGo11WjQBNDqg59YyrnTb/HEDvO26k2h30rM7GD3m90jM/M53P31JdJwt7dLzGDGpvY321KtkUANFd3ZfKIqmHUbgH4Tqqg+O2/evEkvosGcrWnjKjZXnKkAABLASURBVBCokAB15e3uejteHAH9ViF2mAYBEKgzgeFwOBqNjo+PT9jnZ/l5h++yZCfj8Xg0Gs1Ev7W7v+wkSdK4vX3kcEO/ORRpqsaC1S810cyvP6jxGspUTsFRicqZfCNlOPOlPvOi376+lSS3HnH59KcvPkiSD377Az9W/jblm9z6uhzDP/z2Az3FnCQffPGnU2yyxEnyiSj64eEPX1xOkstfFBSe9Fta3rMDHgqwDQL1IqD0W/+FelYr1y9Av9WrJuEtCIDAzAjURr/1n+99eSVJErZ4L9ZvP23fvX7JfFOr1ek9Zi/wGB9sf7bqz21s+3PD/e2NTnOFRm6N928+eL4t3l9yuLu1bs4mK83O759l1Y2eJMyae7HTYnuHg7tX1QLElWbnsx2vQtN0+GL77vW2diBZabY/3zVZ/LRz72N2/OP+7iHL/HC3/7EpUPPq3Z3vxftLqNtLku4Tlf50H4b7j3sdvTyy0en+n71tfjnLc/dXlKic2SpmdsabbAouGEDretRjeCHq1CV2bJ8t0gJTjLy+LvuqjGSDcIawCM+y6zelEifXbyS68mQVScHTZZtWddLOI7pSKtVHn0yi39IL0fxF7QnnQGD2BIx+S1PVp5tuS7kR6TcKs/4jxd7sHUeOIAACIHBRBOqj316k6Z/v0eq95p1dvZwv0G/P+zRDt9Je2+j1NrrXWhTkV79SE0Xjvf5V2m3f6PU2et1fqHNmEmlfn0pWWqu3e93rraTZVEJGDd/Hu3fUTusXXbrweivn20183G86FyNytHZqdTpNlfsNekmkdyxNj570lDdJ8u5ql7JoNzfUizR0cZKk8eFab6O7+q66bMWuIH096Fm5tbbRW/uwkTSbJFytSMjQb/k+7G0SuSRJWte7vdurrRWLQMs/2zYPHt2kPB1/e7yGf6m+aJRATcjqNFVTTpoqgOYU03spzZms25d8ipIPusHiSTEWUcMOWzviOpFMDeipKqxXImnGzvzqt1Omr0o6TfptUtF1eHgodZfwoeCUSKd2SJ75OTeabcvQbz5BbOBQzb/JFphRvTgEAktAgGKgefrJA28afP9Nd6Zes6luNzOoLgEzFBEEQGDJCdRKv6Wpnv+59Bs1CaYGvlaxqPFxo+uXV/60dY0Uyb1nqR4TN7rfuEmvg62P1Lk/p8NHN2m0/N4dNyN29LirZvDUAFp3GJe/3LPN5OjQGbGH6K/Rb/z9JWv/pl6SoS0kPveD++RXotWj0YeN1fsuB2127957lKqz6Y4fDdZJPTU+3UnTdO9z9T2061sH9ptpe79TytB2Zhn6Lc+H1w8Vgkt3v7ffYzx8sEaZ2+k75dHRk64Sb91tPgfIGdRqW817dLvsm29EzNJTRaE61XKOTvlBQ045qaL5BKxqkPwq1RL4o2VliJI50ahNByOYnPzM4Vz9piamVDVyafHoFqkdmi9Sn0D5qFV/5hRflOjS01pFvlKQZIz/uFM+vVQ1ZP/W1z4XPm9G8kl8nLUM8VN0SK7kdEIrsp8Es21T6bdDjVcpNGV5am+NfgubTXFt4ywILCIBpt9MZ2ojJw/LGXE4O6guIiKUCQRAAAQkgZrpt9TMO7W/fG7WWpgx91/U5JsY/+md7iC1M2zR2e6TdPBLOmqm6QwaLcaUfjPaJmmv9wfPrbyRBNWevoQP320i1cFoGWkOPf/S/1Db0zukFT/aCr9OpovTuGNXUqpL9YV0UJeoceepzSX6/pvSAFaAFfvwbY8QyK+0bd+mY0xs7N4l9dbpP2c51nuT1TIVhHZZedU8m/1RAb14MlBZYekJMps0o92gPVAWoRFVNTJf/biBmQpzEvvZ+k2sKuSr+7SyMrJNrvFTsipjyohfruavrIQTl0vVpPQVGYz1m/u6mpA9fO0iN8VUqL19A80ZSTl++eGh0286XZZI83rSZsHn1iL7/oC9MG9Bpk+ZsWX0GzW8oJ2I+sUOCCw+AaHfdAA0NwXTb3GIFlF68SmhhCAAAiDACNRNv6Xp0Tdqfuxqf//P92jloZ4zMRKlu/V4e1v8e3agXhKQJK3u/eDU9rOf1OuJw4G7GNkffd+/qdcuJkny7s2tHzNVnL4kaxymHeMTO/yInkK0zxp9vfA0/qhzTM3tBMM+eUmGfpvGB3G5E4c3HmYW3jtYpy05P6bp+fG73XJVo2vKtbe4pGSBiS6X3lrSf0P9Jgcu2qpcrhnnJI5k6jdSKUyJMdFCYszPenGpw7e53AiPOwt6Ks8mDZPRWsVM/eYVHWkzI8akw9KyzWHSv9KTCfSbMcwoTZKVUsIEWau401RlZBL6TbRj7CwzgTAMquCsOiyv31SIDh516TcAnb44YpnZouwgAAILSqB++i1Njx7eoMHw6q/u+IksPf5u3NkJfuObqu3/b+/ueRs57jiO3xtgcYU6lSoCxEAKC3Aj3BvwdQZcxIELAVcEwlVxEaR06co4uLBKI91ddQlgQKmSxsC5CNwEkIsDLoALF5JAiPv8mMz8d2ZnH0iKOkoih98tpBW53J35zErkTzM7K2ln70//GmlDCSqfvHKCSfBSjx50PovXdfzzP0//qIcs7h2fBcP9vF9+6/Z9qb2b6oz0v6kRoVKjgy//7ZTETbNy2YDNpbK3xfmtk81iEW7fLMXE3YNz5O1c7ea3kf630WrZCD14ViE7Ab7342Dz5oH+Bxf18PvnNxVaekvTR2TTl84TTtSZl14Gj5tU5qQvtS9nVyaqmC3Nz/1E5+5BvdzJcqaLrxmm2KnLsqTULcn75rdOB2B7aLXbtttNRzgnMLc1nr/G+Ml5vxM8vnMCwz+D+j3r8Ot3bX4b/xPd+zO+c3JUGAEEdlZgG/NbXf/y3VP7ka4JFW/0SET3grE6/s/pdz+qln3zhb6i7cmLc5vu4vPTv6pwJEPjJh99ZZ8yk3no/Pb2/LxNdudfqWvSnM/o7Vlz2/zWjM/cd67Nk53Ovf5t/wtVbImdzt0Umqvj7BVcskETwBbnN3l2ooekysFloKaNf201fVrrvfH3fpxf07nBrDcQTp0S/d62kb0ON9MlcbvyRl7VPnST/jcnRMzNb2MBTL+uG4cuLswe3PS1nvxmf6XbmOSU/Mar3QK/b34bP2w/sPWOMv6i7qNOfuv8q6htWtYQ2BGBYX5r3poPDz8yQ2zkv5Z2QITI6Dev9v+MO8JFNRFAAIG63s78VtfvvmmmTLSJpZlgo5mwUc8VaRPI9ExPvjGZ7B2p2SnVFItmRorhRI5PjvRMIPpD1ffHMi9lO2vlb7/8yYbA9gSS/DZx5y85+M0np/81PWluz1U3TZ1/o6czUbcu6Mw/Gf+jmZeyM//kwcmZzJ/y1lzvp2atVLNT7j85akeTmoB3o/xWm+w32Tv69OTk06O9x0dHeo7m9n0xOFOlOfjspXv/9Lb627g2CGzqM0QncZ09az5Y2xUT+Ec/cKsduoFN/jXQGrYTV+pDm1Oit1nzD4Umv7lb9vcv6KP5Tbqt2nGSbXIw6Use6UQd9ZQ76tK8SD1uBz06/U5O95raT39qk35vm9qd85KLC13IJqq9+rw9hDnubb87wVJ1HvYqpYo6ng8HPY2LCqD3bOYs0X10lmjRy5znJL+p5jZnwjb+FlFmBNYgMJbfzMAZm9/Mm2kb4fTbbvvjGgrCLhBAAIFtEdjW/Fbncjs45497XU9/ePHZh2qeDbXsHz79s3OTN3W3NOdeah//5fVb07P2y+sTuTPbZO+D3794M5Uwpj+jv315/ORAd95NJnsHR89O34xOP6mHdjTHbb/pnrpuWlOnxeCRfrG/bW4xp+8L19zhbbL3Qac6da0uzPudLtrj/aPnr3/9efn93/SEmPrM7JUh/9W9A96LH6ed7ru6VtPGeJ/fbNOYFrRhTDTMw6PhTamOfBbXmdC80M6P4qYy80Kz0eHX73SEk6M4W6omG+n7Hc9vTToyO20D2IL8diF9a/Y1bfxzxxC2gwYlgMnmf3iltjF5polzdk82Fs7Nb8Nxku3Rncxzw1UVMmX5/JUKWt2Rje2z3SC3Un5TWPYoLe8NC6g20/ltPJPrX1G+ILAzAuP5rTtFWYPR/KtUfr/tn+idkaKiCCCAQCOw+fmNprp/AR0bJt35Le+/FFt3xDkRa9V6jOTAWn+UGeuomZvfVogSD75pN9fJXdpsGnzw0t1NAVR+W9MJs+oJxvYIIIAAAgggsNUC5Letbr47Kfz0b3q06fhkMHdyRG92qnrq3nc8jw7Pg52cPbPddx0tL/JbZ4hm07XldvTdTYJ62L2GYbiOs6VzMvADAggggAACCOyCAPltF1p5SR3Pnu8ffKiuvjt5fvxUxmRO9o+/Hx8qumRfu/70ypdknD3rjIrUYzXnDtEc6sZx/LA5ZD1Hd4doTtypHdez+w3cy9/V5ZYrNPSw6XkEAQQQQAABBHZTYA35LUmS3bTzptY/ffv00FzlN3m8f/jxyekPhLd7al59tZu5XmvB/eXmFKcsyw0MJxRpqUBZlnOalIcRQAABBBBAAIFFAoleiqIonaXqLo/cH53NyjzP5fWLjsBzCCBwlwJeDKFcmne82qC5ecBdnhXsGwEEEEAAAQR8FSC/+dqy1GuHBIhwWxTvCG879JtJVRFAAAEEELgDAfLbHaCySwTuXaAoijiOQ5YNFojjuCiKez81OCACCCCAAAIIeCVAfvOqOakMAggggAACCCCAAAIIeCxAfvO4cakaAggggAACCCCAAAIIeCVAfvOqOakMAggggAACCCCAAAIIeCxAfvO4cakaAggggAACCCCAAAIIeCVAfvOqOakMAggggAACCCCAAAIIeCxAfvO4cakaAggggAACCCCAAAIIeCVAfvOqOakMAggggAACCCCAAAIIeCxAfvO4cakaAggggAACCCCAAAIIeCVAfvOqOakMAggggAACCCCAAAIIeCxAfvO4cakaAggggAACCCCAAAIIeCWwhvyWpqlXJFQGAQQQQAABBBBAAAEEENhIgTRNkyQpiqJ0lqq7PHJ/dDYr8zxPkoT8tpEtS6EQQAABBBBAAAEEEEDANwHym28tSn0QQAABBBBAAAEEEEDAVwHym68tS70QQAABBBBAAAEEEEDANwHym28tSn0QQAABBBBAAAEEEEDAVwHym68tS70QQAABBBBAAAEEEEDAN4GV81tVVXYKE5m/JEkS31SoDwIIIIAAAggggAACCCCweQLD+we4k03Kemf+yV5+i/WyefWiRAgggAACCCCAAAIIIICAbwKSv9z7B6yW35IkiaLINxXqgwACCCCAAAIIIIAAAghsnkAURWma3j6/ZVkWBMHm1YsSIYAAAggggAACCCCAAAK+CcxmszzPb5nfiqLI83w2mxVF4RsM9UEAAQQQQAABBBBAAAEENkmgLEvJb3ZGkrIsVxg/KfktiqIsyzapXpQFAQQQQAABBBBAAAEEEPBNIMuyKIryPL9lfivLUqagZAilb6cG9UEAAQQQQAABBBBAAIENEwiCIEkSd/Dkav1vkt/yPA+CgC64DWtcioMAAggggAACCCCAAAL+CMjMI72L326Z39I0DYKgqip/eKgJAggggAACCCCAAAIIILAZAlVVBUGQpul68lue55FeNqN2lAIBBBBAAAEEEEAAAQQQ8EcgDEO58m1t+S3LsjAM4zj2B4maIIAAAggggAACCCCAAAIPLRDHcRiGuVlWvv6tqip3whOznzxNU8mFDKR86Cbm+AgggAACCCCAAAIIILD1AlVVRVEUhmGWZRK7loa3qqoeDW8pMC+/pWkqB0jTdOu1qAACCCCAAAIIIIAAAggg8EACMsIxiqI0TdeZ3+QucBIHU73EcRwEgcRE+uIeqLk5LAIIIIAAAggggAACCGyfQFVVMtVkEARxHPfC29L+t7qul/S/ufktyzKJcEmSRFEUBMFsNouiKI7jJEnSNJWvsg1fEUAAAQQQQAABBBBAAIEdF7BBSa5zm81mQRBIt5uEN7fz7Zb5rXcJ3GiEi80S6iVgQQABBBBAAAEEEEAAAQQQmCMguUlSlIS6TC/2yrel4U0GP470vw3zm41wcgzJ0EmSmBCnvss9BuQCOSkcXxFAAAEEEEAAAQQQQACB3RSw+UhGLNrk5oY36XwrzOJORDKcpuSm+a0sS9mhREOJcDKWMnEWKZBbStYRQAABBBBAAAEEEEAAgV0WkGvNnNiU2Dy1ILyVZTk3v9V1PfqcG/5MICzyPHePl2WZWxS77vbLsY4AAggggAACCCCAAAII7JqADUd2xV7wZiOVzVk3HDyp5i+5SX6zXXByAHs8WVlwSaItKysIIIAAAghspkAYhtfX19Pp9Orq6vLy8kIvl5eXV1dX0+n0+vo6DMPNLDmlQgABBBDYQIEF4ciNUXmezwtvCzrf/j/h5v8AzHqzWDhKyeEAAAAASUVORK5CYII=)"
      ],
      "metadata": {
        "id": "jGnMX1a93z1G"
      }
    },
    {
      "cell_type": "markdown",
      "source": [
        "#**File**\n",
        "This is the text-mode file object you get from open().\n",
        "\n",
        "when you say file = open(...) you create an instance of TextIOWrapper.\n",
        "\n",
        "It automatically decodes bytes (like UTF-8) into strings.\n",
        "\n",
        "When you do for line in file, you get strings.\n",
        "\n",
        "✅ file.buffer\n",
        "This gives you the underlying binary buffer object.\n",
        "\n",
        "It's a _io.BufferedReader in read mode.\n",
        "\n",
        "It works with raw bytes, not decoded text.\n",
        "\n",
        "When you do for line in file.buffer, you get byte strings like b\"Hello\\n\"."
      ],
      "metadata": {
        "id": "dzZgtYtPYIc1"
      }
    },
    {
      "cell_type": "markdown",
      "source": [
        "#**flush() : forces Writing buffer to disk**\n",
        "Python pushes the contents of memory (buffer) to the disk manually.\n",
        "\n",
        "This is optional — it also happens automatically at some points:\n",
        "\n",
        "when buffer is full\n",
        "\n",
        "when file is closed\n",
        "\n",
        "if buffering=1, when newline is written"
      ],
      "metadata": {
        "id": "SqWL4nPjaJnB"
      }
    },
    {
      "cell_type": "markdown",
      "source": [
        "#**Key Topics for Data Engineers with .txt Files**\n",
        "File Reading and Writing (including handling large files)\n",
        "\n",
        "String Manipulation and Text Processing\n",
        "\n",
        "Regular Expressions for pattern matching and extraction\n",
        "\n",
        "File I/O Performance (buffering, flushing, memory management)\n",
        "\n",
        "Delimited File Parsing (e.g., CSV-like text files)\n",
        "\n",
        "Error Handling and Context Management\n",
        "\n",
        "File Compression and decompression\n",
        "\n",
        "Directory and File Operations\n",
        "\n",
        "Data Transformation and Summarization\n",
        "\n",
        "Working with Large Datasets (chunked processing)\n"
      ],
      "metadata": {
        "id": "kOzp0PyGALni"
      }
    },
    {
      "cell_type": "markdown",
      "source": [
        "**Creating data**"
      ],
      "metadata": {
        "id": "CMcOVGPnHaXe"
      }
    },
    {
      "cell_type": "code",
      "source": [
        "import csv  # Import the csv module for working with CSV files.\n",
        "import os  # Import the os module for interacting with the operating system (e.g., creating directories).\n",
        "from random import choice, randint  # Import functions for random selection and integer generation.\n",
        "from datetime import datetime, timedelta  # Import classes for working with dates and times.\n",
        "\n",
        "# Create directories if they don't exist. 'exist_ok=True' prevents errors if the directory already exists.\n",
        "os.makedirs(\"data/raw\", exist_ok=True)\n",
        "\n",
        "# Sample data for complaint types, descriptors, cities, and zip codes.\n",
        "complaint_types = [\"Noise\", \"Blocked Driveway\", \"Illegal Parking\", \"Water Leak\", \"Street Condition\"]\n",
        "descriptors = {\n",
        "    \"Noise\": [\"Loud Music/Party\", \"Banging/Pounding\", \"Car/Truck Horn\"],\n",
        "    \"Blocked Driveway\": [\"No Access\", \"Partial Access\", \"Vehicle Blocking\"],\n",
        "    \"Illegal Parking\": [\"Double Parked\", \"In Front of Hydrant\", \"Blocking Driveway\"],\n",
        "    \"Water Leak\": [\"Hydrant Running\", \"Broken Main\", \"Flooding\"],\n",
        "    \"Street Condition\": [\"Pothole\", \"Cracked Pavement\", \"Sinkhole\"]\n",
        "}\n",
        "cities = [\"BROOKLYN\", \"QUEENS\", \"MANHATTAN\", \"BRONX\", \"STATEN ISLAND\"]\n",
        "zips = [\"11218\", \"11385\", \"10001\", \"10453\", \"10301\"]\n",
        "\n",
        "# Generate sample data\n",
        "rows = []\n",
        "start_date = datetime(2025, 1, 1)  # Set a starting date for the sample data.\n",
        "for i in range(100):  # Generate 100 sample rows.\n",
        "    comp_type = choice(complaint_types)  # Randomly select a complaint type.\n",
        "    row = {  # Create a dictionary for each row.\n",
        "        \"Unique Key\": f\"1000{i:04d}\",  # Generate a unique key for each row.\n",
        "        \"Created Date\": (start_date + timedelta(minutes=randint(0, 100000))).strftime(\"%Y-%m-%d %H:%M:%S\"),  # Generate a random date and time.\n",
        "        \"Complaint Type\": comp_type,  # Add the complaint type.\n",
        "        \"Descriptor\": choice(descriptors[comp_type]),  # Randomly select a descriptor based on complaint type.\n",
        "        \"City\": choice(cities),  # Randomly select a city.\n",
        "        \"Incident Zip\": choice(zips)  # Randomly select a zip code.\n",
        "    }\n",
        "    rows.append(row)  # Append the row to the list of rows.\n",
        "\n",
        "# Write the sample data to a tab-separated .txt file\n",
        "output_file = \"data/raw/nyc_311_sample.txt\"\n",
        "with open(output_file, \"w\", encoding=\"utf-8\", newline=\"\") as f:  # Open the file in write mode.\n",
        "    writer = csv.DictWriter(f, fieldnames=rows[0].keys(), delimiter=\"\\t\")  # Create a csv writer object.\n",
        "    writer.writeheader()  # Write the header row.\n",
        "    writer.writerows(rows)  # Write the data rows.\n",
        "\n",
        "output_file  # Display the output file path (for confirmation).\n"
      ],
      "metadata": {
        "id": "ReKyxpTYHkT2",
        "colab": {
          "base_uri": "https://localhost:8080/",
          "height": 35
        },
        "outputId": "22e3e4be-1c47-470b-c4cb-ab5c858e0d8b"
      },
      "execution_count": 1,
      "outputs": [
        {
          "output_type": "execute_result",
          "data": {
            "text/plain": [
              "'data/raw/nyc_311_sample.txt'"
            ],
            "application/vnd.google.colaboratory.intrinsic+json": {
              "type": "string"
            }
          },
          "metadata": {},
          "execution_count": 1
        }
      ]
    },
    {
      "cell_type": "markdown",
      "source": [
        "#**1- Text Processing and String Manipulation**\n",
        "\n",
        "**Splitting text:** Master how to process text using string methods like split(), join(), strip(), and regular expressions.\n",
        "\n",
        "**Regular Expressions (Regex):**\n",
        " Learn how to use regex for pattern matching and extracting relevant information from text files (e.g., log file parsing, extracting specific data from unstructured text).\n",
        "\n",
        "Example: Extracting email addresses with regex"
      ],
      "metadata": {
        "id": "cMGXfvxhFPfR"
      }
    }
  ]
}